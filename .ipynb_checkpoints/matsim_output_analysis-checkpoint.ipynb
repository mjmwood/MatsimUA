{
 "cells": [
  {
   "cell_type": "markdown",
   "id": "4742189b",
   "metadata": {},
   "source": [
    "## Load in packages and data"
   ]
  },
  {
   "cell_type": "code",
   "execution_count": 1,
   "id": "457008bf",
   "metadata": {
    "tags": []
   },
   "outputs": [],
   "source": [
    "import numpy as np\n",
    "import pandas as pd\n",
    "# import geopandas as gpd\n",
    "import matplotlib.pyplot as plt\n",
    "import matsim_output_analysis as moa\n",
    "import operator"
   ]
  },
  {
   "cell_type": "code",
   "execution_count": 2,
   "id": "7693e6bb",
   "metadata": {
    "tags": []
   },
   "outputs": [],
   "source": [
    "df = pd.read_csv(r\"2000_sample.csv\") #using look3, ignoring some fields such as carCO2\n",
    "# df_spare = df #for resetting if needed"
   ]
  },
  {
   "cell_type": "code",
   "execution_count": 3,
   "id": "1ff12aed",
   "metadata": {
    "tags": []
   },
   "outputs": [
    {
     "name": "stdout",
     "output_type": "stream",
     "text": [
      "6.61 pc of people have a negative utility\n"
     ]
    }
   ],
   "source": [
    "# df = df_spare \n",
    "df = df[~df[\"subpopulation\"].isin([\"hgv\",\"lgv\",\"airport\", \"lgv_ev\"])] #choose only the actual people\n",
    "df[\"negative_utility_somewhere\"] = df.apply(lambda row: moa.neg_utility_somewhere(row), axis=1)\n",
    "x = (sum(df[\"negative_utility_somewhere\"])/len(df))*100\n",
    "print(str(round(x,2))+\" pc of people have a negative utility\")\n",
    "# df = df[df[\"negative_utility_somewhere\"]==0] # keep only positive utility people\n",
    "df=df[df[\"region\"]==\"East of England\"] #temporarily remove Londoners while I sort the road pricing out\n",
    "df = df.drop(\"negative_utility_somewhere\", axis=1)\n",
    "\n",
    "#TODO: decide how to handle negatives properly\n",
    "#TODO: add London back in once road pricing has been sorted"
   ]
  },
  {
   "cell_type": "code",
   "execution_count": 4,
   "id": "d1e2fd8c",
   "metadata": {
    "tags": []
   },
   "outputs": [],
   "source": [
    "#turn plan summaries into lists instead of long strings\n",
    "df['selected plan activity_type_or_mode'] = df['selected plan activity_type_or_mode'].str.split('; ')\n",
    "df['selected plan distance_travelled'] = df['selected plan distance_travelled'].str.split('; ')\n",
    "df['selected plan duration'] = df['selected plan duration'].str.split('; ')\n",
    "df['selected plan location'] = df['selected plan location'].str.split('; ')\n",
    "\n",
    "df['unselected plan (1) activity_type_or_mode'] = df['unselected plan (1) activity_type_or_mode'].str.split('; ')\n",
    "df['unselected plan (1) distance_travelled'] = df['unselected plan (1) distance_travelled'].str.split('; ')\n",
    "df['unselected plan (1) duration'] = df['unselected plan (1) duration'].str.split('; ')\n",
    "df['unselected plan (1) location'] = df['unselected plan (1) location'].str.split('; ')\n",
    "\n",
    "df['unselected plan (2) activity_type_or_mode'] = df['unselected plan (2) activity_type_or_mode'].str.split('; ')\n",
    "df['unselected plan (2) distance_travelled'] = df['unselected plan (2) distance_travelled'].str.split('; ')\n",
    "df['unselected plan (2) duration'] = df['unselected plan (2) duration'].str.split('; ')\n",
    "df['unselected plan (2) location'] = df['unselected plan (2) location'].str.split('; ')\n",
    "\n",
    "df['unselected plan (3) activity_type_or_mode'] = df['unselected plan (3) activity_type_or_mode'].str.split('; ')\n",
    "df['unselected plan (3) distance_travelled'] = df['unselected plan (3) distance_travelled'].str.split('; ')\n",
    "df['unselected plan (3) duration'] = df['unselected plan (3) duration'].str.split('; ')\n",
    "df['unselected plan (3) location'] = df['unselected plan (3) location'].str.split('; ')\n",
    "\n",
    "df['unselected plan (4) activity_type_or_mode'] = df['unselected plan (4) activity_type_or_mode'].str.split('; ')\n",
    "df['unselected plan (4) distance_travelled'] = df['unselected plan (4) distance_travelled'].str.split('; ')\n",
    "df['unselected plan (4) duration'] = df['unselected plan (4) duration'].str.split('; ')\n",
    "df['unselected plan (4) location'] = df['unselected plan (4) location'].str.split('; ')"
   ]
  },
  {
   "cell_type": "markdown",
   "id": "71291c18",
   "metadata": {},
   "source": [
    "## Remove \"pt interaction\" terms and all corresponding columns"
   ]
  },
  {
   "cell_type": "code",
   "execution_count": 5,
   "id": "9b7c77cd",
   "metadata": {
    "tags": []
   },
   "outputs": [],
   "source": [
    "#extract the indices of where pt interaction happens\n",
    "df['selected plan ptinteraction_indices'] = df['selected plan activity_type_or_mode'].apply(moa.get_ptinteraction_index)\n",
    "df['unselected plan (1) ptinteraction_indices'] = df['unselected plan (1) activity_type_or_mode'].apply(moa.get_ptinteraction_index)\n",
    "df['unselected plan (2) ptinteraction_indices'] = df['unselected plan (2) activity_type_or_mode'].apply(moa.get_ptinteraction_index)\n",
    "df['unselected plan (3) ptinteraction_indices'] = df['unselected plan (3) activity_type_or_mode'].apply(moa.get_ptinteraction_index)\n",
    "df['unselected plan (4) ptinteraction_indices'] = df['unselected plan (4) activity_type_or_mode'].apply(moa.get_ptinteraction_index)"
   ]
  },
  {
   "cell_type": "code",
   "execution_count": 6,
   "id": "f4d3bd09",
   "metadata": {
    "tags": []
   },
   "outputs": [],
   "source": [
    "#remove the pt interaction activities\n",
    "df['selected plan activity_type_or_mode'] = df.apply(lambda row: moa.remove_ptinteraction(row['selected plan ptinteraction_indices'], row['selected plan activity_type_or_mode']), axis=1)\n",
    "df['unselected plan (1) activity_type_or_mode'] = df.apply(lambda row: moa.remove_ptinteraction(row['unselected plan (1) ptinteraction_indices'], row['unselected plan (1) activity_type_or_mode']), axis=1)\n",
    "df['unselected plan (2) activity_type_or_mode'] = df.apply(lambda row: moa.remove_ptinteraction(row['unselected plan (2) ptinteraction_indices'], row['unselected plan (2) activity_type_or_mode']), axis=1)\n",
    "df['unselected plan (3) activity_type_or_mode'] = df.apply(lambda row: moa.remove_ptinteraction(row['unselected plan (3) ptinteraction_indices'], row['unselected plan (3) activity_type_or_mode']), axis=1)\n",
    "df['unselected plan (4) activity_type_or_mode'] = df.apply(lambda row: moa.remove_ptinteraction(row['unselected plan (4) ptinteraction_indices'], row['unselected plan (4) activity_type_or_mode']), axis=1)"
   ]
  },
  {
   "cell_type": "code",
   "execution_count": 7,
   "id": "3dc38884",
   "metadata": {
    "tags": []
   },
   "outputs": [],
   "source": [
    "#remove the correspinding pt interaction durations\n",
    "df['selected plan duration'] = df.apply(lambda row: moa.remove_ptinteraction(row['selected plan ptinteraction_indices'], row['selected plan duration']), axis=1)\n",
    "df['unselected plan (1) duration'] = df.apply(lambda row: moa.remove_ptinteraction(row['unselected plan (1) ptinteraction_indices'], row['unselected plan (1) duration']), axis=1)\n",
    "df['unselected plan (2) duration'] = df.apply(lambda row: moa.remove_ptinteraction(row['unselected plan (2) ptinteraction_indices'], row['unselected plan (2) duration']), axis=1)\n",
    "df['unselected plan (3) duration'] = df.apply(lambda row: moa.remove_ptinteraction(row['unselected plan (3) ptinteraction_indices'], row['unselected plan (3) duration']), axis=1)\n",
    "df['unselected plan (4) duration'] = df.apply(lambda row: moa.remove_ptinteraction(row['unselected plan (4) ptinteraction_indices'], row['unselected plan (4) duration']), axis=1)"
   ]
  },
  {
   "cell_type": "code",
   "execution_count": 8,
   "id": "29164fe5",
   "metadata": {
    "tags": []
   },
   "outputs": [],
   "source": [
    "#remove the correspinding pt interaction locations\n",
    "df['selected plan location'] = df.apply(lambda row: moa.remove_ptinteraction(row['selected plan ptinteraction_indices'], row['selected plan location']), axis=1)\n",
    "df['unselected plan (1) location'] = df.apply(lambda row: moa.remove_ptinteraction(row['unselected plan (1) ptinteraction_indices'], row['unselected plan (1) location']), axis=1)\n",
    "df['unselected plan (2) location'] = df.apply(lambda row: moa.remove_ptinteraction(row['unselected plan (2) ptinteraction_indices'], row['unselected plan (2) location']), axis=1)\n",
    "df['unselected plan (3) location'] = df.apply(lambda row: moa.remove_ptinteraction(row['unselected plan (3) ptinteraction_indices'], row['unselected plan (3) location']), axis=1)\n",
    "df['unselected plan (4) location'] = df.apply(lambda row: moa.remove_ptinteraction(row['unselected plan (4) ptinteraction_indices'], row['unselected plan (4) location']), axis=1)"
   ]
  },
  {
   "cell_type": "code",
   "execution_count": 9,
   "id": "15469c47",
   "metadata": {
    "tags": []
   },
   "outputs": [],
   "source": [
    "#remove the correspinding pt interaction distance travelled\n",
    "df['selected plan distance_travelled'] = df.apply(lambda row: moa.remove_ptinteraction(row['selected plan ptinteraction_indices'], row['selected plan distance_travelled']), axis=1)\n",
    "df['unselected plan (1) distance_travelled'] = df.apply(lambda row: moa.remove_ptinteraction(row['unselected plan (1) ptinteraction_indices'], row['unselected plan (1) distance_travelled']), axis=1)\n",
    "df['unselected plan (2) distance_travelled'] = df.apply(lambda row: moa.remove_ptinteraction(row['unselected plan (2) ptinteraction_indices'], row['unselected plan (2) distance_travelled']), axis=1)\n",
    "df['unselected plan (3) distance_travelled'] = df.apply(lambda row: moa.remove_ptinteraction(row['unselected plan (3) ptinteraction_indices'], row['unselected plan (3) distance_travelled']), axis=1)\n",
    "df['unselected plan (4) distance_travelled'] = df.apply(lambda row: moa.remove_ptinteraction(row['unselected plan (4) ptinteraction_indices'], row['unselected plan (4) distance_travelled']), axis=1)"
   ]
  },
  {
   "cell_type": "code",
   "execution_count": 10,
   "id": "5998548f",
   "metadata": {
    "tags": []
   },
   "outputs": [],
   "source": [
    "#clean  up table and remove indices\n",
    "df = df.drop([\"selected plan ptinteraction_indices\",\"unselected plan (1) ptinteraction_indices\",\"unselected plan (2) ptinteraction_indices\",\"unselected plan (3) ptinteraction_indices\",\"unselected plan (4) ptinteraction_indices\"], axis=1)"
   ]
  },
  {
   "cell_type": "markdown",
   "id": "52b8c7c7",
   "metadata": {},
   "source": [
    "## Check basic stuff of plans e.g., wraparound, end of day, longest legs"
   ]
  },
  {
   "cell_type": "code",
   "execution_count": 11,
   "id": "365e682a",
   "metadata": {
    "tags": []
   },
   "outputs": [
    {
     "name": "stdout",
     "output_type": "stream",
     "text": [
      "91.37 pc of people have a wraparound plan\n"
     ]
    }
   ],
   "source": [
    "#check if plans wraparound (just check for selected plan)\n",
    "df[\"wraparound\"] = df[\"selected plan activity_type_or_mode\"].apply(lambda x: 1 if x[0]==x[-1] else 0)\n",
    "x = sum(df[\"wraparound\"])/len(df) * 100\n",
    "print(str(round(x, 2))+\" pc of people have a wraparound plan\")\n",
    "# df = df.drop(\"wraparound\", axis=1)\n",
    "\n",
    "#TODO: should we only keep wraparound plans??"
   ]
  },
  {
   "cell_type": "code",
   "execution_count": 12,
   "id": "037cc797",
   "metadata": {
    "tags": []
   },
   "outputs": [
    {
     "name": "stdout",
     "output_type": "stream",
     "text": [
      "25:31:00 is the latest end of final activity\n",
      "22:36:39 is the earliest end of final activity\n"
     ]
    }
   ],
   "source": [
    "#check what time the last activity ends (just check for selected plan). should be less than 32 hours\n",
    "df[\"eod_time\"] = df[\"selected plan duration\"].apply(lambda x: x[-1])\n",
    "print(str(max(df[\"eod_time\"]))+\" is the latest end of final activity\")\n",
    "print(str(min(df[\"eod_time\"]))+\" is the earliest end of final activity\")\n",
    "df = df.drop(\"eod_time\", axis=1)"
   ]
  },
  {
   "cell_type": "code",
   "execution_count": 13,
   "id": "23c9e49b",
   "metadata": {
    "tags": []
   },
   "outputs": [
    {
     "name": "stdout",
     "output_type": "stream",
     "text": [
      "['35:59:17', '35:59:17', '35:12:41', '35:12:41'] is the longest leg recorded\n"
     ]
    }
   ],
   "source": [
    "#check how long the longest leg of a trip is\n",
    "df[\"legs_indices\"] = df[\"selected plan activity_type_or_mode\"].apply(moa.get_trips_indices_only)\n",
    "df[\"activities_indices\"] = df[\"selected plan activity_type_or_mode\"].apply(moa.get_activities_indices_only)\n",
    "df[\"selected plan leg_durations\"] = df.apply(lambda row: moa.get_trips_duration_or_mode(row[\"legs_indices\"], row[\"selected plan duration\"]), axis=1)\n",
    "df[\"selected plan activity_durations\"] = df.apply(lambda row: moa.get_trips_duration_or_mode(row[\"activities_indices\"], row[\"selected plan duration\"]), axis=1)\n",
    "\n",
    "print(str(max(df[\"selected plan leg_durations\"]))+\" is the longest leg recorded\")"
   ]
  },
  {
   "cell_type": "code",
   "execution_count": 14,
   "id": "1e4f13fa",
   "metadata": {
    "tags": []
   },
   "outputs": [
    {
     "data": {
      "text/plain": [
       "Text(0.5, 1.0, 'mean utility per year')"
      ]
     },
     "execution_count": 14,
     "metadata": {},
     "output_type": "execute_result"
    },
    {
     "data": {
      "image/png": "[encoded data removed]",
      "text/plain": [
       "<Figure size 640x480 with 1 Axes>"
      ]
     },
     "metadata": {},
     "output_type": "display_data"
    }
   ],
   "source": [
    "#check how utility changes over time - mean\n",
    "df2 = df[[\"surveyyear\", \"selected plan utility\"]]\n",
    "df2 = df2.groupby('surveyyear', as_index=False).mean()\n",
    "plt.plot(df2[\"surveyyear\"], df2[\"selected plan utility\"])\n",
    "plt.title(\"mean utility per year\")"
   ]
  },
  {
   "cell_type": "code",
   "execution_count": 15,
   "id": "eb15eafa",
   "metadata": {
    "tags": []
   },
   "outputs": [
    {
     "data": {
      "text/plain": [
       "Text(0.5, 1.0, 'median utility per year (including negative)')"
      ]
     },
     "execution_count": 15,
     "metadata": {},
     "output_type": "execute_result"
    },
    {
     "data": {
      "image/png": "[encoded data removed]",
      "text/plain": [
       "<Figure size 640x480 with 1 Axes>"
      ]
     },
     "metadata": {},
     "output_type": "display_data"
    }
   ],
   "source": [
    "#check how utility changes over time - median\n",
    "df2 = df[[\"surveyyear\", \"selected plan utility\"]]\n",
    "df2 = df2.groupby('surveyyear', as_index=False).median()\n",
    "plt.plot(df2[\"surveyyear\"], df2[\"selected plan utility\"])\n",
    "plt.title(\"median utility per year (including negative)\")"
   ]
  },
  {
   "cell_type": "markdown",
   "id": "2e3d7d79-732d-4a80-84a6-f702111e75e4",
   "metadata": {},
   "source": [
    "## Calculating utility components"
   ]
  },
  {
   "cell_type": "markdown",
   "id": "7e367894-1262-422e-b337-e34a57eaafec",
   "metadata": {},
   "source": [
    "Travel utility"
   ]
  },
  {
   "cell_type": "code",
   "execution_count": 17,
   "id": "8a7a541e-6d12-4a18-8dc3-7da647931977",
   "metadata": {
    "tags": []
   },
   "outputs": [],
   "source": [
    "# 1. Get the trips out \n",
    "df[\"selected plan trips\"] = df.apply(lambda row: moa.group_legs_into_trips(row[\"selected plan activity_type_or_mode\"], row[\"activities_indices\"]), axis=1)\n",
    "df[\"unselected plan (1) trips\"] = df.apply(lambda row: moa.group_legs_into_trips(row[\"unselected plan (1) activity_type_or_mode\"], row[\"activities_indices\"]), axis=1)\n",
    "df[\"unselected plan (2) trips\"] = df.apply(lambda row: moa.group_legs_into_trips(row[\"unselected plan (2) activity_type_or_mode\"], row[\"activities_indices\"]), axis=1)\n",
    "df[\"unselected plan (3) trips\"] = df.apply(lambda row: moa.group_legs_into_trips(row[\"unselected plan (3) activity_type_or_mode\"], row[\"activities_indices\"]), axis=1)\n",
    "df[\"unselected plan (4) trips\"] = df.apply(lambda row: moa.group_legs_into_trips(row[\"unselected plan (4) activity_type_or_mode\"], row[\"activities_indices\"]), axis=1)"
   ]
  },
  {
   "cell_type": "code",
   "execution_count": 18,
   "id": "a64da53b-fef6-4004-96fe-86f600b974d4",
   "metadata": {
    "tags": []
   },
   "outputs": [],
   "source": [
    "# 1. Keep corresponding trip durations and distances\n",
    "df[\"selected plan trips_duration\"] = df.apply(lambda row: moa.group_legs_into_trips_d(row[\"selected plan duration\"], row[\"activities_indices\"], \"duration\"), axis=1)\n",
    "df[\"unselected plan (1) trips_duration\"] = df.apply(lambda row: moa.group_legs_into_trips_d(row[\"unselected plan (1) duration\"], row[\"activities_indices\"], \"duration\"), axis=1)\n",
    "df[\"unselected plan (2) trips_duration\"] = df.apply(lambda row: moa.group_legs_into_trips_d(row[\"unselected plan (2) duration\"], row[\"activities_indices\"], \"duration\"), axis=1)\n",
    "df[\"unselected plan (3) trips_duration\"] = df.apply(lambda row: moa.group_legs_into_trips_d(row[\"unselected plan (3) duration\"], row[\"activities_indices\"], \"duration\"), axis=1)\n",
    "df[\"unselected plan (4) trips_duration\"] = df.apply(lambda row: moa.group_legs_into_trips_d(row[\"unselected plan (4) duration\"], row[\"activities_indices\"], \"duration\"), axis=1)\n",
    "\n",
    "df[\"selected plan trips_distance\"] = df.apply(lambda row: moa.group_legs_into_trips_d(row[\"selected plan distance_travelled\"], row[\"activities_indices\"], \"distance\"), axis=1)\n",
    "df[\"unselected plan (1) trips_distance\"] = df.apply(lambda row: moa.group_legs_into_trips_d(row[\"unselected plan (1) distance_travelled\"], row[\"activities_indices\"], \"distance\"), axis=1)\n",
    "df[\"unselected plan (2) trips_distance\"] = df.apply(lambda row: moa.group_legs_into_trips_d(row[\"unselected plan (2) distance_travelled\"], row[\"activities_indices\"], \"distance\"), axis=1)\n",
    "df[\"unselected plan (3) trips_distance\"] = df.apply(lambda row: moa.group_legs_into_trips_d(row[\"unselected plan (3) distance_travelled\"], row[\"activities_indices\"], \"distance\"), axis=1)\n",
    "df[\"unselected plan (4) trips_distance\"] = df.apply(lambda row: moa.group_legs_into_trips_d(row[\"unselected plan (4) distance_travelled\"], row[\"activities_indices\"], \"distance\"), axis=1)"
   ]
  },
  {
   "cell_type": "code",
   "execution_count": 19,
   "id": "08954b32-9a5d-4b56-9471-f942cea7afe0",
   "metadata": {
    "tags": []
   },
   "outputs": [],
   "source": [
    "df[\"calculated_travel_utility\"] = df.apply(lambda row: moa.calculate_travel_utility(row[\"selected plan trips\"], row[\"selected plan trips_duration\"], row[\"selected plan trips_distance\"], row[\"subpopulation\"]), axis=1)"
   ]
  },
  {
   "cell_type": "markdown",
   "id": "edbb8877-62ec-438f-a702-aff2b23ab7f2",
   "metadata": {},
   "source": [
    "Activity utility"
   ]
  },
  {
   "cell_type": "code",
   "execution_count": 20,
   "id": "747ed1f3-7293-4315-ab52-743ac449f368",
   "metadata": {
    "tags": []
   },
   "outputs": [],
   "source": [
    "# just for initial sense checking, see if the calcs work for \"well behaved\" agents, ie those who DO wraparound and have positive utility\n",
    "df_wellbehaved = df[df[\"selected plan utility\"]>0]\n",
    "df_wellbehaved = df_wellbehaved[df_wellbehaved[\"wraparound\"]==1]"
   ]
  },
  {
   "cell_type": "code",
   "execution_count": 21,
   "id": "3c5039c0-961d-4383-a9a9-2b75fe071f83",
   "metadata": {
    "tags": []
   },
   "outputs": [],
   "source": [
    "def get_activity_durations(activity_indices, all_durations, all_activities_trips):\n",
    "    activity_start_times = []\n",
    "    activity_end_times = []\n",
    "    all_durations = pd.to_timedelta(all_durations, errors=\"coerce\").seconds\n",
    "\n",
    "    for i in range(len(activity_indices)):\n",
    "        activity_end_times.append(all_durations[activity_indices[i]])\n",
    "        if activity_indices[i]==0:\n",
    "            tempStart = 0\n",
    "        else:\n",
    "            prevEndTime = all_durations[activity_indices[i-1]]\n",
    "            x1 = activity_indices[i-1]+1\n",
    "            x2 = activity_indices[i]\n",
    "            tempStart = prevEndTime+sum(all_durations[x1:x2])  \n",
    "        activity_start_times.append(tempStart)\n",
    "    # print(\"start: \"+str(activity_start_times))\n",
    "    # print(\"end: \"+str(activity_end_times))\n",
    "    \n",
    "    for i in range(1, len(activity_end_times)):\n",
    "        if activity_end_times[i] < activity_end_times[i-1]:\n",
    "            activity_end_times[i] += 24*3600  #account for wraparound\n",
    "    # print(\"end new: \"+str(activity_end_times))\n",
    "   \n",
    "    activity_durations = list(map(operator.sub, list(activity_end_times), list(activity_start_times)))\n",
    "   \n",
    "    if all_activities_trips[0] == all_activities_trips[-1]:\n",
    "        activity_durations[0]=activity_durations[0]+((24*3600)-activity_start_times[-1]) #make it wrap around to midnight\n",
    "        activity_durations.pop() #remove last activity duration as it has been included in the frist activity\n",
    "    \n",
    "    for k in range(len(activity_durations)):\n",
    "        if activity_durations[k]== 0:\n",
    "            activity_durations[k] = 1e-5\n",
    "    \n",
    "    return(activity_durations)     \n",
    "\n",
    "# TODO: account for non-wraparound effect - HOW DOES THIS WORK\n",
    "# TODO: when accounting for wraparound effect the final \"end time\" is basically ignored - is this ok?\n",
    "# TODO: account for if someone arrives after departure -> what to do? check experienced plans?\n",
    "# TODO: cutoff when not achieving full activity plan - up to 32 hours / journey longer than expected departure"
   ]
  },
  {
   "cell_type": "code",
   "execution_count": 22,
   "id": "8a1fec9d-d4ff-43a5-baa6-7cf0c2fc3dbc",
   "metadata": {
    "tags": []
   },
   "outputs": [],
   "source": [
    "def get_activity_durations_terrible(activity_indices, all_durations):\n",
    "    activity_start_times = []\n",
    "    activity_end_times = []\n",
    "    all_durations = pd.to_timedelta(all_durations, errors=\"coerce\").seconds\n",
    "\n",
    "    arrive_after_start = 0\n",
    "\n",
    "    for i in range(len(activity_indices)):\n",
    "        activity_end_times.append(all_durations[activity_indices[i]])\n",
    "        if activity_indices[i]==0:\n",
    "            tempStart = 0\n",
    "        else:\n",
    "            prevEndTime = all_durations[activity_indices[i-1]]\n",
    "            x1 = activity_indices[i-1]+1\n",
    "            x2 = activity_indices[i]\n",
    "            tempStart = prevEndTime+sum(all_durations[x1:x2])  \n",
    "        activity_start_times.append(tempStart)\n",
    "    # print(\"start: \"+str(activity_start_times))\n",
    "    # print(\"end: \"+str(activity_end_times))\n",
    "    \n",
    "    for i in range(1, len(activity_end_times)):\n",
    "        if activity_end_times[i] < activity_end_times[i-1]:\n",
    "            activity_end_times[i] += 24*3600  #account for wraparound\n",
    "    # print(\"end new: \"+str(activity_end_times))\n",
    "\n",
    "    for i in range(len(activity_start_times)):\n",
    "        if activity_start_times[i]>activity_end_times[i]:\n",
    "            arrive_after_start += 1\n",
    "    \n",
    "    return(arrive_after_start)     \n",
    "#run this across population and examine the experienced plans for any with an output > 0"
   ]
  },
  {
   "cell_type": "code",
   "execution_count": 23,
   "id": "63cc804d-6065-450c-8f25-2b248c4a4137",
   "metadata": {
    "tags": []
   },
   "outputs": [],
   "source": [
    "def calculate_activity_utility(activities, durations):\n",
    "    utilities = []\n",
    "    # betaEarly = 0\n",
    "    # betaLate = 0\n",
    "    betaPerf = 10\n",
    "    # betaWait = 0\n",
    "    # betaShort = 0\n",
    "    prio = 1\n",
    "    durations = [a/3600 for a in durations]  #put it back into hours\n",
    "    if activities[-1] == activities[0]:\n",
    "        activities.pop() #remove the last activity for wraparound\n",
    "    for i in range(len(activities)):\n",
    "        # print(activities[i])\n",
    "        # print(durations[i])\n",
    "        STotal = 0\n",
    "        match activities[i]:\n",
    "            case \"home\":\n",
    "                tMin = 1\n",
    "                tTyp = 10\n",
    "            case \"work\":\n",
    "                tMin = 6\n",
    "                tTyp = 9\n",
    "            case \"other\":\n",
    "                tMin = 1/6\n",
    "                tTyp = 0.5\n",
    "            case \"shop\": \n",
    "                tMin = 0.5\n",
    "                tTyp = 0.5\n",
    "            case \"education\":\n",
    "                tMin = 6\n",
    "                tTyp = 6\n",
    "            case \"visit\":\n",
    "                tMin = 0.5\n",
    "                tTyp = 2\n",
    "            case \"medical\":\n",
    "                tMin = 0.5\n",
    "                tTyp = 1\n",
    "            case \"business\":\n",
    "                tMin = 0.5\n",
    "                tTyp = 1\n",
    "            case \"escort_home\":\n",
    "                tMin = 1/12\n",
    "                tTyp = 1/12\n",
    "            case \"escort_work\":\n",
    "                tMin = 1/12\n",
    "                tTyp = 1/12\n",
    "            case \"escort_business\":\n",
    "                tMin = 1/12\n",
    "                tTyp = 1/12\n",
    "            case \"escort_education\":\n",
    "                tMin = 1/12\n",
    "                tTyp = 1/12\n",
    "            case \"escort_other\":\n",
    "                tMin = 1/12\n",
    "                tTyp = 1/12\n",
    "            case \"escort_shop\":\n",
    "                tMin = 1/12\n",
    "                tTyp = 1/12      \n",
    "            case _:\n",
    "                print(\"dodgy activity type\")\n",
    "                tMin = np.nan\n",
    "                tTyp = np.nan\n",
    "        # print(\"tTyp: \"+str(tTyp))\n",
    "        t0 = tTyp*np.exp(-1/prio)\n",
    "        # print(\"t0: \"+str(t0))\n",
    "        SDur = betaPerf*tTyp*np.log(durations[i]/t0)\n",
    "        SWait = 0 #since betaWait is zero. Otherwise, will need to encode open/close times for activities to find out how long waiting       \n",
    "        SLate = 0 #since betaLate is zero. Otherwise, will need to encode latest start times for activities to find out how late   \n",
    "        SEarly = 0 #since betaEarly is zero. Otherwise, will need to encode earliest end times for activities to find out how early   \n",
    "        SShort = 0 #since betaEarly is zero/undefined. Otherwise, will need to use shortesr durations for activities to find out if too short   \n",
    "        STotal_temp = SDur + SWait + SLate + SEarly + SShort\n",
    "        STotal += STotal_temp\n",
    "        # print(\"STotal: \"+str(STotal))\n",
    "        utilities.append(STotal)\n",
    "    return utilities"
   ]
  },
  {
   "cell_type": "code",
   "execution_count": 24,
   "id": "4780c380-65f4-4b57-8314-2e7e05d8b1f5",
   "metadata": {
    "tags": []
   },
   "outputs": [],
   "source": [
    "def get_activities(activity_modes, activity_indices):\n",
    "    activities = []\n",
    "    for i in activity_indices:\n",
    "        activities.append(activity_modes[i])\n",
    "    return activities"
   ]
  },
  {
   "cell_type": "code",
   "execution_count": 25,
   "id": "d782fb9b-4d1b-4b58-8de4-3c4878c76297",
   "metadata": {
    "tags": []
   },
   "outputs": [],
   "source": [
    "df_wellbehaved[\"activity_durations\"] = df_wellbehaved.apply(lambda row: get_activity_durations(row[\"activities_indices\"], row[\"selected plan duration\"], row[\"selected plan activity_type_or_mode\"]), axis=1)"
   ]
  },
  {
   "cell_type": "code",
   "execution_count": 26,
   "id": "102394c9-5319-4aa4-ab8d-6da1d5946ece",
   "metadata": {
    "tags": []
   },
   "outputs": [],
   "source": [
    "df_wellbehaved[\"selected plan activities\"] = df_wellbehaved.apply(lambda row: get_activities(row[\"selected plan activity_type_or_mode\"], row[\"activities_indices\"]), axis=1)"
   ]
  },
  {
   "cell_type": "code",
   "execution_count": 27,
   "id": "40b785a7-3cc0-4c35-b797-9f99a56d0348",
   "metadata": {
    "tags": []
   },
   "outputs": [
    {
     "name": "stderr",
     "output_type": "stream",
     "text": [
      "C:\\Users\\maria\\AppData\\Local\\Temp\\ipykernel_15668\\2073237560.py:66: RuntimeWarning: invalid value encountered in log\n",
      "  SDur = betaPerf*tTyp*np.log(durations[i]/t0)\n"
     ]
    }
   ],
   "source": [
    "df_wellbehaved[\"calculated_activity_utility\"] = df_wellbehaved.apply(lambda row: calculate_activity_utility(row[\"selected plan activities\"], row[\"activity_durations\"]), axis=1)"
   ]
  },
  {
   "cell_type": "code",
   "execution_count": 28,
   "id": "1dff7934-66d0-41d4-b1c6-a36d7c887b36",
   "metadata": {
    "tags": []
   },
   "outputs": [
    {
     "name": "stdout",
     "output_type": "stream",
     "text": [
      "0                                          [52802, 31672]\n",
      "1                                    [68158, 14396, 2513]\n",
      "2                                          [60924, 23723]\n",
      "3                                          [41409, 43533]\n",
      "4                                          [70991, 14765]\n",
      "                              ...                        \n",
      "1995                                       [72932, 11590]\n",
      "1996                          [32262, 30272, 17883, 5064]\n",
      "1997    [27090, 17741, 85742, 97452, 94330, 88947, 973...\n",
      "1998          [56599, 1390, 1627, 4053, 3317, 3022, 4754]\n",
      "1999                           [44387, 30078, 1494, 4657]\n",
      "Name: activity_durations, Length: 1356, dtype: object\n"
     ]
    }
   ],
   "source": [
    "print(df_wellbehaved[\"activity_durations\"])"
   ]
  },
  {
   "cell_type": "markdown",
   "id": "607c7182",
   "metadata": {},
   "source": [
    "## Whole plan modal flexibility"
   ]
  },
  {
   "cell_type": "markdown",
   "id": "ce2f092d",
   "metadata": {
    "jupyter": {
     "source_hidden": true
    },
    "tags": []
   },
   "source": [
    "This requires the function to choose only the longest leg per trip and use that as a proxy for simplicity. Then compare the plan's set of main modes across plans and compare this to utility change across plans. Completed in old code setup. Skipped for now here. "
   ]
  },
  {
   "cell_type": "markdown",
   "id": "379979a4",
   "metadata": {},
   "source": [
    "## Trip-based modal flexibility"
   ]
  },
  {
   "cell_type": "markdown",
   "id": "ae11181e",
   "metadata": {},
   "source": [
    "Here we can unpick the utility function and compare utility for a person for a given trip. We can look at either a given trip number (e.g., first trip of the day), the longest (distance) trip, a given trip purpose (e.g., travel to work), or get a composite across the whole day (complex!!). We can also look at just the longest leg of the trip for simplicity or look at the total set of legs together. To do this well, we need to understand the config files properly though - **AGH**."
   ]
  },
  {
   "cell_type": "markdown",
   "id": "d52cac36",
   "metadata": {},
   "source": [
    "### First trip of the day, combining all legs"
   ]
  },
  {
   "cell_type": "markdown",
   "id": "c9e0fa89",
   "metadata": {},
   "source": [
    "1. Separate out the trips and choose the first (for each plan)\n",
    "2. Find the change in mode by comparing the whole combination of modes -> check, this might be problematic and we may need to revert to looking at main mode (by distance) for this step\n",
    "3. Calculate the utility lost for each leg and sum to find utility of trip. For each plan\n",
    "4. Find the change in utility across plans\n",
    "5. Find the flexibility by comparing change in mode to change in plans"
   ]
  }
 ],
 "metadata": {
  "kernelspec": {
   "display_name": "Python 3 (ipykernel)",
   "language": "python",
   "name": "python3"
  },
  "language_info": {
   "codemirror_mode": {
    "name": "ipython",
    "version": 3
   },
   "file_extension": ".py",
   "mimetype": "text/x-python",
   "name": "python",
   "nbconvert_exporter": "python",
   "pygments_lexer": "ipython3",
   "version": "3.11.5"
  }
 },
 "nbformat": 4,
 "nbformat_minor": 5
}
