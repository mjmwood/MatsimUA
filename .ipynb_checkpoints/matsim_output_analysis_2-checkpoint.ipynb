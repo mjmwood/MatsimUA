{
 "cells": [
  {
   "cell_type": "markdown",
   "id": "4742189b",
   "metadata": {},
   "source": [
    "## Load in packages and data"
   ]
  },
  {
   "cell_type": "code",
   "execution_count": null,
   "id": "457008bf",
   "metadata": {},
   "outputs": [],
   "source": [
    "import numpy as np\n",
    "import pandas as pd\n",
    "# import geopandas as gpd\n",
    "import matplotlib.pyplot as plt\n",
    "import matsim_output_analysis as moa\n",
    "import operator"
   ]
  },
  {
   "cell_type": "code",
   "execution_count": null,
   "id": "7693e6bb",
   "metadata": {},
   "outputs": [],
   "source": [
    "df = pd.read_csv(r\"2000_sample_formatted.csv\") "
   ]
  },
  {
   "cell_type": "markdown",
   "id": "ce22caae",
   "metadata": {},
   "source": [
    "## Calculating utility components"
   ]
  },
  {
   "cell_type": "markdown",
   "id": "205d7783",
   "metadata": {},
   "source": [
    "Travel components"
   ]
  },
  {
   "cell_type": "code",
   "execution_count": null,
   "id": "4e95e5b8",
   "metadata": {},
   "outputs": [],
   "source": [
    "# 1. Get the trips out \n",
    "df[\"selected plan trips\"] = df.apply(lambda row: moa.group_legs_into_trips(row[\"selected plan activity_type_or_mode\"], row[\"activities_indices\"]), axis=1)\n",
    "df[\"unselected plan (1) trips\"] = df.apply(lambda row: moa.group_legs_into_trips(row[\"unselected plan (1) activity_type_or_mode\"], row[\"activities_indices\"]), axis=1)\n",
    "df[\"unselected plan (2) trips\"] = df.apply(lambda row: moa.group_legs_into_trips(row[\"unselected plan (2) activity_type_or_mode\"], row[\"activities_indices\"]), axis=1)\n",
    "df[\"unselected plan (3) trips\"] = df.apply(lambda row: moa.group_legs_into_trips(row[\"unselected plan (3) activity_type_or_mode\"], row[\"activities_indices\"]), axis=1)\n",
    "df[\"unselected plan (4) trips\"] = df.apply(lambda row: moa.group_legs_into_trips(row[\"unselected plan (4) activity_type_or_mode\"], row[\"activities_indices\"]), axis=1)"
   ]
  },
  {
   "cell_type": "code",
   "execution_count": null,
   "id": "556e1f36",
   "metadata": {},
   "outputs": [],
   "source": [
    "# 1. Keep corresponding trip durations and distances\n",
    "df[\"selected plan trips_duration\"] = df.apply(lambda row: moa.group_legs_into_trips_d(row[\"selected plan duration\"], row[\"activities_indices\"], \"duration\"), axis=1)\n",
    "df[\"unselected plan (1) trips_duration\"] = df.apply(lambda row: moa.group_legs_into_trips_d(row[\"unselected plan (1) duration\"], row[\"activities_indices\"], \"duration\"), axis=1)\n",
    "df[\"unselected plan (2) trips_duration\"] = df.apply(lambda row: moa.group_legs_into_trips_d(row[\"unselected plan (2) duration\"], row[\"activities_indices\"], \"duration\"), axis=1)\n",
    "df[\"unselected plan (3) trips_duration\"] = df.apply(lambda row: moa.group_legs_into_trips_d(row[\"unselected plan (3) duration\"], row[\"activities_indices\"], \"duration\"), axis=1)\n",
    "df[\"unselected plan (4) trips_duration\"] = df.apply(lambda row: moa.group_legs_into_trips_d(row[\"unselected plan (4) duration\"], row[\"activities_indices\"], \"duration\"), axis=1)\n",
    "\n",
    "df[\"selected plan trips_distance\"] = df.apply(lambda row: moa.group_legs_into_trips_d(row[\"selected plan distance_travelled\"], row[\"activities_indices\"], \"distance\"), axis=1)\n",
    "df[\"unselected plan (1) trips_distance\"] = df.apply(lambda row: moa.group_legs_into_trips_d(row[\"unselected plan (1) distance_travelled\"], row[\"activities_indices\"], \"distance\"), axis=1)\n",
    "df[\"unselected plan (2) trips_distance\"] = df.apply(lambda row: moa.group_legs_into_trips_d(row[\"unselected plan (2) distance_travelled\"], row[\"activities_indices\"], \"distance\"), axis=1)\n",
    "df[\"unselected plan (3) trips_distance\"] = df.apply(lambda row: moa.group_legs_into_trips_d(row[\"unselected plan (3) distance_travelled\"], row[\"activities_indices\"], \"distance\"), axis=1)\n",
    "df[\"unselected plan (4) trips_distance\"] = df.apply(lambda row: moa.group_legs_into_trips_d(row[\"unselected plan (4) distance_travelled\"], row[\"activities_indices\"], \"distance\"), axis=1)"
   ]
  },
  {
   "cell_type": "code",
   "execution_count": null,
   "id": "6c19f459",
   "metadata": {},
   "outputs": [],
   "source": [
    "df[\"calculated_travel_utility\"] = df.apply(lambda row: moa.calculate_travel_utility(row[\"selected plan trips\"], row[\"selected plan trips_duration\"], row[\"selected plan trips_distance\"], row[\"subpopulation\"]), axis=1)"
   ]
  },
  {
   "cell_type": "markdown",
   "id": "0e60709f",
   "metadata": {},
   "source": [
    "Activity utility"
   ]
  },
  {
   "cell_type": "markdown",
   "id": "ab32ced4",
   "metadata": {},
   "source": [
    "look at overall times column. start time of activity i = end time of activity i-1 + sum of times between them\n",
    "so"
   ]
  },
  {
   "cell_type": "code",
   "execution_count": null,
   "id": "a28026e9",
   "metadata": {},
   "outputs": [],
   "source": [
    "# just for initial sense checking, see if the calcs work for \"well behaved\" agents, ie those who DO wraparound and have positive utility\n",
    "df_wellbehaved = df[df[\"selected plan utility\"]>0]\n",
    "df_wellbehaved = df_wellbehaved[df_wellbehaved[\"wraparound\"]==1]"
   ]
  },
  {
   "cell_type": "code",
   "execution_count": null,
   "id": "c822603e",
   "metadata": {},
   "outputs": [],
   "source": [
    "def get_activity_durations(activity_indices, all_durations, all_activities_trips):\n",
    "    activity_start_times = []\n",
    "    activity_end_times = []\n",
    "    all_durations = pd.to_timedelta(all_durations, errors=\"coerce\").seconds\n",
    "\n",
    "    for i in range(len(activity_indices)):\n",
    "        activity_end_times.append(all_durations[activity_indices[i]])\n",
    "        if activity_indices[i]==0:\n",
    "            tempStart = 0\n",
    "        else:\n",
    "            prevEndTime = all_durations[activity_indices[i-1]]\n",
    "            x1 = activity_indices[i-1]+1\n",
    "            x2 = activity_indices[i]\n",
    "            tempStart = prevEndTime+sum(all_durations[x1:x2])  \n",
    "        activity_start_times.append(tempStart)\n",
    "    # print(\"start: \"+str(activity_start_times))\n",
    "    # print(\"end: \"+str(activity_end_times))\n",
    "    \n",
    "    for i in range(1, len(activity_end_times)):\n",
    "        if activity_end_times[i] < activity_end_times[i-1]:\n",
    "            activity_end_times[i] += 24*3600  #account for wraparound\n",
    "    # print(\"end new: \"+str(activity_end_times))\n",
    "   \n",
    "    activity_durations = list(map(operator.sub, list(activity_end_times), list(activity_start_times)))\n",
    "   \n",
    "    if all_activities_trips[0] == all_activities_trips[-1]:\n",
    "        activity_durations[0]=activity_durations[0]+((24*3600)-activity_start_times[-1]) #make it wrap around to midnight\n",
    "        activity_durations.pop() #remove last activity duration as it has been included in the frist activity\n",
    "    \n",
    "    for k in range(len(activity_durations)):\n",
    "        if activity_durations[k]== 0:\n",
    "            activity_durations[k] = 1e-5\n",
    "    \n",
    "    return(activity_durations)     \n",
    "\n",
    "# TODO: account for non-wraparound effect - HOW DOES THIS WORK\n",
    "# TODO: when accounting for wraparound effect the final \"end time\" is basically ignored - is this ok?\n",
    "# TODO: account for if someone arrives after departure -> what to do? check experienced plans?\n",
    "# TODO: cutoff when not achieving full activity plan - up to 32 hours / journey longer than expected departure"
   ]
  },
  {
   "cell_type": "code",
   "execution_count": null,
   "id": "65781f50",
   "metadata": {},
   "outputs": [],
   "source": [
    "def get_activity_durations_terrible(activity_indices, all_durations):\n",
    "    activity_start_times = []\n",
    "    activity_end_times = []\n",
    "    all_durations = pd.to_timedelta(all_durations, errors=\"coerce\").seconds\n",
    "\n",
    "    arrive_after_start = 0\n",
    "\n",
    "    for i in range(len(activity_indices)):\n",
    "        activity_end_times.append(all_durations[activity_indices[i]])\n",
    "        if activity_indices[i]==0:\n",
    "            tempStart = 0\n",
    "        else:\n",
    "            prevEndTime = all_durations[activity_indices[i-1]]\n",
    "            x1 = activity_indices[i-1]+1\n",
    "            x2 = activity_indices[i]\n",
    "            tempStart = prevEndTime+sum(all_durations[x1:x2])  \n",
    "        activity_start_times.append(tempStart)\n",
    "    # print(\"start: \"+str(activity_start_times))\n",
    "    # print(\"end: \"+str(activity_end_times))\n",
    "    \n",
    "    for i in range(1, len(activity_end_times)):\n",
    "        if activity_end_times[i] < activity_end_times[i-1]:\n",
    "            activity_end_times[i] += 24*3600  #account for wraparound\n",
    "    # print(\"end new: \"+str(activity_end_times))\n",
    "\n",
    "    for i in range(len(activity_start_times)):\n",
    "        if activity_start_times[i]>activity_end_times[i]:\n",
    "            arrive_after_start += 1\n",
    "    \n",
    "    return(arrive_after_start)     \n",
    "#run this across population and examine the experienced plans for any with an output > 0"
   ]
  },
  {
   "cell_type": "code",
   "execution_count": null,
   "id": "186604b0",
   "metadata": {},
   "outputs": [],
   "source": [
    "# df[\"b\"] = df.apply(lambda row: get_activity_durations_terrible(row[\"activities_indices\"], row[\"selected plan durations\"]), axis=1)"
   ]
  },
  {
   "cell_type": "code",
   "execution_count": null,
   "id": "a486fdd8",
   "metadata": {},
   "outputs": [],
   "source": [
    "# z = [\"home\",\"car\",\"work\",\"car\", \"home\"]\n",
    "# # y = [\"08:00:00\", \"00:23:30\", \"08:53:30\", \"01:21:15\", \"23:10:00\"]\n",
    "# x = [0,2,4]"
   ]
  },
  {
   "cell_type": "code",
   "execution_count": null,
   "id": "458255cc",
   "metadata": {},
   "outputs": [],
   "source": [
    "# a = get_activity_durations_terrible(x, y, z)\n",
    "# print(a)"
   ]
  },
  {
   "cell_type": "code",
   "execution_count": null,
   "id": "e1a9b5e0",
   "metadata": {},
   "outputs": [],
   "source": [
    "def calculate_activity_utility(activities, durations):\n",
    "    utilities = []\n",
    "    # betaEarly = 0\n",
    "    # betaLate = 0\n",
    "    betaPerf = 10\n",
    "    # betaWait = 0\n",
    "    # betaShort = 0\n",
    "    prio = 1\n",
    "    durations = [a/3600 for a in durations]  #put it back into hours\n",
    "    if activities[-1] == activities[0]:\n",
    "        activities.pop() #remove the last activity for wraparound\n",
    "    for i in range(len(activities)):\n",
    "        # print(activities[i])\n",
    "        # print(durations[i])\n",
    "        STotal = 0\n",
    "        match activities[i]:\n",
    "            case \"home\":\n",
    "                tMin = 1\n",
    "                tTyp = 10\n",
    "            case \"work\":\n",
    "                tMin = 6\n",
    "                tTyp = 9\n",
    "            case \"other\":\n",
    "                tMin = 1/6\n",
    "                tTyp = 0.5\n",
    "            case \"shop\": \n",
    "                tMin = 0.5\n",
    "                tTyp = 0.5\n",
    "            case \"education\":\n",
    "                tMin = 6\n",
    "                tTyp = 6\n",
    "            case \"visit\":\n",
    "                tMin = 0.5\n",
    "                tTyp = 2\n",
    "            case \"medical\":\n",
    "                tMin = 0.5\n",
    "                tTyp = 1\n",
    "            case \"business\":\n",
    "                tMin = 0.5\n",
    "                tTyp = 1\n",
    "            case \"escort_home\":\n",
    "                tMin = 1/12\n",
    "                tTyp = 1/12\n",
    "            case \"escort_work\":\n",
    "                tMin = 1/12\n",
    "                tTyp = 1/12\n",
    "            case \"escort_business\":\n",
    "                tMin = 1/12\n",
    "                tTyp = 1/12\n",
    "            case \"escort_education\":\n",
    "                tMin = 1/12\n",
    "                tTyp = 1/12\n",
    "            case \"escort_other\":\n",
    "                tMin = 1/12\n",
    "                tTyp = 1/12\n",
    "            case \"escort_shop\":\n",
    "                tMin = 1/12\n",
    "                tTyp = 1/12      \n",
    "            case _:\n",
    "                print(\"dodgy activity type\")\n",
    "                tMin = np.nan\n",
    "                tTyp = np.nan\n",
    "        # print(\"tTyp: \"+str(tTyp))\n",
    "        t0 = tTyp*np.exp(-1/prio)\n",
    "        # print(\"t0: \"+str(t0))\n",
    "        SDur = betaPerf*tTyp*np.log(durations[i]/t0)\n",
    "        SWait = 0 #since betaWait is zero. Otherwise, will need to encode open/close times for activities to find out how long waiting       \n",
    "        SLate = 0 #since betaLate is zero. Otherwise, will need to encode latest start times for activities to find out how late   \n",
    "        SEarly = 0 #since betaEarly is zero. Otherwise, will need to encode earliest end times for activities to find out how early   \n",
    "        SShort = 0 #since betaEarly is zero/undefined. Otherwise, will need to use shortesr durations for activities to find out if too short   \n",
    "        STotal_temp = SDur + SWait + SLate + SEarly + SShort\n",
    "        STotal += STotal_temp\n",
    "        # print(\"STotal: \"+str(STotal))\n",
    "        utilities.append(STotal)\n",
    "    return utilities\n",
    "    "
   ]
  },
  {
   "cell_type": "code",
   "execution_count": null,
   "id": "fb9f1dbe",
   "metadata": {},
   "outputs": [],
   "source": [
    "def get_activities(activity_modes, activity_indices):\n",
    "    activities = []\n",
    "    for i in activity_indices:\n",
    "        activities.append(activity_modes[i])\n",
    "    return activities"
   ]
  },
  {
   "cell_type": "code",
   "execution_count": null,
   "id": "7ef32bfc",
   "metadata": {},
   "outputs": [],
   "source": [
    "df_wellbehaved[\"activity_durations\"] = df_wellbehaved.apply(lambda row: get_activity_durations(row[\"activities_indices\"], row[\"selected plan duration\"], row[\"selected plan activity_type_or_mode\"]), axis=1)"
   ]
  },
  {
   "cell_type": "code",
   "execution_count": null,
   "id": "dc95b0fb",
   "metadata": {},
   "outputs": [],
   "source": []
  },
  {
   "cell_type": "code",
   "execution_count": null,
   "id": "a5fb29b6",
   "metadata": {},
   "outputs": [],
   "source": [
    "df_wellbehaved[\"selected plan activities\"] = df_wellbehaved.apply(lambda row: get_activities(row[\"selected plan activity_type_or_mode\"], row[\"activities_indices\"]), axis=1)"
   ]
  },
  {
   "cell_type": "code",
   "execution_count": null,
   "id": "6c5bc3ef",
   "metadata": {},
   "outputs": [],
   "source": [
    "df_wellbehaved[\"calculated_activity_utility\"] = df_wellbehaved.apply(lambda row: calculate_activity_utility(row[\"selected plan activities\"], row[\"activity_durations\"]), axis=1)"
   ]
  },
  {
   "cell_type": "code",
   "execution_count": null,
   "id": "db32b784",
   "metadata": {},
   "outputs": [],
   "source": [
    "df_wellbehaved[\"total_utility\"] = df_wellbehaved.apply(lambda row: sum(row[\"calculated_travel_utility\"])+ sum(row[\"calculated_activity_utility\"]), axis=1)"
   ]
  },
  {
   "cell_type": "code",
   "execution_count": null,
   "id": "618487db",
   "metadata": {},
   "outputs": [],
   "source": [
    "df_wellbehaved[\"u_diff\"] = df_wellbehaved[\"selected plan utility\"] - df_wellbehaved[\"total_utility\"]"
   ]
  },
  {
   "cell_type": "code",
   "execution_count": null,
   "id": "978c175f",
   "metadata": {},
   "outputs": [],
   "source": [
    "max(df_wellbehaved[\"u_diff\"])\n",
    "min(df_wellbehaved[\"u_diff\"])\n"
   ]
  },
  {
   "cell_type": "code",
   "execution_count": null,
   "id": "a531a0d1",
   "metadata": {},
   "outputs": [],
   "source": [
    "plt.plot(df_wellbehaved[\"u_diff\"], np.linspace(1, len(df_wellbehaved), len(df_wellbehaved)),\"x\")"
   ]
  },
  {
   "cell_type": "code",
   "execution_count": null,
   "id": "de24916e",
   "metadata": {},
   "outputs": [],
   "source": [
    "plt.plot(df_wellbehaved[\"total_utility\"], df_wellbehaved[\"selected plan utility\"], \"x\")"
   ]
  },
  {
   "cell_type": "code",
   "execution_count": null,
   "id": "3b3a5470",
   "metadata": {},
   "outputs": [],
   "source": [
    "broken = df_wellbehaved[df_wellbehaved[\"total_utility\"]>0]"
   ]
  },
  {
   "cell_type": "markdown",
   "id": "607c7182",
   "metadata": {},
   "source": [
    "## Whole plan modal flexibility"
   ]
  },
  {
   "cell_type": "markdown",
   "id": "ce2f092d",
   "metadata": {},
   "source": [
    "This requires the function to choose only the longest leg per trip and use that as a proxy for simplicity. Then compare the plan's set of main modes across plans and compare this to utility change across plans. Completed in old code setup. Skipped for now here. "
   ]
  },
  {
   "cell_type": "markdown",
   "id": "379979a4",
   "metadata": {},
   "source": [
    "## Trip-based modal flexibility"
   ]
  },
  {
   "cell_type": "markdown",
   "id": "ae11181e",
   "metadata": {},
   "source": [
    "Here we can unpick the utility function and compare utility for a person for a given trip. We can look at either a given trip number (e.g., first trip of the day), the longest (distance) trip, a given trip purpose (e.g., travel to work), or get a composite across the whole day (complex!!). We can also look at just the longest leg of the trip for simplicity or look at the total set of legs together. To do this well, we need to understand the config files properly though - **AGH**."
   ]
  },
  {
   "cell_type": "markdown",
   "id": "d52cac36",
   "metadata": {},
   "source": [
    "### First trip of the day, combining all legs"
   ]
  },
  {
   "cell_type": "markdown",
   "id": "c9e0fa89",
   "metadata": {},
   "source": [
    "1. Separate out the trips and choose the first (for each plan)\n",
    "2. Find the change in mode by comparing the whole combination of modes -> check, this might be problematic and we may need to revert to looking at main mode (by distance) for this step\n",
    "3. Calculate the utility lost for each leg and sum to find utility of trip. For each plan\n",
    "4. Find the change in utility across plans\n",
    "5. Find the flexibility by comparing change in mode to change in plans"
   ]
  }
 ],
 "metadata": {
  "kernelspec": {
   "display_name": "venv",
   "language": "python",
   "name": "python3"
  },
  "language_info": {
   "codemirror_mode": {
    "name": "ipython",
    "version": 3
   },
   "file_extension": ".py",
   "mimetype": "text/x-python",
   "name": "python",
   "nbconvert_exporter": "python",
   "pygments_lexer": "ipython3",
   "version": "3.12.0"
  }
 },
 "nbformat": 4,
 "nbformat_minor": 5
}
