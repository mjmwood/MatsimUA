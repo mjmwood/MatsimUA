{
 "cells": [
  {
   "cell_type": "markdown",
   "id": "4742189b",
   "metadata": {},
   "source": [
    "## Load in packages and data"
   ]
  },
  {
   "cell_type": "code",
   "execution_count": null,
   "id": "457008bf",
   "metadata": {
    "tags": []
   },
   "outputs": [],
   "source": [
    "import numpy as np\n",
    "import pandas as pd\n",
    "# import geopandas as gpd\n",
    "import matplotlib.pyplot as plt\n",
    "import matsim_output_analysis as moa\n",
    "import operator"
   ]
  },
  {
   "cell_type": "code",
   "execution_count": null,
   "id": "7693e6bb",
   "metadata": {
    "tags": []
   },
   "outputs": [],
   "source": [
    "df = pd.read_csv(r\"2000_sample.csv\") #using look3, ignoring some fields such as carCO2\n",
    "# df_spare = df #for resetting if needed"
   ]
  },
  {
   "cell_type": "code",
   "execution_count": null,
   "id": "1ff12aed",
   "metadata": {
    "tags": []
   },
   "outputs": [],
   "source": [
    "# df = df_spare \n",
    "df = df[~df[\"subpopulation\"].isin([\"hgv\",\"lgv\",\"airport\", \"lgv_ev\"])] #choose only the actual people\n",
    "df[\"negative_utility_somewhere\"] = df.apply(lambda row: moa.neg_utility_somewhere(row), axis=1)\n",
    "x = (sum(df[\"negative_utility_somewhere\"])/len(df))*100\n",
    "print(str(round(x,2))+\" pc of people have a negative utility\")\n",
    "# df = df[df[\"negative_utility_somewhere\"]==0] # keep only positive utility people\n",
    "df=df[df[\"region\"]==\"East of England\"] #temporarily remove Londoners while I sort the road pricing out\n",
    "df = df.drop(\"negative_utility_somewhere\", axis=1)\n",
    "\n",
    "#TODO: decide how to handle negatives properly\n",
    "#TODO: add London back in once road pricing has been sorted"
   ]
  },
  {
   "cell_type": "code",
   "execution_count": null,
   "id": "d1e2fd8c",
   "metadata": {
    "tags": []
   },
   "outputs": [],
   "source": [
    "#turn plan summaries into lists instead of long strings\n",
    "df['selected plan activity_type_or_mode'] = df['selected plan activity_type_or_mode'].str.split('; ')\n",
    "df['selected plan distance_travelled'] = df['selected plan distance_travelled'].str.split('; ')\n",
    "df['selected plan duration'] = df['selected plan duration'].str.split('; ')\n",
    "df['selected plan location'] = df['selected plan location'].str.split('; ')\n",
    "\n",
    "df['unselected plan (1) activity_type_or_mode'] = df['unselected plan (1) activity_type_or_mode'].str.split('; ')\n",
    "df['unselected plan (1) distance_travelled'] = df['unselected plan (1) distance_travelled'].str.split('; ')\n",
    "df['unselected plan (1) duration'] = df['unselected plan (1) duration'].str.split('; ')\n",
    "df['unselected plan (1) location'] = df['unselected plan (1) location'].str.split('; ')\n",
    "\n",
    "df['unselected plan (2) activity_type_or_mode'] = df['unselected plan (2) activity_type_or_mode'].str.split('; ')\n",
    "df['unselected plan (2) distance_travelled'] = df['unselected plan (2) distance_travelled'].str.split('; ')\n",
    "df['unselected plan (2) duration'] = df['unselected plan (2) duration'].str.split('; ')\n",
    "df['unselected plan (2) location'] = df['unselected plan (2) location'].str.split('; ')\n",
    "\n",
    "df['unselected plan (3) activity_type_or_mode'] = df['unselected plan (3) activity_type_or_mode'].str.split('; ')\n",
    "df['unselected plan (3) distance_travelled'] = df['unselected plan (3) distance_travelled'].str.split('; ')\n",
    "df['unselected plan (3) duration'] = df['unselected plan (3) duration'].str.split('; ')\n",
    "df['unselected plan (3) location'] = df['unselected plan (3) location'].str.split('; ')\n",
    "\n",
    "df['unselected plan (4) activity_type_or_mode'] = df['unselected plan (4) activity_type_or_mode'].str.split('; ')\n",
    "df['unselected plan (4) distance_travelled'] = df['unselected plan (4) distance_travelled'].str.split('; ')\n",
    "df['unselected plan (4) duration'] = df['unselected plan (4) duration'].str.split('; ')\n",
    "df['unselected plan (4) location'] = df['unselected plan (4) location'].str.split('; ')"
   ]
  },
  {
   "cell_type": "markdown",
   "id": "71291c18",
   "metadata": {},
   "source": [
    "## Remove \"pt interaction\" terms and all corresponding columns"
   ]
  },
  {
   "cell_type": "code",
   "execution_count": null,
   "id": "9b7c77cd",
   "metadata": {
    "tags": []
   },
   "outputs": [],
   "source": [
    "#extract the indices of where pt interaction happens\n",
    "df['selected plan ptinteraction_indices'] = df['selected plan activity_type_or_mode'].apply(moa.get_ptinteraction_index)\n",
    "df['unselected plan (1) ptinteraction_indices'] = df['unselected plan (1) activity_type_or_mode'].apply(moa.get_ptinteraction_index)\n",
    "df['unselected plan (2) ptinteraction_indices'] = df['unselected plan (2) activity_type_or_mode'].apply(moa.get_ptinteraction_index)\n",
    "df['unselected plan (3) ptinteraction_indices'] = df['unselected plan (3) activity_type_or_mode'].apply(moa.get_ptinteraction_index)\n",
    "df['unselected plan (4) ptinteraction_indices'] = df['unselected plan (4) activity_type_or_mode'].apply(moa.get_ptinteraction_index)"
   ]
  },
  {
   "cell_type": "code",
   "execution_count": null,
   "id": "f4d3bd09",
   "metadata": {
    "tags": []
   },
   "outputs": [],
   "source": [
    "#remove the pt interaction activities\n",
    "df['selected plan activity_type_or_mode'] = df.apply(lambda row: moa.remove_ptinteraction(row['selected plan ptinteraction_indices'], row['selected plan activity_type_or_mode']), axis=1)\n",
    "df['unselected plan (1) activity_type_or_mode'] = df.apply(lambda row: moa.remove_ptinteraction(row['unselected plan (1) ptinteraction_indices'], row['unselected plan (1) activity_type_or_mode']), axis=1)\n",
    "df['unselected plan (2) activity_type_or_mode'] = df.apply(lambda row: moa.remove_ptinteraction(row['unselected plan (2) ptinteraction_indices'], row['unselected plan (2) activity_type_or_mode']), axis=1)\n",
    "df['unselected plan (3) activity_type_or_mode'] = df.apply(lambda row: moa.remove_ptinteraction(row['unselected plan (3) ptinteraction_indices'], row['unselected plan (3) activity_type_or_mode']), axis=1)\n",
    "df['unselected plan (4) activity_type_or_mode'] = df.apply(lambda row: moa.remove_ptinteraction(row['unselected plan (4) ptinteraction_indices'], row['unselected plan (4) activity_type_or_mode']), axis=1)"
   ]
  },
  {
   "cell_type": "code",
   "execution_count": null,
   "id": "3dc38884",
   "metadata": {
    "tags": []
   },
   "outputs": [],
   "source": [
    "#remove the correspinding pt interaction durations\n",
    "df['selected plan duration'] = df.apply(lambda row: moa.remove_ptinteraction(row['selected plan ptinteraction_indices'], row['selected plan duration']), axis=1)\n",
    "df['unselected plan (1) duration'] = df.apply(lambda row: moa.remove_ptinteraction(row['unselected plan (1) ptinteraction_indices'], row['unselected plan (1) duration']), axis=1)\n",
    "df['unselected plan (2) duration'] = df.apply(lambda row: moa.remove_ptinteraction(row['unselected plan (2) ptinteraction_indices'], row['unselected plan (2) duration']), axis=1)\n",
    "df['unselected plan (3) duration'] = df.apply(lambda row: moa.remove_ptinteraction(row['unselected plan (3) ptinteraction_indices'], row['unselected plan (3) duration']), axis=1)\n",
    "df['unselected plan (4) duration'] = df.apply(lambda row: moa.remove_ptinteraction(row['unselected plan (4) ptinteraction_indices'], row['unselected plan (4) duration']), axis=1)"
   ]
  },
  {
   "cell_type": "code",
   "execution_count": null,
   "id": "29164fe5",
   "metadata": {
    "tags": []
   },
   "outputs": [],
   "source": [
    "#remove the correspinding pt interaction locations\n",
    "df['selected plan location'] = df.apply(lambda row: moa.remove_ptinteraction(row['selected plan ptinteraction_indices'], row['selected plan location']), axis=1)\n",
    "df['unselected plan (1) location'] = df.apply(lambda row: moa.remove_ptinteraction(row['unselected plan (1) ptinteraction_indices'], row['unselected plan (1) location']), axis=1)\n",
    "df['unselected plan (2) location'] = df.apply(lambda row: moa.remove_ptinteraction(row['unselected plan (2) ptinteraction_indices'], row['unselected plan (2) location']), axis=1)\n",
    "df['unselected plan (3) location'] = df.apply(lambda row: moa.remove_ptinteraction(row['unselected plan (3) ptinteraction_indices'], row['unselected plan (3) location']), axis=1)\n",
    "df['unselected plan (4) location'] = df.apply(lambda row: moa.remove_ptinteraction(row['unselected plan (4) ptinteraction_indices'], row['unselected plan (4) location']), axis=1)"
   ]
  },
  {
   "cell_type": "code",
   "execution_count": null,
   "id": "15469c47",
   "metadata": {
    "tags": []
   },
   "outputs": [],
   "source": [
    "#remove the correspinding pt interaction distance travelled\n",
    "df['selected plan distance_travelled'] = df.apply(lambda row: moa.remove_ptinteraction(row['selected plan ptinteraction_indices'], row['selected plan distance_travelled']), axis=1)\n",
    "df['unselected plan (1) distance_travelled'] = df.apply(lambda row: moa.remove_ptinteraction(row['unselected plan (1) ptinteraction_indices'], row['unselected plan (1) distance_travelled']), axis=1)\n",
    "df['unselected plan (2) distance_travelled'] = df.apply(lambda row: moa.remove_ptinteraction(row['unselected plan (2) ptinteraction_indices'], row['unselected plan (2) distance_travelled']), axis=1)\n",
    "df['unselected plan (3) distance_travelled'] = df.apply(lambda row: moa.remove_ptinteraction(row['unselected plan (3) ptinteraction_indices'], row['unselected plan (3) distance_travelled']), axis=1)\n",
    "df['unselected plan (4) distance_travelled'] = df.apply(lambda row: moa.remove_ptinteraction(row['unselected plan (4) ptinteraction_indices'], row['unselected plan (4) distance_travelled']), axis=1)"
   ]
  },
  {
   "cell_type": "code",
   "execution_count": null,
   "id": "5998548f",
   "metadata": {
    "tags": []
   },
   "outputs": [],
   "source": [
    "#clean  up table and remove indices\n",
    "df = df.drop([\"selected plan ptinteraction_indices\",\"unselected plan (1) ptinteraction_indices\",\"unselected plan (2) ptinteraction_indices\",\"unselected plan (3) ptinteraction_indices\",\"unselected plan (4) ptinteraction_indices\"], axis=1)"
   ]
  },
  {
   "cell_type": "markdown",
   "id": "52b8c7c7",
   "metadata": {},
   "source": [
    "## Check basic stuff of plans e.g., wraparound, end of day, longest legs"
   ]
  },
  {
   "cell_type": "code",
   "execution_count": null,
   "id": "365e682a",
   "metadata": {
    "tags": []
   },
   "outputs": [],
   "source": [
    "#check if plans wraparound (just check for selected plan)\n",
    "df[\"wraparound\"] = df[\"selected plan activity_type_or_mode\"].apply(lambda x: 1 if x[0]==x[-1] else 0)\n",
    "x = sum(df[\"wraparound\"])/len(df) * 100\n",
    "print(str(round(x, 2))+\" pc of people have a wraparound plan\")\n",
    "# df = df.drop(\"wraparound\", axis=1)\n",
    "\n",
    "#TODO: should we only keep wraparound plans??"
   ]
  },
  {
   "cell_type": "code",
   "execution_count": null,
   "id": "037cc797",
   "metadata": {
    "tags": []
   },
   "outputs": [],
   "source": [
    "#check what time the last activity ends (just check for selected plan). should be less than 32 hours\n",
    "df[\"eod_time\"] = df[\"selected plan duration\"].apply(lambda x: x[-1])\n",
    "print(str(max(df[\"eod_time\"]))+\" is the latest end of final activity\")\n",
    "print(str(min(df[\"eod_time\"]))+\" is the earliest end of final activity\")\n",
    "df = df.drop(\"eod_time\", axis=1)"
   ]
  },
  {
   "cell_type": "code",
   "execution_count": null,
   "id": "23c9e49b",
   "metadata": {
    "tags": []
   },
   "outputs": [],
   "source": [
    "#check how long the longest leg of a trip is\n",
    "df[\"legs_indices\"] = df[\"selected plan activity_type_or_mode\"].apply(moa.get_trips_indices_only)\n",
    "df[\"activities_indices\"] = df[\"selected plan activity_type_or_mode\"].apply(moa.get_activities_indices_only)\n",
    "df[\"selected plan leg_durations\"] = df.apply(lambda row: moa.get_trips_duration_or_mode(row[\"legs_indices\"], row[\"selected plan duration\"]), axis=1)\n",
    "df[\"selected plan activity_durations\"] = df.apply(lambda row: moa.get_trips_duration_or_mode(row[\"activities_indices\"], row[\"selected plan duration\"]), axis=1)\n",
    "\n",
    "print(str(max(df[\"selected plan leg_durations\"]))+\" is the longest leg recorded\")"
   ]
  },
  {
   "cell_type": "code",
   "execution_count": null,
   "id": "1e4f13fa",
   "metadata": {
    "tags": []
   },
   "outputs": [],
   "source": [
    "#check how utility changes over time - mean\n",
    "df2 = df[[\"surveyyear\", \"selected plan utility\"]]\n",
    "df2 = df2.groupby('surveyyear', as_index=False).mean()\n",
    "plt.plot(df2[\"surveyyear\"], df2[\"selected plan utility\"])\n",
    "plt.title(\"mean utility per year\")"
   ]
  },
  {
   "cell_type": "code",
   "execution_count": null,
   "id": "eb15eafa",
   "metadata": {
    "tags": []
   },
   "outputs": [],
   "source": [
    "#check how utility changes over time - median\n",
    "df2 = df[[\"surveyyear\", \"selected plan utility\"]]\n",
    "df2 = df2.groupby('surveyyear', as_index=False).median()\n",
    "plt.plot(df2[\"surveyyear\"], df2[\"selected plan utility\"])\n",
    "plt.title(\"median utility per year (including negative)\")"
   ]
  },
  {
   "cell_type": "markdown",
   "id": "2e3d7d79-732d-4a80-84a6-f702111e75e4",
   "metadata": {},
   "source": [
    "## Calculating utility components"
   ]
  },
  {
   "cell_type": "markdown",
   "id": "7e367894-1262-422e-b337-e34a57eaafec",
   "metadata": {},
   "source": [
    "Travel utility"
   ]
  },
  {
   "cell_type": "code",
   "execution_count": null,
   "id": "8a7a541e-6d12-4a18-8dc3-7da647931977",
   "metadata": {
    "tags": []
   },
   "outputs": [],
   "source": [
    "# 1. Get the trips out \n",
    "df[\"selected plan trips\"] = df.apply(lambda row: moa.group_legs_into_trips(row[\"selected plan activity_type_or_mode\"], row[\"activities_indices\"]), axis=1)\n",
    "df[\"unselected plan (1) trips\"] = df.apply(lambda row: moa.group_legs_into_trips(row[\"unselected plan (1) activity_type_or_mode\"], row[\"activities_indices\"]), axis=1)\n",
    "df[\"unselected plan (2) trips\"] = df.apply(lambda row: moa.group_legs_into_trips(row[\"unselected plan (2) activity_type_or_mode\"], row[\"activities_indices\"]), axis=1)\n",
    "df[\"unselected plan (3) trips\"] = df.apply(lambda row: moa.group_legs_into_trips(row[\"unselected plan (3) activity_type_or_mode\"], row[\"activities_indices\"]), axis=1)\n",
    "df[\"unselected plan (4) trips\"] = df.apply(lambda row: moa.group_legs_into_trips(row[\"unselected plan (4) activity_type_or_mode\"], row[\"activities_indices\"]), axis=1)"
   ]
  },
  {
   "cell_type": "code",
   "execution_count": null,
   "id": "a64da53b-fef6-4004-96fe-86f600b974d4",
   "metadata": {
    "tags": []
   },
   "outputs": [],
   "source": [
    "# 1. Keep corresponding trip durations and distances\n",
    "df[\"selected plan trips_duration\"] = df.apply(lambda row: moa.group_legs_into_trips_d(row[\"selected plan duration\"], row[\"activities_indices\"], \"duration\"), axis=1)\n",
    "df[\"unselected plan (1) trips_duration\"] = df.apply(lambda row: moa.group_legs_into_trips_d(row[\"unselected plan (1) duration\"], row[\"activities_indices\"], \"duration\"), axis=1)\n",
    "df[\"unselected plan (2) trips_duration\"] = df.apply(lambda row: moa.group_legs_into_trips_d(row[\"unselected plan (2) duration\"], row[\"activities_indices\"], \"duration\"), axis=1)\n",
    "df[\"unselected plan (3) trips_duration\"] = df.apply(lambda row: moa.group_legs_into_trips_d(row[\"unselected plan (3) duration\"], row[\"activities_indices\"], \"duration\"), axis=1)\n",
    "df[\"unselected plan (4) trips_duration\"] = df.apply(lambda row: moa.group_legs_into_trips_d(row[\"unselected plan (4) duration\"], row[\"activities_indices\"], \"duration\"), axis=1)\n",
    "\n",
    "df[\"selected plan trips_distance\"] = df.apply(lambda row: moa.group_legs_into_trips_d(row[\"selected plan distance_travelled\"], row[\"activities_indices\"], \"distance\"), axis=1)\n",
    "df[\"unselected plan (1) trips_distance\"] = df.apply(lambda row: moa.group_legs_into_trips_d(row[\"unselected plan (1) distance_travelled\"], row[\"activities_indices\"], \"distance\"), axis=1)\n",
    "df[\"unselected plan (2) trips_distance\"] = df.apply(lambda row: moa.group_legs_into_trips_d(row[\"unselected plan (2) distance_travelled\"], row[\"activities_indices\"], \"distance\"), axis=1)\n",
    "df[\"unselected plan (3) trips_distance\"] = df.apply(lambda row: moa.group_legs_into_trips_d(row[\"unselected plan (3) distance_travelled\"], row[\"activities_indices\"], \"distance\"), axis=1)\n",
    "df[\"unselected plan (4) trips_distance\"] = df.apply(lambda row: moa.group_legs_into_trips_d(row[\"unselected plan (4) distance_travelled\"], row[\"activities_indices\"], \"distance\"), axis=1)"
   ]
  },
  {
   "cell_type": "code",
   "execution_count": null,
   "id": "2d52fd0b",
   "metadata": {},
   "outputs": [],
   "source": [
    "def count_transfers(modes_in_leg):\n",
    "    publicTrans = [\"subway\",\"bus\",\"rail\", \"tram\",\"ferry\", \"pt\"]\n",
    "    transfers = 0\n",
    "    for i in range(len(modes_in_leg)-1):\n",
    "        if modes_in_leg[i] in publicTrans and modes_in_leg[i + 1] in publicTrans:\n",
    "            transfers += 1\n",
    "    return transfers\n",
    "# TODO: fix this to overlook short walks!\n",
    "#calculate the utility lost across trips in a plan. returns a list of the utility from each trip\n"
   ]
  },
  {
   "cell_type": "code",
   "execution_count": null,
   "id": "08954b32-9a5d-4b56-9471-f942cea7afe0",
   "metadata": {
    "tags": []
   },
   "outputs": [],
   "source": [
    "df[\"calculated_travel_utility\"] = df.apply(lambda row: moa.calculate_travel_utility(row[\"selected plan trips\"], row[\"selected plan trips_duration\"], row[\"selected plan trips_distance\"], row[\"subpopulation\"]), axis=1)"
   ]
  },
  {
   "cell_type": "markdown",
   "id": "edbb8877-62ec-438f-a702-aff2b23ab7f2",
   "metadata": {},
   "source": [
    "Activity utility"
   ]
  },
  {
   "cell_type": "code",
   "execution_count": null,
   "id": "747ed1f3-7293-4315-ab52-743ac449f368",
   "metadata": {
    "tags": []
   },
   "outputs": [],
   "source": [
    "# just for initial sense checking, see if the calcs work for \"well behaved\" agents, ie those who DO wraparound and have positive utility\n",
    "df_wellbehaved = df[df[\"selected plan utility\"]>0]\n",
    "df_wellbehaved = df_wellbehaved[df_wellbehaved[\"wraparound\"]==1]"
   ]
  },
  {
   "cell_type": "code",
   "execution_count": null,
   "id": "d782fb9b-4d1b-4b58-8de4-3c4878c76297",
   "metadata": {
    "tags": []
   },
   "outputs": [],
   "source": [
    "df_wellbehaved[\"activity_durations\"] = df_wellbehaved.apply(lambda row: moa.get_activity_durations(row[\"activities_indices\"], row[\"selected plan duration\"], row[\"selected plan activity_type_or_mode\"]), axis=1)"
   ]
  },
  {
   "cell_type": "code",
   "execution_count": null,
   "id": "102394c9-5319-4aa4-ab8d-6da1d5946ece",
   "metadata": {
    "tags": []
   },
   "outputs": [],
   "source": [
    "df_wellbehaved[\"selected plan activities\"] = df_wellbehaved.apply(lambda row: moa.get_activities(row[\"selected plan activity_type_or_mode\"], row[\"activities_indices\"]), axis=1)"
   ]
  },
  {
   "cell_type": "code",
   "execution_count": null,
   "id": "40b785a7-3cc0-4c35-b797-9f99a56d0348",
   "metadata": {
    "tags": []
   },
   "outputs": [],
   "source": [
    "df_wellbehaved[\"calculated_activity_utility\"] = df_wellbehaved.apply(lambda row: moa.calculate_activity_utility(row[\"selected plan activities\"], row[\"activity_durations\"]), axis=1)"
   ]
  },
  {
   "cell_type": "code",
   "execution_count": null,
   "id": "5ecc7893",
   "metadata": {},
   "outputs": [],
   "source": [
    "df_wellbehaved[\"total_travel_u\"] = df_wellbehaved.apply(lambda row: sum(row[\"calculated_travel_utility\"]), axis=1)\n",
    "df_wellbehaved.iloc[119][\"total_travel_u\"]"
   ]
  },
  {
   "cell_type": "code",
   "execution_count": null,
   "id": "0fc48799",
   "metadata": {},
   "outputs": [],
   "source": [
    "df_wellbehaved[\"total_activity_u\"] = df_wellbehaved.apply(lambda row: sum(row[\"calculated_activity_utility\"]), axis=1)\n",
    "df_wellbehaved.iloc[119][\"total_activity_u\"]"
   ]
  },
  {
   "cell_type": "code",
   "execution_count": null,
   "id": "aed3f804",
   "metadata": {},
   "outputs": [],
   "source": [
    "df_wellbehaved[\"calculated_total_u\"] = df_wellbehaved[\"total_travel_u\"]+df_wellbehaved[\"total_activity_u\"]\n",
    "df_wellbehaved.iloc[119][\"calculated_total_u\"]"
   ]
  },
  {
   "cell_type": "code",
   "execution_count": null,
   "id": "ebc1ef79",
   "metadata": {},
   "outputs": [],
   "source": [
    "df_wellbehaved[\"travel_tot\"] = df_wellbehaved[\"calculated_travel_utility\"].apply(lambda x: sum(x))\n",
    "df_wellbehaved[\"activity_tot\"] = df_wellbehaved[\"calculated_activity_utility\"].apply(lambda x: sum(x))"
   ]
  },
  {
   "cell_type": "code",
   "execution_count": null,
   "id": "dbdbc11e",
   "metadata": {},
   "outputs": [],
   "source": [
    "print(max(df_wellbehaved[\"travel_tot\"]))\n",
    "print(min(df_wellbehaved[\"travel_tot\"]))\n",
    "print(max(df_wellbehaved[\"activity_tot\"]))\n",
    "print(min(df_wellbehaved[\"activity_tot\"]))"
   ]
  },
  {
   "cell_type": "code",
   "execution_count": null,
   "id": "3f1dc760",
   "metadata": {},
   "outputs": [],
   "source": [
    "plt.hist(df_wellbehaved[\"calculated_total_u\"])"
   ]
  },
  {
   "cell_type": "code",
   "execution_count": null,
   "id": "51bb35b1",
   "metadata": {},
   "outputs": [],
   "source": [
    "plt.plot(df_wellbehaved[\"selected plan utility\"], df_wellbehaved[\"calculated_total_u\"], \"x\")"
   ]
  },
  {
   "cell_type": "code",
   "execution_count": null,
   "id": "1dff7934-66d0-41d4-b1c6-a36d7c887b36",
   "metadata": {
    "tags": []
   },
   "outputs": [],
   "source": [
    "us = (list(df_wellbehaved[\"calculated_total_u\"]))"
   ]
  },
  {
   "cell_type": "code",
   "execution_count": null,
   "id": "7a74f38c",
   "metadata": {},
   "outputs": [],
   "source": [
    "for i in range(len(us)):\n",
    "    if  us[i] < -400:\n",
    "        print(i)"
   ]
  },
  {
   "cell_type": "code",
   "execution_count": null,
   "id": "9d7985e0",
   "metadata": {},
   "outputs": [],
   "source": [
    "df_wellbehaved.iloc[31][\"calculated_total_u\"]"
   ]
  },
  {
   "cell_type": "code",
   "execution_count": null,
   "id": "5532a22c",
   "metadata": {},
   "outputs": [],
   "source": [
    "df_wellbehaved.iloc[210][\"calculated_travel_utility\"]"
   ]
  },
  {
   "cell_type": "code",
   "execution_count": null,
   "id": "3dccdc94",
   "metadata": {},
   "outputs": [],
   "source": [
    "df_wellbehaved.iloc[626][\"selected plan utility\"]"
   ]
  },
  {
   "cell_type": "code",
   "execution_count": null,
   "id": "662ba1e7",
   "metadata": {},
   "outputs": [],
   "source": [
    "df_wellbehaved.iloc[626][\"selected plan duration\"]"
   ]
  },
  {
   "cell_type": "code",
   "execution_count": null,
   "id": "4d7a9f1d",
   "metadata": {},
   "outputs": [],
   "source": [
    "df_wellbehaved.iloc[626][\"selected plan distance_travelled\"]"
   ]
  },
  {
   "cell_type": "code",
   "execution_count": null,
   "id": "79295345",
   "metadata": {},
   "outputs": [],
   "source": [
    "df_wellbehaved.iloc[626][\"selected plan activity_type_or_mode\"]"
   ]
  },
  {
   "cell_type": "code",
   "execution_count": null,
   "id": "afe7d73a",
   "metadata": {},
   "outputs": [],
   "source": [
    "df_wellbehaved.iloc[626][\"activity_durations\"]"
   ]
  },
  {
   "cell_type": "code",
   "execution_count": null,
   "id": "caf0b1e6",
   "metadata": {},
   "outputs": [],
   "source": [
    "df_wellbehaved.iloc[210][\"calculated_activity_utility\"]"
   ]
  },
  {
   "cell_type": "code",
   "execution_count": null,
   "id": "55e22efd",
   "metadata": {},
   "outputs": [],
   "source": []
  },
  {
   "cell_type": "code",
   "execution_count": null,
   "id": "643551cf",
   "metadata": {},
   "outputs": [],
   "source": [
    "df_wellbehaved.iloc[31][\"selected plan trips\"]"
   ]
  },
  {
   "cell_type": "code",
   "execution_count": null,
   "id": "fa1897f9",
   "metadata": {},
   "outputs": [],
   "source": [
    "list(df_wellbehaved.columns.values)"
   ]
  },
  {
   "cell_type": "code",
   "execution_count": null,
   "id": "e076b3f9",
   "metadata": {},
   "outputs": [],
   "source": [
    "a = df_wellbehaved.iloc[31][\"selected plan trips\"]\n",
    "b = df_wellbehaved.iloc[31][\"selected plan trips_distance\"]\n",
    "c = df_wellbehaved.iloc[31][\"selected plan trips_duration\"]\n",
    "d = \"high\""
   ]
  },
  {
   "cell_type": "code",
   "execution_count": null,
   "id": "44390a1d",
   "metadata": {},
   "outputs": [],
   "source": [
    "travtest = moa.calculate_travel_utility(a,b,c,d)\n",
    "print(travtest)"
   ]
  },
  {
   "cell_type": "markdown",
   "id": "607c7182",
   "metadata": {},
   "source": [
    "## Whole plan modal flexibility"
   ]
  },
  {
   "cell_type": "markdown",
   "id": "ce2f092d",
   "metadata": {
    "jupyter": {
     "source_hidden": true
    },
    "tags": []
   },
   "source": [
    "This requires the function to choose only the longest leg per trip and use that as a proxy for simplicity. Then compare the plan's set of main modes across plans and compare this to utility change across plans. Completed in old code setup. Skipped for now here. "
   ]
  },
  {
   "cell_type": "markdown",
   "id": "379979a4",
   "metadata": {},
   "source": [
    "## Trip-based modal flexibility"
   ]
  },
  {
   "cell_type": "markdown",
   "id": "ae11181e",
   "metadata": {},
   "source": [
    "Here we can unpick the utility function and compare utility for a person for a given trip. We can look at either a given trip number (e.g., first trip of the day), the longest (distance) trip, a given trip purpose (e.g., travel to work), or get a composite across the whole day (complex!!). We can also look at just the longest leg of the trip for simplicity or look at the total set of legs together. To do this well, we need to understand the config files properly though - **AGH**."
   ]
  },
  {
   "cell_type": "markdown",
   "id": "d52cac36",
   "metadata": {},
   "source": [
    "### First trip of the day, combining all legs"
   ]
  },
  {
   "cell_type": "markdown",
   "id": "c9e0fa89",
   "metadata": {},
   "source": [
    "1. Separate out the trips and choose the first (for each plan)\n",
    "2. Find the change in mode by comparing the whole combination of modes -> check, this might be problematic and we may need to revert to looking at main mode (by distance) for this step\n",
    "3. Calculate the utility lost for each leg and sum to find utility of trip. For each plan\n",
    "4. Find the change in utility across plans\n",
    "5. Find the flexibility by comparing change in mode to change in plans"
   ]
  }
 ],
 "metadata": {
  "kernelspec": {
   "display_name": "venv",
   "language": "python",
   "name": "python3"
  },
  "language_info": {
   "codemirror_mode": {
    "name": "ipython",
    "version": 3
   },
   "file_extension": ".py",
   "mimetype": "text/x-python",
   "name": "python",
   "nbconvert_exporter": "python",
   "pygments_lexer": "ipython3",
   "version": "3.12.0"
  }
 },
 "nbformat": 4,
 "nbformat_minor": 5
}
