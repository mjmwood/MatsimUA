{
 "cells": [
  {
   "cell_type": "markdown",
   "id": "4742189b",
   "metadata": {},
   "source": [
    "## Load in packages and data"
   ]
  },
  {
   "cell_type": "code",
   "execution_count": 1,
   "id": "457008bf",
   "metadata": {
    "tags": []
   },
   "outputs": [],
   "source": [
    "import numpy as np\n",
    "import pandas as pd\n",
    "# import geopandas as gpd\n",
    "import matplotlib.pyplot as plt\n",
    "import matsim_output_analysis as moa\n",
    "import operator"
   ]
  },
  {
   "cell_type": "code",
   "execution_count": 2,
   "id": "7693e6bb",
   "metadata": {
    "tags": []
   },
   "outputs": [],
   "source": [
    "df = pd.read_csv(r\"2000_sample_routes.csv\") #using look3, ignoring some fields such as carCO2\n",
    "# df_spare = df #for resetting if needed"
   ]
  },
  {
   "cell_type": "code",
   "execution_count": 3,
   "id": "1ff12aed",
   "metadata": {
    "tags": []
   },
   "outputs": [
    {
     "name": "stdout",
     "output_type": "stream",
     "text": [
      "6.33 pc of people have a negative utility\n"
     ]
    }
   ],
   "source": [
    "# df = df_spare \n",
    "df = df[~df[\"subpopulation\"].isin([\"hgv\",\"lgv\",\"airport\", \"lgv_ev\"])] #choose only the actual people\n",
    "df[\"negative_utility_somewhere\"] = df.apply(lambda row: moa.neg_utility_somewhere(row), axis=1)\n",
    "x = (sum(df[\"negative_utility_somewhere\"])/len(df))*100\n",
    "print(str(round(x,2))+\" pc of people have a negative utility\")\n",
    "# df = df[df[\"negative_utility_somewhere\"]==0] # keep only positive utility people\n",
    "df=df[df[\"region\"]==\"East of England\"] #temporarily remove Londoners while I sort the road pricing out\n",
    "df = df.drop(\"negative_utility_somewhere\", axis=1)\n",
    "\n",
    "#TODO: decide how to handle negatives properly\n",
    "#TODO: add London back in once road pricing has been sorted"
   ]
  },
  {
   "cell_type": "code",
   "execution_count": 4,
   "id": "d1e2fd8c",
   "metadata": {
    "tags": []
   },
   "outputs": [],
   "source": [
    "#turn plan summaries into lists instead of long strings\n",
    "df['selected plan activity_type_or_mode'] = df['selected plan activity_type_or_mode'].str.split('; ')\n",
    "df['selected plan distance_travelled'] = df['selected plan distance_travelled'].str.split('; ')\n",
    "df['selected plan duration'] = df['selected plan duration'].str.split('; ')\n",
    "df['selected plan location'] = df['selected plan location'].str.split('; ')\n",
    "df['selected plan routes'] = df['selected plan routes'].str.split('; ')\n",
    "\n",
    "df['unselected plan (1) activity_type_or_mode'] = df['unselected plan (1) activity_type_or_mode'].str.split('; ')\n",
    "df['unselected plan (1) distance_travelled'] = df['unselected plan (1) distance_travelled'].str.split('; ')\n",
    "df['unselected plan (1) duration'] = df['unselected plan (1) duration'].str.split('; ')\n",
    "df['unselected plan (1) location'] = df['unselected plan (1) location'].str.split('; ')\n",
    "df['unselected plan (1) routes'] = df['unselected plan (1) routes'].str.split('; ')\n",
    "\n",
    "df['unselected plan (2) activity_type_or_mode'] = df['unselected plan (2) activity_type_or_mode'].str.split('; ')\n",
    "df['unselected plan (2) distance_travelled'] = df['unselected plan (2) distance_travelled'].str.split('; ')\n",
    "df['unselected plan (2) duration'] = df['unselected plan (2) duration'].str.split('; ')\n",
    "df['unselected plan (2) location'] = df['unselected plan (2) location'].str.split('; ')\n",
    "df['unselected plan (2) routes'] = df['unselected plan (2) routes'].str.split('; ')\n",
    "\n",
    "df['unselected plan (3) activity_type_or_mode'] = df['unselected plan (3) activity_type_or_mode'].str.split('; ')\n",
    "df['unselected plan (3) distance_travelled'] = df['unselected plan (3) distance_travelled'].str.split('; ')\n",
    "df['unselected plan (3) duration'] = df['unselected plan (3) duration'].str.split('; ')\n",
    "df['unselected plan (3) location'] = df['unselected plan (3) location'].str.split('; ')\n",
    "df['unselected plan (3) routes'] = df['unselected plan (3) routes'].str.split('; ')\n",
    "\n",
    "df['unselected plan (4) activity_type_or_mode'] = df['unselected plan (4) activity_type_or_mode'].str.split('; ')\n",
    "df['unselected plan (4) distance_travelled'] = df['unselected plan (4) distance_travelled'].str.split('; ')\n",
    "df['unselected plan (4) duration'] = df['unselected plan (4) duration'].str.split('; ')\n",
    "df['unselected plan (4) location'] = df['unselected plan (4) location'].str.split('; ')\n",
    "df['unselected plan (4) routes'] = df['unselected plan (4) routes'].str.split('; ')"
   ]
  },
  {
   "cell_type": "markdown",
   "id": "71291c18",
   "metadata": {},
   "source": [
    "## Remove \"pt interaction\" terms and all corresponding columns"
   ]
  },
  {
   "cell_type": "code",
   "execution_count": 7,
   "id": "9b7c77cd",
   "metadata": {
    "tags": []
   },
   "outputs": [],
   "source": [
    "#extract the indices of where pt interaction happens\n",
    "df['selected plan ptinteraction_indices'] = df['selected plan activity_type_or_mode'].apply(moa.get_ptinteraction_index)\n",
    "df['unselected plan (1) ptinteraction_indices'] = df['unselected plan (1) activity_type_or_mode'].apply(moa.get_ptinteraction_index)\n",
    "df['unselected plan (2) ptinteraction_indices'] = df['unselected plan (2) activity_type_or_mode'].apply(moa.get_ptinteraction_index)\n",
    "df['unselected plan (3) ptinteraction_indices'] = df['unselected plan (3) activity_type_or_mode'].apply(moa.get_ptinteraction_index)\n",
    "df['unselected plan (4) ptinteraction_indices'] = df['unselected plan (4) activity_type_or_mode'].apply(moa.get_ptinteraction_index)"
   ]
  },
  {
   "cell_type": "code",
   "execution_count": 8,
   "id": "f4d3bd09",
   "metadata": {
    "tags": []
   },
   "outputs": [],
   "source": [
    "#remove the pt interaction activities\n",
    "df['selected plan activity_type_or_mode'] = df.apply(lambda row: moa.remove_ptinteraction(row['selected plan ptinteraction_indices'], row['selected plan activity_type_or_mode']), axis=1)\n",
    "df['unselected plan (1) activity_type_or_mode'] = df.apply(lambda row: moa.remove_ptinteraction(row['unselected plan (1) ptinteraction_indices'], row['unselected plan (1) activity_type_or_mode']), axis=1)\n",
    "df['unselected plan (2) activity_type_or_mode'] = df.apply(lambda row: moa.remove_ptinteraction(row['unselected plan (2) ptinteraction_indices'], row['unselected plan (2) activity_type_or_mode']), axis=1)\n",
    "df['unselected plan (3) activity_type_or_mode'] = df.apply(lambda row: moa.remove_ptinteraction(row['unselected plan (3) ptinteraction_indices'], row['unselected plan (3) activity_type_or_mode']), axis=1)\n",
    "df['unselected plan (4) activity_type_or_mode'] = df.apply(lambda row: moa.remove_ptinteraction(row['unselected plan (4) ptinteraction_indices'], row['unselected plan (4) activity_type_or_mode']), axis=1)"
   ]
  },
  {
   "cell_type": "code",
   "execution_count": 9,
   "id": "3dc38884",
   "metadata": {
    "tags": []
   },
   "outputs": [],
   "source": [
    "#remove the correspinding pt interaction durations\n",
    "df['selected plan duration'] = df.apply(lambda row: moa.remove_ptinteraction(row['selected plan ptinteraction_indices'], row['selected plan duration']), axis=1)\n",
    "df['unselected plan (1) duration'] = df.apply(lambda row: moa.remove_ptinteraction(row['unselected plan (1) ptinteraction_indices'], row['unselected plan (1) duration']), axis=1)\n",
    "df['unselected plan (2) duration'] = df.apply(lambda row: moa.remove_ptinteraction(row['unselected plan (2) ptinteraction_indices'], row['unselected plan (2) duration']), axis=1)\n",
    "df['unselected plan (3) duration'] = df.apply(lambda row: moa.remove_ptinteraction(row['unselected plan (3) ptinteraction_indices'], row['unselected plan (3) duration']), axis=1)\n",
    "df['unselected plan (4) duration'] = df.apply(lambda row: moa.remove_ptinteraction(row['unselected plan (4) ptinteraction_indices'], row['unselected plan (4) duration']), axis=1)"
   ]
  },
  {
   "cell_type": "code",
   "execution_count": 10,
   "id": "29164fe5",
   "metadata": {
    "tags": []
   },
   "outputs": [],
   "source": [
    "#remove the correspinding pt interaction locations\n",
    "df['selected plan location'] = df.apply(lambda row: moa.remove_ptinteraction(row['selected plan ptinteraction_indices'], row['selected plan location']), axis=1)\n",
    "df['unselected plan (1) location'] = df.apply(lambda row: moa.remove_ptinteraction(row['unselected plan (1) ptinteraction_indices'], row['unselected plan (1) location']), axis=1)\n",
    "df['unselected plan (2) location'] = df.apply(lambda row: moa.remove_ptinteraction(row['unselected plan (2) ptinteraction_indices'], row['unselected plan (2) location']), axis=1)\n",
    "df['unselected plan (3) location'] = df.apply(lambda row: moa.remove_ptinteraction(row['unselected plan (3) ptinteraction_indices'], row['unselected plan (3) location']), axis=1)\n",
    "df['unselected plan (4) location'] = df.apply(lambda row: moa.remove_ptinteraction(row['unselected plan (4) ptinteraction_indices'], row['unselected plan (4) location']), axis=1)"
   ]
  },
  {
   "cell_type": "code",
   "execution_count": 11,
   "id": "15469c47",
   "metadata": {
    "tags": []
   },
   "outputs": [],
   "source": [
    "#remove the correspinding pt interaction distance travelled\n",
    "df['selected plan distance_travelled'] = df.apply(lambda row: moa.remove_ptinteraction(row['selected plan ptinteraction_indices'], row['selected plan distance_travelled']), axis=1)\n",
    "df['unselected plan (1) distance_travelled'] = df.apply(lambda row: moa.remove_ptinteraction(row['unselected plan (1) ptinteraction_indices'], row['unselected plan (1) distance_travelled']), axis=1)\n",
    "df['unselected plan (2) distance_travelled'] = df.apply(lambda row: moa.remove_ptinteraction(row['unselected plan (2) ptinteraction_indices'], row['unselected plan (2) distance_travelled']), axis=1)\n",
    "df['unselected plan (3) distance_travelled'] = df.apply(lambda row: moa.remove_ptinteraction(row['unselected plan (3) ptinteraction_indices'], row['unselected plan (3) distance_travelled']), axis=1)\n",
    "df['unselected plan (4) distance_travelled'] = df.apply(lambda row: moa.remove_ptinteraction(row['unselected plan (4) ptinteraction_indices'], row['unselected plan (4) distance_travelled']), axis=1)"
   ]
  },
  {
   "cell_type": "code",
   "execution_count": 12,
   "id": "5998548f",
   "metadata": {
    "tags": []
   },
   "outputs": [],
   "source": [
    "#clean  up table and remove indices\n",
    "df = df.drop([\"selected plan ptinteraction_indices\",\"unselected plan (1) ptinteraction_indices\",\"unselected plan (2) ptinteraction_indices\",\"unselected plan (3) ptinteraction_indices\",\"unselected plan (4) ptinteraction_indices\"], axis=1)"
   ]
  },
  {
   "cell_type": "markdown",
   "id": "52b8c7c7",
   "metadata": {},
   "source": [
    "## Check basic stuff of plans e.g., wraparound, end of day, longest legs"
   ]
  },
  {
   "cell_type": "code",
   "execution_count": 13,
   "id": "365e682a",
   "metadata": {
    "tags": []
   },
   "outputs": [
    {
     "name": "stdout",
     "output_type": "stream",
     "text": [
      "91.03 pc of people have a wraparound plan\n"
     ]
    }
   ],
   "source": [
    "#check if plans wraparound (just check for selected plan)\n",
    "df[\"wraparound\"] = df[\"selected plan activity_type_or_mode\"].apply(lambda x: 1 if x[0]==x[-1] else 0)\n",
    "x = sum(df[\"wraparound\"])/len(df) * 100\n",
    "print(str(round(x, 2))+\" pc of people have a wraparound plan\")\n",
    "# df = df.drop(\"wraparound\", axis=1)\n",
    "\n",
    "#TODO: should we only keep wraparound plans??"
   ]
  },
  {
   "cell_type": "code",
   "execution_count": 14,
   "id": "037cc797",
   "metadata": {
    "tags": []
   },
   "outputs": [
    {
     "name": "stdout",
     "output_type": "stream",
     "text": [
      "25:29:22 is the latest end of final activity\n",
      "22:47:47 is the earliest end of final activity\n"
     ]
    }
   ],
   "source": [
    "#check what time the last activity ends (just check for selected plan). should be less than 32 hours\n",
    "df[\"eod_time\"] = df[\"selected plan duration\"].apply(lambda x: x[-1])\n",
    "print(str(max(df[\"eod_time\"]))+\" is the latest end of final activity\")\n",
    "print(str(min(df[\"eod_time\"]))+\" is the earliest end of final activity\")\n",
    "df = df.drop(\"eod_time\", axis=1)"
   ]
  },
  {
   "cell_type": "code",
   "execution_count": 15,
   "id": "23c9e49b",
   "metadata": {
    "tags": []
   },
   "outputs": [
    {
     "name": "stdout",
     "output_type": "stream",
     "text": [
      "['77:21:23'] is the longest leg recorded\n"
     ]
    }
   ],
   "source": [
    "#check how long the longest leg of a trip is\n",
    "df[\"legs_indices\"] = df[\"selected plan activity_type_or_mode\"].apply(moa.get_trips_indices_only)\n",
    "df[\"activities_indices\"] = df[\"selected plan activity_type_or_mode\"].apply(moa.get_activities_indices_only)\n",
    "df[\"selected plan leg_durations\"] = df.apply(lambda row: moa.get_trips_duration_or_mode(row[\"legs_indices\"], row[\"selected plan duration\"]), axis=1)\n",
    "df[\"selected plan activity_durations\"] = df.apply(lambda row: moa.get_trips_duration_or_mode(row[\"activities_indices\"], row[\"selected plan duration\"]), axis=1)\n",
    "\n",
    "print(str(max(df[\"selected plan leg_durations\"]))+\" is the longest leg recorded\")"
   ]
  },
  {
   "cell_type": "code",
   "execution_count": null,
   "id": "1e4f13fa",
   "metadata": {
    "tags": []
   },
   "outputs": [],
   "source": [
    "#check how utility changes over time - mean\n",
    "df2 = df[[\"surveyyear\", \"selected plan utility\"]]\n",
    "df2 = df2.groupby('surveyyear', as_index=False).mean()\n",
    "plt.plot(df2[\"surveyyear\"], df2[\"selected plan utility\"])\n",
    "plt.title(\"mean utility per year\")"
   ]
  },
  {
   "cell_type": "code",
   "execution_count": null,
   "id": "eb15eafa",
   "metadata": {
    "tags": []
   },
   "outputs": [],
   "source": [
    "#check how utility changes over time - median\n",
    "df2 = df[[\"surveyyear\", \"selected plan utility\"]]\n",
    "df2 = df2.groupby('surveyyear', as_index=False).median()\n",
    "plt.plot(df2[\"surveyyear\"], df2[\"selected plan utility\"])\n",
    "plt.title(\"median utility per year (including negative)\")"
   ]
  },
  {
   "cell_type": "markdown",
   "id": "2e3d7d79-732d-4a80-84a6-f702111e75e4",
   "metadata": {},
   "source": [
    "## Calculating utility components"
   ]
  },
  {
   "cell_type": "markdown",
   "id": "7e367894-1262-422e-b337-e34a57eaafec",
   "metadata": {},
   "source": [
    "Travel utility"
   ]
  },
  {
   "cell_type": "code",
   "execution_count": 16,
   "id": "8a7a541e-6d12-4a18-8dc3-7da647931977",
   "metadata": {
    "tags": []
   },
   "outputs": [],
   "source": [
    "# 1. Get the trips out \n",
    "df[\"selected plan trips\"] = df.apply(lambda row: moa.group_legs_into_trips(row[\"selected plan activity_type_or_mode\"], row[\"activities_indices\"]), axis=1)\n",
    "df[\"unselected plan (1) trips\"] = df.apply(lambda row: moa.group_legs_into_trips(row[\"unselected plan (1) activity_type_or_mode\"], row[\"activities_indices\"]), axis=1)\n",
    "df[\"unselected plan (2) trips\"] = df.apply(lambda row: moa.group_legs_into_trips(row[\"unselected plan (2) activity_type_or_mode\"], row[\"activities_indices\"]), axis=1)\n",
    "df[\"unselected plan (3) trips\"] = df.apply(lambda row: moa.group_legs_into_trips(row[\"unselected plan (3) activity_type_or_mode\"], row[\"activities_indices\"]), axis=1)\n",
    "df[\"unselected plan (4) trips\"] = df.apply(lambda row: moa.group_legs_into_trips(row[\"unselected plan (4) activity_type_or_mode\"], row[\"activities_indices\"]), axis=1)"
   ]
  },
  {
   "cell_type": "code",
   "execution_count": 17,
   "id": "a64da53b-fef6-4004-96fe-86f600b974d4",
   "metadata": {
    "tags": []
   },
   "outputs": [],
   "source": [
    "# 1. Keep corresponding trip durations and distances\n",
    "df[\"selected plan trips_duration\"] = df.apply(lambda row: moa.group_legs_into_trips_d(row[\"selected plan duration\"], row[\"activities_indices\"], \"duration\"), axis=1)\n",
    "df[\"unselected plan (1) trips_duration\"] = df.apply(lambda row: moa.group_legs_into_trips_d(row[\"unselected plan (1) duration\"], row[\"activities_indices\"], \"duration\"), axis=1)\n",
    "df[\"unselected plan (2) trips_duration\"] = df.apply(lambda row: moa.group_legs_into_trips_d(row[\"unselected plan (2) duration\"], row[\"activities_indices\"], \"duration\"), axis=1)\n",
    "df[\"unselected plan (3) trips_duration\"] = df.apply(lambda row: moa.group_legs_into_trips_d(row[\"unselected plan (3) duration\"], row[\"activities_indices\"], \"duration\"), axis=1)\n",
    "df[\"unselected plan (4) trips_duration\"] = df.apply(lambda row: moa.group_legs_into_trips_d(row[\"unselected plan (4) duration\"], row[\"activities_indices\"], \"duration\"), axis=1)\n",
    "\n",
    "df[\"selected plan trips_distance\"] = df.apply(lambda row: moa.group_legs_into_trips_d(row[\"selected plan distance_travelled\"], row[\"activities_indices\"], \"distance\"), axis=1)\n",
    "df[\"unselected plan (1) trips_distance\"] = df.apply(lambda row: moa.group_legs_into_trips_d(row[\"unselected plan (1) distance_travelled\"], row[\"activities_indices\"], \"distance\"), axis=1)\n",
    "df[\"unselected plan (2) trips_distance\"] = df.apply(lambda row: moa.group_legs_into_trips_d(row[\"unselected plan (2) distance_travelled\"], row[\"activities_indices\"], \"distance\"), axis=1)\n",
    "df[\"unselected plan (3) trips_distance\"] = df.apply(lambda row: moa.group_legs_into_trips_d(row[\"unselected plan (3) distance_travelled\"], row[\"activities_indices\"], \"distance\"), axis=1)\n",
    "df[\"unselected plan (4) trips_distance\"] = df.apply(lambda row: moa.group_legs_into_trips_d(row[\"unselected plan (4) distance_travelled\"], row[\"activities_indices\"], \"distance\"), axis=1)"
   ]
  },
  {
   "cell_type": "code",
   "execution_count": null,
   "id": "2d52fd0b",
   "metadata": {},
   "outputs": [],
   "source": [
    "def count_transfers(modes_in_leg):\n",
    "    publicTrans = [\"subway\",\"bus\",\"rail\", \"tram\",\"ferry\", \"pt\"]\n",
    "    transfers = 0\n",
    "    for i in range(len(modes_in_leg)-1):\n",
    "        if modes_in_leg[i] in publicTrans and modes_in_leg[i + 1] in publicTrans:\n",
    "            transfers += 1\n",
    "    return transfers\n",
    "# TODO: fix this to overlook short walks!\n",
    "#calculate the utility lost across trips in a plan. returns a list of the utility from each trip\n"
   ]
  },
  {
   "cell_type": "code",
   "execution_count": 51,
   "id": "76e60028",
   "metadata": {},
   "outputs": [],
   "source": [
    "#do the tolls\n",
    "import xmltodict\n",
    "import pprint\n",
    "\n",
    "with open('data/2040_do_minimum_40wfh_rerun_10pc_20250306/output_toll.xml', 'r', encoding='utf-8') as file:\n",
    "    my_xml = file.read()\n",
    "output_tolls = xmltodict.parse(my_xml)\n",
    "tolls = output_tolls[\"roadpricing\"][\"links\"][\"link\"]\n",
    "tolls2  = {item['@id']: item['cost']['@amount'] for item in tolls}"
   ]
  },
  {
   "cell_type": "code",
   "execution_count": 62,
   "id": "05b9ccce",
   "metadata": {},
   "outputs": [
    {
     "ename": "TypeError",
     "evalue": "calculate_travel_utility() takes 4 positional arguments but 6 were given",
     "output_type": "error",
     "traceback": [
      "\u001b[31m---------------------------------------------------------------------------\u001b[39m",
      "\u001b[31mTypeError\u001b[39m                                 Traceback (most recent call last)",
      "\u001b[36mCell\u001b[39m\u001b[36m \u001b[39m\u001b[32mIn[62]\u001b[39m\u001b[32m, line 1\u001b[39m\n\u001b[32m----> \u001b[39m\u001b[32m1\u001b[39m df[\u001b[33m\"\u001b[39m\u001b[33mcalculated_travel_utility\u001b[39m\u001b[33m\"\u001b[39m] = \u001b[43mdf\u001b[49m\u001b[43m.\u001b[49m\u001b[43mapply\u001b[49m\u001b[43m(\u001b[49m\u001b[38;5;28;43;01mlambda\u001b[39;49;00m\u001b[43m \u001b[49m\u001b[43mrow\u001b[49m\u001b[43m:\u001b[49m\u001b[43m \u001b[49m\u001b[43mmoa\u001b[49m\u001b[43m.\u001b[49m\u001b[43mcalculate_travel_utility\u001b[49m\u001b[43m(\u001b[49m\u001b[43mrow\u001b[49m\u001b[43m[\u001b[49m\u001b[33;43m\"\u001b[39;49m\u001b[33;43mselected plan trips\u001b[39;49m\u001b[33;43m\"\u001b[39;49m\u001b[43m]\u001b[49m\u001b[43m,\u001b[49m\u001b[43m \u001b[49m\u001b[43mrow\u001b[49m\u001b[43m[\u001b[49m\u001b[33;43m\"\u001b[39;49m\u001b[33;43mselected plan trips_duration\u001b[39;49m\u001b[33;43m\"\u001b[39;49m\u001b[43m]\u001b[49m\u001b[43m,\u001b[49m\u001b[43m \u001b[49m\u001b[43mrow\u001b[49m\u001b[43m[\u001b[49m\u001b[33;43m\"\u001b[39;49m\u001b[33;43mselected plan trips_distance\u001b[39;49m\u001b[33;43m\"\u001b[39;49m\u001b[43m]\u001b[49m\u001b[43m,\u001b[49m\u001b[43m \u001b[49m\u001b[43mrow\u001b[49m\u001b[43m[\u001b[49m\u001b[33;43m\"\u001b[39;49m\u001b[33;43msubpopulation\u001b[39;49m\u001b[33;43m\"\u001b[39;49m\u001b[43m]\u001b[49m\u001b[43m,\u001b[49m\u001b[43m \u001b[49m\u001b[43mrow\u001b[49m\u001b[43m[\u001b[49m\u001b[33;43m\"\u001b[39;49m\u001b[33;43mselected plan routes\u001b[39;49m\u001b[33;43m\"\u001b[39;49m\u001b[43m]\u001b[49m\u001b[43m,\u001b[49m\u001b[43m \u001b[49m\u001b[43mtolls2\u001b[49m\u001b[43m)\u001b[49m\u001b[43m,\u001b[49m\u001b[43m \u001b[49m\u001b[43maxis\u001b[49m\u001b[43m=\u001b[49m\u001b[32;43m1\u001b[39;49m\u001b[43m)\u001b[49m\n",
      "\u001b[36mFile \u001b[39m\u001b[32mc:\\Users\\maria\\Documents\\matsim_analysis\\venv\\Lib\\site-packages\\pandas\\core\\frame.py:10401\u001b[39m, in \u001b[36mDataFrame.apply\u001b[39m\u001b[34m(self, func, axis, raw, result_type, args, by_row, engine, engine_kwargs, **kwargs)\u001b[39m\n\u001b[32m  10387\u001b[39m \u001b[38;5;28;01mfrom\u001b[39;00m\u001b[38;5;250m \u001b[39m\u001b[34;01mpandas\u001b[39;00m\u001b[34;01m.\u001b[39;00m\u001b[34;01mcore\u001b[39;00m\u001b[34;01m.\u001b[39;00m\u001b[34;01mapply\u001b[39;00m\u001b[38;5;250m \u001b[39m\u001b[38;5;28;01mimport\u001b[39;00m frame_apply\n\u001b[32m  10389\u001b[39m op = frame_apply(\n\u001b[32m  10390\u001b[39m     \u001b[38;5;28mself\u001b[39m,\n\u001b[32m  10391\u001b[39m     func=func,\n\u001b[32m   (...)\u001b[39m\u001b[32m  10399\u001b[39m     kwargs=kwargs,\n\u001b[32m  10400\u001b[39m )\n\u001b[32m> \u001b[39m\u001b[32m10401\u001b[39m \u001b[38;5;28;01mreturn\u001b[39;00m \u001b[43mop\u001b[49m\u001b[43m.\u001b[49m\u001b[43mapply\u001b[49m\u001b[43m(\u001b[49m\u001b[43m)\u001b[49m.__finalize__(\u001b[38;5;28mself\u001b[39m, method=\u001b[33m\"\u001b[39m\u001b[33mapply\u001b[39m\u001b[33m\"\u001b[39m)\n",
      "\u001b[36mFile \u001b[39m\u001b[32mc:\\Users\\maria\\Documents\\matsim_analysis\\venv\\Lib\\site-packages\\pandas\\core\\apply.py:916\u001b[39m, in \u001b[36mFrameApply.apply\u001b[39m\u001b[34m(self)\u001b[39m\n\u001b[32m    913\u001b[39m \u001b[38;5;28;01melif\u001b[39;00m \u001b[38;5;28mself\u001b[39m.raw:\n\u001b[32m    914\u001b[39m     \u001b[38;5;28;01mreturn\u001b[39;00m \u001b[38;5;28mself\u001b[39m.apply_raw(engine=\u001b[38;5;28mself\u001b[39m.engine, engine_kwargs=\u001b[38;5;28mself\u001b[39m.engine_kwargs)\n\u001b[32m--> \u001b[39m\u001b[32m916\u001b[39m \u001b[38;5;28;01mreturn\u001b[39;00m \u001b[38;5;28;43mself\u001b[39;49m\u001b[43m.\u001b[49m\u001b[43mapply_standard\u001b[49m\u001b[43m(\u001b[49m\u001b[43m)\u001b[49m\n",
      "\u001b[36mFile \u001b[39m\u001b[32mc:\\Users\\maria\\Documents\\matsim_analysis\\venv\\Lib\\site-packages\\pandas\\core\\apply.py:1063\u001b[39m, in \u001b[36mFrameApply.apply_standard\u001b[39m\u001b[34m(self)\u001b[39m\n\u001b[32m   1061\u001b[39m \u001b[38;5;28;01mdef\u001b[39;00m\u001b[38;5;250m \u001b[39m\u001b[34mapply_standard\u001b[39m(\u001b[38;5;28mself\u001b[39m):\n\u001b[32m   1062\u001b[39m     \u001b[38;5;28;01mif\u001b[39;00m \u001b[38;5;28mself\u001b[39m.engine == \u001b[33m\"\u001b[39m\u001b[33mpython\u001b[39m\u001b[33m\"\u001b[39m:\n\u001b[32m-> \u001b[39m\u001b[32m1063\u001b[39m         results, res_index = \u001b[38;5;28;43mself\u001b[39;49m\u001b[43m.\u001b[49m\u001b[43mapply_series_generator\u001b[49m\u001b[43m(\u001b[49m\u001b[43m)\u001b[49m\n\u001b[32m   1064\u001b[39m     \u001b[38;5;28;01melse\u001b[39;00m:\n\u001b[32m   1065\u001b[39m         results, res_index = \u001b[38;5;28mself\u001b[39m.apply_series_numba()\n",
      "\u001b[36mFile \u001b[39m\u001b[32mc:\\Users\\maria\\Documents\\matsim_analysis\\venv\\Lib\\site-packages\\pandas\\core\\apply.py:1081\u001b[39m, in \u001b[36mFrameApply.apply_series_generator\u001b[39m\u001b[34m(self)\u001b[39m\n\u001b[32m   1078\u001b[39m \u001b[38;5;28;01mwith\u001b[39;00m option_context(\u001b[33m\"\u001b[39m\u001b[33mmode.chained_assignment\u001b[39m\u001b[33m\"\u001b[39m, \u001b[38;5;28;01mNone\u001b[39;00m):\n\u001b[32m   1079\u001b[39m     \u001b[38;5;28;01mfor\u001b[39;00m i, v \u001b[38;5;129;01min\u001b[39;00m \u001b[38;5;28menumerate\u001b[39m(series_gen):\n\u001b[32m   1080\u001b[39m         \u001b[38;5;66;03m# ignore SettingWithCopy here in case the user mutates\u001b[39;00m\n\u001b[32m-> \u001b[39m\u001b[32m1081\u001b[39m         results[i] = \u001b[38;5;28;43mself\u001b[39;49m\u001b[43m.\u001b[49m\u001b[43mfunc\u001b[49m\u001b[43m(\u001b[49m\u001b[43mv\u001b[49m\u001b[43m,\u001b[49m\u001b[43m \u001b[49m\u001b[43m*\u001b[49m\u001b[38;5;28;43mself\u001b[39;49m\u001b[43m.\u001b[49m\u001b[43margs\u001b[49m\u001b[43m,\u001b[49m\u001b[43m \u001b[49m\u001b[43m*\u001b[49m\u001b[43m*\u001b[49m\u001b[38;5;28;43mself\u001b[39;49m\u001b[43m.\u001b[49m\u001b[43mkwargs\u001b[49m\u001b[43m)\u001b[49m\n\u001b[32m   1082\u001b[39m         \u001b[38;5;28;01mif\u001b[39;00m \u001b[38;5;28misinstance\u001b[39m(results[i], ABCSeries):\n\u001b[32m   1083\u001b[39m             \u001b[38;5;66;03m# If we have a view on v, we need to make a copy because\u001b[39;00m\n\u001b[32m   1084\u001b[39m             \u001b[38;5;66;03m#  series_generator will swap out the underlying data\u001b[39;00m\n\u001b[32m   1085\u001b[39m             results[i] = results[i].copy(deep=\u001b[38;5;28;01mFalse\u001b[39;00m)\n",
      "\u001b[36mCell\u001b[39m\u001b[36m \u001b[39m\u001b[32mIn[62]\u001b[39m\u001b[32m, line 1\u001b[39m, in \u001b[36m<lambda>\u001b[39m\u001b[34m(row)\u001b[39m\n\u001b[32m----> \u001b[39m\u001b[32m1\u001b[39m df[\u001b[33m\"\u001b[39m\u001b[33mcalculated_travel_utility\u001b[39m\u001b[33m\"\u001b[39m] = df.apply(\u001b[38;5;28;01mlambda\u001b[39;00m row: \u001b[43mmoa\u001b[49m\u001b[43m.\u001b[49m\u001b[43mcalculate_travel_utility\u001b[49m\u001b[43m(\u001b[49m\u001b[43mrow\u001b[49m\u001b[43m[\u001b[49m\u001b[33;43m\"\u001b[39;49m\u001b[33;43mselected plan trips\u001b[39;49m\u001b[33;43m\"\u001b[39;49m\u001b[43m]\u001b[49m\u001b[43m,\u001b[49m\u001b[43m \u001b[49m\u001b[43mrow\u001b[49m\u001b[43m[\u001b[49m\u001b[33;43m\"\u001b[39;49m\u001b[33;43mselected plan trips_duration\u001b[39;49m\u001b[33;43m\"\u001b[39;49m\u001b[43m]\u001b[49m\u001b[43m,\u001b[49m\u001b[43m \u001b[49m\u001b[43mrow\u001b[49m\u001b[43m[\u001b[49m\u001b[33;43m\"\u001b[39;49m\u001b[33;43mselected plan trips_distance\u001b[39;49m\u001b[33;43m\"\u001b[39;49m\u001b[43m]\u001b[49m\u001b[43m,\u001b[49m\u001b[43m \u001b[49m\u001b[43mrow\u001b[49m\u001b[43m[\u001b[49m\u001b[33;43m\"\u001b[39;49m\u001b[33;43msubpopulation\u001b[39;49m\u001b[33;43m\"\u001b[39;49m\u001b[43m]\u001b[49m\u001b[43m,\u001b[49m\u001b[43m \u001b[49m\u001b[43mrow\u001b[49m\u001b[43m[\u001b[49m\u001b[33;43m\"\u001b[39;49m\u001b[33;43mselected plan routes\u001b[39;49m\u001b[33;43m\"\u001b[39;49m\u001b[43m]\u001b[49m\u001b[43m,\u001b[49m\u001b[43m \u001b[49m\u001b[43mtolls2\u001b[49m\u001b[43m)\u001b[49m, axis=\u001b[32m1\u001b[39m)\n",
      "\u001b[31mTypeError\u001b[39m: calculate_travel_utility() takes 4 positional arguments but 6 were given"
     ]
    }
   ],
   "source": [
    "df[\"calculated_travel_utility\"] = df.apply(lambda row: moa.calculate_travel_utility(row[\"selected plan trips\"], row[\"selected plan trips_duration\"], row[\"selected plan trips_distance\"], row[\"subpopulation\"], row[\"selected plan routes\"], tolls2), axis=1)"
   ]
  },
  {
   "cell_type": "code",
   "execution_count": null,
   "id": "cc4d82f1",
   "metadata": {},
   "outputs": [],
   "source": []
  },
  {
   "cell_type": "markdown",
   "id": "edbb8877-62ec-438f-a702-aff2b23ab7f2",
   "metadata": {},
   "source": [
    "Activity utility"
   ]
  },
  {
   "cell_type": "code",
   "execution_count": null,
   "id": "747ed1f3-7293-4315-ab52-743ac449f368",
   "metadata": {
    "tags": []
   },
   "outputs": [],
   "source": [
    "# just for initial sense checking, see if the calcs work for \"well behaved\" agents, ie those who DO wraparound and have positive utility\n",
    "df_wellbehaved = df[df[\"selected plan utility\"]>0]\n",
    "df_wellbehaved = df_wellbehaved[df_wellbehaved[\"wraparound\"]==1]"
   ]
  },
  {
   "cell_type": "code",
   "execution_count": null,
   "id": "d782fb9b-4d1b-4b58-8de4-3c4878c76297",
   "metadata": {
    "tags": []
   },
   "outputs": [],
   "source": [
    "df_wellbehaved[\"activity_durations\"] = df_wellbehaved.apply(lambda row: moa.get_activity_durations(row[\"activities_indices\"], row[\"selected plan duration\"], row[\"selected plan activity_type_or_mode\"]), axis=1)"
   ]
  },
  {
   "cell_type": "code",
   "execution_count": null,
   "id": "102394c9-5319-4aa4-ab8d-6da1d5946ece",
   "metadata": {
    "tags": []
   },
   "outputs": [],
   "source": [
    "df_wellbehaved[\"selected plan activities\"] = df_wellbehaved.apply(lambda row: moa.get_activities(row[\"selected plan activity_type_or_mode\"], row[\"activities_indices\"]), axis=1)"
   ]
  },
  {
   "cell_type": "code",
   "execution_count": null,
   "id": "40b785a7-3cc0-4c35-b797-9f99a56d0348",
   "metadata": {
    "tags": []
   },
   "outputs": [],
   "source": [
    "df_wellbehaved[\"calculated_activity_utility\"] = df_wellbehaved.apply(lambda row: moa.calculate_activity_utility(row[\"selected plan activities\"], row[\"activity_durations\"]), axis=1)"
   ]
  },
  {
   "cell_type": "code",
   "execution_count": null,
   "id": "5ecc7893",
   "metadata": {},
   "outputs": [],
   "source": [
    "df_wellbehaved[\"total_travel_u\"] = df_wellbehaved.apply(lambda row: sum(row[\"calculated_travel_utility\"]), axis=1)\n",
    "df_wellbehaved.iloc[119][\"total_travel_u\"]"
   ]
  },
  {
   "cell_type": "code",
   "execution_count": null,
   "id": "0fc48799",
   "metadata": {},
   "outputs": [],
   "source": [
    "df_wellbehaved[\"total_activity_u\"] = df_wellbehaved.apply(lambda row: sum(row[\"calculated_activity_utility\"]), axis=1)\n",
    "df_wellbehaved.iloc[119][\"total_activity_u\"]"
   ]
  },
  {
   "cell_type": "code",
   "execution_count": null,
   "id": "aed3f804",
   "metadata": {},
   "outputs": [],
   "source": [
    "df_wellbehaved[\"calculated_total_u\"] = df_wellbehaved[\"total_travel_u\"]+df_wellbehaved[\"total_activity_u\"]\n",
    "df_wellbehaved.iloc[119][\"calculated_total_u\"]"
   ]
  },
  {
   "cell_type": "code",
   "execution_count": null,
   "id": "ebc1ef79",
   "metadata": {},
   "outputs": [],
   "source": [
    "df_wellbehaved[\"travel_tot\"] = df_wellbehaved[\"calculated_travel_utility\"].apply(lambda x: sum(x))\n",
    "df_wellbehaved[\"activity_tot\"] = df_wellbehaved[\"calculated_activity_utility\"].apply(lambda x: sum(x))"
   ]
  },
  {
   "cell_type": "code",
   "execution_count": null,
   "id": "dbdbc11e",
   "metadata": {},
   "outputs": [],
   "source": [
    "print(max(df_wellbehaved[\"travel_tot\"]))\n",
    "print(min(df_wellbehaved[\"travel_tot\"]))\n",
    "print(max(df_wellbehaved[\"activity_tot\"]))\n",
    "print(min(df_wellbehaved[\"activity_tot\"]))"
   ]
  },
  {
   "cell_type": "code",
   "execution_count": null,
   "id": "3f1dc760",
   "metadata": {},
   "outputs": [],
   "source": [
    "plt.hist(df_wellbehaved[\"calculated_total_u\"])"
   ]
  },
  {
   "cell_type": "code",
   "execution_count": null,
   "id": "51bb35b1",
   "metadata": {},
   "outputs": [],
   "source": [
    "plt.plot(df_wellbehaved[\"selected plan utility\"], df_wellbehaved[\"calculated_total_u\"], \"x\")"
   ]
  },
  {
   "cell_type": "code",
   "execution_count": null,
   "id": "1dff7934-66d0-41d4-b1c6-a36d7c887b36",
   "metadata": {
    "tags": []
   },
   "outputs": [],
   "source": [
    "us = (list(df_wellbehaved[\"calculated_total_u\"]))"
   ]
  },
  {
   "cell_type": "code",
   "execution_count": null,
   "id": "7a74f38c",
   "metadata": {},
   "outputs": [],
   "source": [
    "for i in range(len(us)):\n",
    "    if  us[i] < -400:\n",
    "        print(i)"
   ]
  },
  {
   "cell_type": "code",
   "execution_count": null,
   "id": "9d7985e0",
   "metadata": {},
   "outputs": [],
   "source": [
    "df_wellbehaved.iloc[31][\"calculated_total_u\"]"
   ]
  },
  {
   "cell_type": "code",
   "execution_count": null,
   "id": "5532a22c",
   "metadata": {},
   "outputs": [],
   "source": [
    "df_wellbehaved.iloc[210][\"calculated_travel_utility\"]"
   ]
  },
  {
   "cell_type": "code",
   "execution_count": null,
   "id": "3dccdc94",
   "metadata": {},
   "outputs": [],
   "source": [
    "df_wellbehaved.iloc[626][\"selected plan utility\"]"
   ]
  },
  {
   "cell_type": "code",
   "execution_count": null,
   "id": "662ba1e7",
   "metadata": {},
   "outputs": [],
   "source": [
    "df_wellbehaved.iloc[626][\"selected plan duration\"]"
   ]
  },
  {
   "cell_type": "code",
   "execution_count": null,
   "id": "4d7a9f1d",
   "metadata": {},
   "outputs": [],
   "source": [
    "df_wellbehaved.iloc[626][\"selected plan distance_travelled\"]"
   ]
  },
  {
   "cell_type": "code",
   "execution_count": null,
   "id": "79295345",
   "metadata": {},
   "outputs": [],
   "source": [
    "df_wellbehaved.iloc[626][\"selected plan activity_type_or_mode\"]"
   ]
  },
  {
   "cell_type": "code",
   "execution_count": null,
   "id": "afe7d73a",
   "metadata": {},
   "outputs": [],
   "source": [
    "df_wellbehaved.iloc[626][\"activity_durations\"]"
   ]
  },
  {
   "cell_type": "code",
   "execution_count": null,
   "id": "caf0b1e6",
   "metadata": {},
   "outputs": [],
   "source": [
    "df_wellbehaved.iloc[210][\"calculated_activity_utility\"]"
   ]
  },
  {
   "cell_type": "code",
   "execution_count": null,
   "id": "55e22efd",
   "metadata": {},
   "outputs": [],
   "source": []
  },
  {
   "cell_type": "code",
   "execution_count": null,
   "id": "643551cf",
   "metadata": {},
   "outputs": [],
   "source": [
    "df_wellbehaved.iloc[31][\"selected plan trips\"]"
   ]
  },
  {
   "cell_type": "code",
   "execution_count": null,
   "id": "fa1897f9",
   "metadata": {},
   "outputs": [],
   "source": [
    "list(df_wellbehaved.columns.values)"
   ]
  },
  {
   "cell_type": "code",
   "execution_count": null,
   "id": "e076b3f9",
   "metadata": {},
   "outputs": [],
   "source": [
    "a = df_wellbehaved.iloc[31][\"selected plan trips\"]\n",
    "b = df_wellbehaved.iloc[31][\"selected plan trips_distance\"]\n",
    "c = df_wellbehaved.iloc[31][\"selected plan trips_duration\"]\n",
    "d = \"high\""
   ]
  },
  {
   "cell_type": "code",
   "execution_count": null,
   "id": "44390a1d",
   "metadata": {},
   "outputs": [],
   "source": [
    "travtest = moa.calculate_travel_utility(a,b,c,d)\n",
    "print(travtest)"
   ]
  },
  {
   "cell_type": "markdown",
   "id": "607c7182",
   "metadata": {},
   "source": [
    "## Whole plan modal flexibility"
   ]
  },
  {
   "cell_type": "markdown",
   "id": "ce2f092d",
   "metadata": {
    "jupyter": {
     "source_hidden": true
    },
    "tags": []
   },
   "source": [
    "This requires the function to choose only the longest leg per trip and use that as a proxy for simplicity. Then compare the plan's set of main modes across plans and compare this to utility change across plans. Completed in old code setup. Skipped for now here. "
   ]
  },
  {
   "cell_type": "markdown",
   "id": "379979a4",
   "metadata": {},
   "source": [
    "## Trip-based modal flexibility"
   ]
  },
  {
   "cell_type": "markdown",
   "id": "ae11181e",
   "metadata": {},
   "source": [
    "Here we can unpick the utility function and compare utility for a person for a given trip. We can look at either a given trip number (e.g., first trip of the day), the longest (distance) trip, a given trip purpose (e.g., travel to work), or get a composite across the whole day (complex!!). We can also look at just the longest leg of the trip for simplicity or look at the total set of legs together. To do this well, we need to understand the config files properly though - **AGH**."
   ]
  },
  {
   "cell_type": "markdown",
   "id": "d52cac36",
   "metadata": {},
   "source": [
    "### First trip of the day, combining all legs"
   ]
  },
  {
   "cell_type": "markdown",
   "id": "c9e0fa89",
   "metadata": {},
   "source": [
    "1. Separate out the trips and choose the first (for each plan)\n",
    "2. Find the change in mode by comparing the whole combination of modes -> check, this might be problematic and we may need to revert to looking at main mode (by distance) for this step\n",
    "3. Calculate the utility lost for each leg and sum to find utility of trip. For each plan\n",
    "4. Find the change in utility across plans\n",
    "5. Find the flexibility by comparing change in mode to change in plans"
   ]
  }
 ],
 "metadata": {
  "kernelspec": {
   "display_name": "venv",
   "language": "python",
   "name": "python3"
  },
  "language_info": {
   "codemirror_mode": {
    "name": "ipython",
    "version": 3
   },
   "file_extension": ".py",
   "mimetype": "text/x-python",
   "name": "python",
   "nbconvert_exporter": "python",
   "pygments_lexer": "ipython3",
   "version": "3.12.0"
  }
 },
 "nbformat": 4,
 "nbformat_minor": 5
}
