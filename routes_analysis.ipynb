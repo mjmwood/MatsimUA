{
 "cells": [
  {
   "cell_type": "code",
   "execution_count": 1,
   "id": "2f02120f",
   "metadata": {},
   "outputs": [],
   "source": [
    "import numpy as np\n",
    "import pandas as pd\n",
    "# import geopandas as gpd\n",
    "import matplotlib.pyplot as plt\n",
    "import matsim_output_analysis as moa\n",
    "import operator"
   ]
  },
  {
   "cell_type": "code",
   "execution_count": 2,
   "id": "35923c2f",
   "metadata": {},
   "outputs": [],
   "source": [
    "df = pd.read_csv(r\"2000_sample_routes.csv\")"
   ]
  },
  {
   "cell_type": "code",
   "execution_count": 14,
   "id": "9e9759f3",
   "metadata": {},
   "outputs": [],
   "source": [
    "import xmltodict\n",
    "import pprint\n",
    "\n",
    "# Open the file and read the contents\n",
    "with open('data/2040_do_minimum_40wfh_rerun_10pc_20250306/output_toll.xml', 'r', encoding='utf-8') as file:\n",
    "    my_xml = file.read()\n",
    "\n",
    "# Use xmltodict to parse and convert the \n",
    "# XML document\n",
    "output_tolls = xmltodict.parse(my_xml)\n"
   ]
  },
  {
   "cell_type": "code",
   "execution_count": 66,
   "id": "19735415",
   "metadata": {},
   "outputs": [],
   "source": [
    "tolls = output_tolls[\"roadpricing\"][\"links\"][\"link\"]"
   ]
  },
  {
   "cell_type": "code",
   "execution_count": 67,
   "id": "3b857228",
   "metadata": {},
   "outputs": [],
   "source": [
    "tolls2  = {item['@id']: item['cost']['@amount'] for item in tolls}"
   ]
  },
  {
   "cell_type": "code",
   "execution_count": null,
   "id": "1203db33",
   "metadata": {},
   "outputs": [],
   "source": []
  }
 ],
 "metadata": {
  "kernelspec": {
   "display_name": "venv",
   "language": "python",
   "name": "python3"
  },
  "language_info": {
   "codemirror_mode": {
    "name": "ipython",
    "version": 3
   },
   "file_extension": ".py",
   "mimetype": "text/x-python",
   "name": "python",
   "nbconvert_exporter": "python",
   "pygments_lexer": "ipython3",
   "version": "3.12.0"
  }
 },
 "nbformat": 4,
 "nbformat_minor": 5
}
