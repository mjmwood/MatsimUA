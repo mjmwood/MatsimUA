{
 "cells": [
  {
   "cell_type": "code",
   "execution_count": 1,
   "id": "2f02120f",
   "metadata": {},
   "outputs": [],
   "source": [
    "import numpy as np\n",
    "import pandas as pd\n",
    "# import geopandas as gpd\n",
    "import matplotlib.pyplot as plt\n",
    "import matsim_output_analysis as moa\n",
    "import operator"
   ]
  },
  {
   "cell_type": "code",
   "execution_count": 84,
   "id": "35923c2f",
   "metadata": {},
   "outputs": [],
   "source": [
    "df = pd.read_csv(r\"2000_sample_routes.csv\")"
   ]
  },
  {
   "cell_type": "code",
   "execution_count": 14,
   "id": "9e9759f3",
   "metadata": {},
   "outputs": [],
   "source": [
    "import xmltodict\n",
    "import pprint\n",
    "\n",
    "# Open the file and read the contents\n",
    "with open('data/2040_do_minimum_40wfh_rerun_10pc_20250306/output_toll.xml', 'r', encoding='utf-8') as file:\n",
    "    my_xml = file.read()\n",
    "\n",
    "# Use xmltodict to parse and convert the \n",
    "# XML document\n",
    "output_tolls = xmltodict.parse(my_xml)\n"
   ]
  },
  {
   "cell_type": "code",
   "execution_count": 66,
   "id": "19735415",
   "metadata": {},
   "outputs": [],
   "source": [
    "tolls = output_tolls[\"roadpricing\"][\"links\"][\"link\"]"
   ]
  },
  {
   "cell_type": "code",
   "execution_count": 67,
   "id": "3b857228",
   "metadata": {},
   "outputs": [],
   "source": [
    "tolls2  = {item['@id']: item['cost']['@amount'] for item in tolls}"
   ]
  },
  {
   "cell_type": "code",
   "execution_count": 85,
   "id": "4465b2ce",
   "metadata": {},
   "outputs": [],
   "source": [
    "df['selected plan routes'] = df['selected plan routes'].str.split(';')"
   ]
  },
  {
   "cell_type": "code",
   "execution_count": 98,
   "id": "77ebd7ef",
   "metadata": {},
   "outputs": [
    {
     "data": {
      "text/plain": [
       "'home; car; work; car; home'"
      ]
     },
     "execution_count": 98,
     "metadata": {},
     "output_type": "execute_result"
    }
   ],
   "source": [
    "(df[\"selected plan activity_type_or_mode\"][2])"
   ]
  },
  {
   "cell_type": "markdown",
   "id": "7499f34c",
   "metadata": {},
   "source": [
    "walk: location1 -> location 2 \n",
    "\n",
    "bus: \"transitRouteID\" etc \n",
    "\n",
    "car: list of roads"
   ]
  },
  {
   "cell_type": "code",
   "execution_count": 99,
   "id": "26fe67f6",
   "metadata": {},
   "outputs": [
    {
     "name": "stdout",
     "output_type": "stream",
     "text": [
      "['5177034213638949077_5177034214099135565 5177034214099135565_5177034213638949077 5177034213638949077_5177034213673155283 5177034213673155283_5177034213859265529 5177034213859265529_5177034213858590501 526302 432582 383078 605671 567406 962 261927 435077 5177034260682522991_5177034260529361157 5177034260529361157_5177034260540022931 183162 258658 5177034260553838313_5177034260565194601 68070 5177034260207123369_5177034260242459641 297278 5177034262888811555_5177034263204638275 112107 5177034263268854421_5177034262631734929 197241 5177034262608966613_5177034263337218197', ' 5177034262608966613_5177034263337218197 5177034263337218197_5177034262608966613 537001 5177034262631734929_5177034263268854421 315698 5177034260362238039_5177034260500209767 471269 395420 5177034260540022931_5177034260529361157 5177034260529361157_5177034260682522991 109580 2523 390926 525529 143758 374297 39643 560148 5177034213858590501_5177034213859265529 5177034213859265529_5177034213673155283 5177034213673155283_5177034213638949077 5177034213638949077_5177034214099135565']\n"
     ]
    }
   ],
   "source": [
    "print((df[\"selected plan routes\"][2]))"
   ]
  },
  {
   "cell_type": "code",
   "execution_count": 111,
   "id": "1178d2c5",
   "metadata": {},
   "outputs": [],
   "source": [
    "df[\"selected plan activity_type_or_mode\"] = df[\"selected plan activity_type_or_mode\"].str.split(\"; \")"
   ]
  },
  {
   "cell_type": "code",
   "execution_count": 112,
   "id": "282bf4c1",
   "metadata": {},
   "outputs": [
    {
     "data": {
      "text/plain": [
       "['home', 'car', 'work', 'car', 'home']"
      ]
     },
     "execution_count": 112,
     "metadata": {},
     "output_type": "execute_result"
    }
   ],
   "source": [
    "df[\"selected plan activity_type_or_mode\"][2]"
   ]
  },
  {
   "cell_type": "code",
   "execution_count": 149,
   "id": "1203db33",
   "metadata": {},
   "outputs": [],
   "source": [
    "def assign_tolls(tolls, routes, travel_modes):\n",
    "    tolls_list = []\n",
    "    for i in range(len(travel_modes)):\n",
    "        if travel_modes[i] == \"car\": #right? only drivers have to pay tolls? TODO: check this\n",
    "            routes_temp = routes[i].split(' ')\n",
    "            toll_sum_temp = 0\n",
    "            for j in routes_temp:\n",
    "                try:\n",
    "                    toll_temp = tolls[str(j)]\n",
    "                except KeyError:\n",
    "                    toll_temp = 0\n",
    "                else:\n",
    "                    toll_temp = tolls[str(j)]\n",
    "                toll_sum_temp += float(toll_temp)\n",
    "        tolls_list.append(toll_sum_temp)\n",
    "    # print(tolls_list)        \n",
    "    return(sum(tolls_list))"
   ]
  },
  {
   "cell_type": "code",
   "execution_count": 150,
   "id": "6a9c5437",
   "metadata": {},
   "outputs": [
    {
     "data": {
      "text/plain": [
       "70.0"
      ]
     },
     "execution_count": 150,
     "metadata": {},
     "output_type": "execute_result"
    }
   ],
   "source": [
    "# assign_tolls(tolls2, df[\"selected plan routes\"][2], [\"car\", \"car\"])\n",
    "assign_tolls(tolls2, [\"619155 10000000 619155\", \"73428 12 13 4\"], [\"car\", \"car\"])"
   ]
  },
  {
   "cell_type": "code",
   "execution_count": 131,
   "id": "c6bdca2b",
   "metadata": {},
   "outputs": [
    {
     "data": {
      "text/plain": [
       "['5177034213638949077_5177034214099135565 5177034214099135565_5177034213638949077 5177034213638949077_5177034213673155283 5177034213673155283_5177034213859265529 5177034213859265529_5177034213858590501 526302 432582 383078 605671 567406 962 261927 435077 5177034260682522991_5177034260529361157 5177034260529361157_5177034260540022931 183162 258658 5177034260553838313_5177034260565194601 68070 5177034260207123369_5177034260242459641 297278 5177034262888811555_5177034263204638275 112107 5177034263268854421_5177034262631734929 197241 5177034262608966613_5177034263337218197',\n",
       " ' 5177034262608966613_5177034263337218197 5177034263337218197_5177034262608966613 537001 5177034262631734929_5177034263268854421 315698 5177034260362238039_5177034260500209767 471269 395420 5177034260540022931_5177034260529361157 5177034260529361157_5177034260682522991 109580 2523 390926 525529 143758 374297 39643 560148 5177034213858590501_5177034213859265529 5177034213859265529_5177034213673155283 5177034213673155283_5177034213638949077 5177034213638949077_5177034214099135565']"
      ]
     },
     "execution_count": 131,
     "metadata": {},
     "output_type": "execute_result"
    }
   ],
   "source": [
    "df[\"selected plan routes\"][2]"
   ]
  },
  {
   "cell_type": "code",
   "execution_count": null,
   "id": "d0aabaa7",
   "metadata": {},
   "outputs": [],
   "source": []
  }
 ],
 "metadata": {
  "kernelspec": {
   "display_name": "venv",
   "language": "python",
   "name": "python3"
  },
  "language_info": {
   "codemirror_mode": {
    "name": "ipython",
    "version": 3
   },
   "file_extension": ".py",
   "mimetype": "text/x-python",
   "name": "python",
   "nbconvert_exporter": "python",
   "pygments_lexer": "ipython3",
   "version": "3.12.0"
  }
 },
 "nbformat": 4,
 "nbformat_minor": 5
}
