{
 "cells": [
  {
   "cell_type": "code",
   "execution_count": 1,
   "id": "bdd2e64c",
   "metadata": {},
   "outputs": [],
   "source": [
    "import pandas as pd"
   ]
  },
  {
   "cell_type": "code",
   "execution_count": 2,
   "id": "70247ae8",
   "metadata": {},
   "outputs": [
    {
     "name": "stderr",
     "output_type": "stream",
     "text": [
      "C:\\Users\\maria\\AppData\\Local\\Temp\\ipykernel_56816\\386055467.py:1: DtypeWarning: Columns (8) have mixed types. Specify dtype option on import or set low_memory=False.\n",
      "  df = pd.read_csv(r\"2040baselineoutputs_101025.csv\") #using look3, ignoring some fields such as carCO2\n"
     ]
    }
   ],
   "source": [
    "df = pd.read_csv(r\"2040baselineoutputs_101025.csv\") #using look3, ignoring some fields such as carCO2\n",
    "df=df.sample(2000)\n",
    "df.to_csv(\"2000_sample.csv\")"
   ]
  },
  {
   "cell_type": "code",
   "execution_count": 2,
   "id": "cbc8a813",
   "metadata": {},
   "outputs": [
    {
     "name": "stderr",
     "output_type": "stream",
     "text": [
      "C:\\Users\\maria\\AppData\\Local\\Temp\\ipykernel_45580\\3072031213.py:1: DtypeWarning: Columns (8) have mixed types. Specify dtype option on import or set low_memory=False.\n",
      "  df = pd.read_csv(r\"2040baselineoutputs_231025.csv\") #using look3, ignoring some fields such as carCO2\n"
     ]
    }
   ],
   "source": [
    "df = pd.read_csv(r\"2040baselineoutputs_231025.csv\") #using look3, ignoring some fields such as carCO2\n",
    "df=df.sample(2000)\n",
    "df.to_csv(\"2000_sample_routes.csv\")"
   ]
  },
  {
   "cell_type": "code",
   "execution_count": null,
   "id": "e3b905b5",
   "metadata": {},
   "outputs": [],
   "source": []
  }
 ],
 "metadata": {
  "kernelspec": {
   "display_name": "venv",
   "language": "python",
   "name": "python3"
  },
  "language_info": {
   "codemirror_mode": {
    "name": "ipython",
    "version": 3
   },
   "file_extension": ".py",
   "mimetype": "text/x-python",
   "name": "python",
   "nbconvert_exporter": "python",
   "pygments_lexer": "ipython3",
   "version": "3.12.0"
  }
 },
 "nbformat": 4,
 "nbformat_minor": 5
}
