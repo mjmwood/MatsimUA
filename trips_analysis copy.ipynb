{
 "cells": [
  {
   "cell_type": "markdown",
   "id": "3c3b25cd",
   "metadata": {},
   "source": [
    "# MATSim analysis"
   ]
  },
  {
   "cell_type": "markdown",
   "id": "d26e58e6",
   "metadata": {},
   "source": [
    "### Getting main trips out of synthetic population MATSim results"
   ]
  },
  {
   "cell_type": "code",
   "execution_count": 4,
   "id": "87c3e094",
   "metadata": {},
   "outputs": [],
   "source": [
    "import pandas as pd\n",
    "import matplotlib.pyplot as plt\n",
    "import geopandas as gpd\n",
    "import numpy as np"
   ]
  },
  {
   "cell_type": "markdown",
   "id": "ff096690",
   "metadata": {},
   "source": [
    "Load data"
   ]
  },
  {
   "cell_type": "code",
   "execution_count": null,
   "id": "17877ade",
   "metadata": {},
   "outputs": [
    {
     "name": "stderr",
     "output_type": "stream",
     "text": [
      "C:\\Users\\maria\\AppData\\Local\\Temp\\ipykernel_38732\\2736777709.py:1: DtypeWarning: Columns (8) have mixed types. Specify dtype option on import or set low_memory=False.\n",
      "  df = pd.read_csv(r\"2040baselineoutputs.csv\")\n"
     ]
    }
   ],
   "source": [
    "df = pd.read_csv(r\"2040baselineoutputs.csv\") #using look3, ignoring some fields such as carCO2"
   ]
  },
  {
   "cell_type": "code",
   "execution_count": 9,
   "id": "16e36984",
   "metadata": {},
   "outputs": [],
   "source": [
    "df = df[~df[\"subpopulation\"].isin([\"hgv\",\"lgv\",\"airport\", \"lgv_ev\"])]"
   ]
  },
  {
   "cell_type": "markdown",
   "id": "b0908ed2",
   "metadata": {},
   "source": [
    "### initial analysis overview"
   ]
  },
  {
   "cell_type": "code",
   "execution_count": 19,
   "id": "9572137c",
   "metadata": {},
   "outputs": [
    {
     "name": "stdout",
     "output_type": "stream",
     "text": [
      "22911\n"
     ]
    }
   ],
   "source": [
    "negatives = len(df[df[\"selected plan utility\"]<0])\n",
    "print(negatives)"
   ]
  },
  {
   "cell_type": "code",
   "execution_count": 24,
   "id": "49896a5a",
   "metadata": {},
   "outputs": [
    {
     "data": {
      "text/plain": [
       "0.05098028744417669"
      ]
     },
     "execution_count": 24,
     "metadata": {},
     "output_type": "execute_result"
    }
   ],
   "source": [
    "negatives/len(df)"
   ]
  },
  {
   "cell_type": "code",
   "execution_count": 25,
   "id": "de74f3b8",
   "metadata": {},
   "outputs": [],
   "source": [
    "def neg_utility_somewhere(row):\n",
    "    if row[\"unselected plan (1) utility\"] < 0:\n",
    "        return 1\n",
    "    elif row[\"unselected plan (2) utility\"] < 0:\n",
    "        return 1\n",
    "    elif row[\"unselected plan (3) utility\"] < 0:\n",
    "        return 1\n",
    "    elif row[\"unselected plan (4) utility\"] < 0:\n",
    "        return 1\n",
    "    elif row[\"selected plan utility\"] < 0:\n",
    "        return 1\n",
    "    else:\n",
    "        return 0"
   ]
  },
  {
   "cell_type": "code",
   "execution_count": 26,
   "id": "2295624a",
   "metadata": {},
   "outputs": [],
   "source": [
    "df[\"neg_utility_somewhere\"] = df.apply(lambda row: neg_utility_somewhere(row), axis=1)"
   ]
  },
  {
   "cell_type": "code",
   "execution_count": 27,
   "id": "be293d91",
   "metadata": {},
   "outputs": [
    {
     "name": "stdout",
     "output_type": "stream",
     "text": [
      "28977\n",
      "0.06447801445898947\n"
     ]
    }
   ],
   "source": [
    "negatives_somewhere = len(df[df[\"neg_utility_somewhere\"]==1])\n",
    "print(negatives_somewhere)\n",
    "print(negatives_somewhere/len(df))"
   ]
  },
  {
   "cell_type": "markdown",
   "id": "679e4275",
   "metadata": {},
   "source": [
    "Remove dummy activities \"pt interaction\" and the corresponding times/distances/locations"
   ]
  },
  {
   "cell_type": "code",
   "execution_count": 28,
   "id": "3c70432d",
   "metadata": {},
   "outputs": [],
   "source": [
    "#get the index of where pt interaction happens\n",
    "def get_ptinteraction_index(item_list):\n",
    "    return [i for i, val in enumerate(item_list) if val == 'pt interaction']"
   ]
  },
  {
   "cell_type": "code",
   "execution_count": 29,
   "id": "53f8715a",
   "metadata": {},
   "outputs": [],
   "source": [
    "#remove values at the index of where pt interaction is\n",
    "def remove_ptinteraction(values, indices):\n",
    "    # Return original list if indices is empty\n",
    "    if not indices:\n",
    "        return values\n",
    "\n",
    "    # Basic type check (optional but helpful)\n",
    "    if not isinstance(values, list) or not isinstance(indices, list):\n",
    "        raise TypeError(\"Both values and indices should be lists\")\n",
    "\n",
    "    return [val for i, val in enumerate(values) if i not in indices]"
   ]
  },
  {
   "cell_type": "code",
   "execution_count": 30,
   "id": "2ddb0bfe",
   "metadata": {},
   "outputs": [],
   "source": [
    "#turn plan summaries into lists instead of long strings\n",
    "df['selected plan activity_type_or_mode'] = df['selected plan activity_type_or_mode'].str.split('; ')\n",
    "df['selected plan distance_travelled'] = df['selected plan distance_travelled'].str.split('; ')\n",
    "df['selected plan duration'] = df['selected plan duration'].str.split('; ')\n",
    "df['selected plan location'] = df['selected plan location'].str.split('; ')\n",
    "\n",
    "df['unselected plan (1) activity_type_or_mode'] = df['unselected plan (1) activity_type_or_mode'].str.split('; ')\n",
    "df['unselected plan (1) distance_travelled'] = df['unselected plan (1) distance_travelled'].str.split('; ')\n",
    "df['unselected plan (1) duration'] = df['unselected plan (1) duration'].str.split('; ')\n",
    "df['unselected plan (1) location'] = df['unselected plan (1) location'].str.split('; ')\n",
    "\n",
    "df['unselected plan (2) activity_type_or_mode'] = df['unselected plan (2) activity_type_or_mode'].str.split('; ')\n",
    "df['unselected plan (2) distance_travelled'] = df['unselected plan (2) distance_travelled'].str.split('; ')\n",
    "df['unselected plan (2) duration'] = df['unselected plan (2) duration'].str.split('; ')\n",
    "df['unselected plan (2) location'] = df['unselected plan (2) location'].str.split('; ')\n",
    "\n",
    "df['unselected plan (3) activity_type_or_mode'] = df['unselected plan (3) activity_type_or_mode'].str.split('; ')\n",
    "df['unselected plan (3) distance_travelled'] = df['unselected plan (3) distance_travelled'].str.split('; ')\n",
    "df['unselected plan (3) duration'] = df['unselected plan (3) duration'].str.split('; ')\n",
    "df['unselected plan (3) location'] = df['unselected plan (3) location'].str.split('; ')\n",
    "\n",
    "df['unselected plan (4) activity_type_or_mode'] = df['unselected plan (4) activity_type_or_mode'].str.split('; ')\n",
    "df['unselected plan (4) distance_travelled'] = df['unselected plan (4) distance_travelled'].str.split('; ')\n",
    "df['unselected plan (4) duration'] = df['unselected plan (4) duration'].str.split('; ')\n",
    "df['unselected plan (4) location'] = df['unselected plan (4) location'].str.split('; ')"
   ]
  },
  {
   "cell_type": "code",
   "execution_count": 31,
   "id": "e9bd2ceb",
   "metadata": {},
   "outputs": [],
   "source": [
    "#extract the indices of where pt interaction happens\n",
    "df['selected ptinteraction_indices'] = df['selected plan activity_type_or_mode'].apply(get_ptinteraction_index)\n",
    "df['unselected (1) ptinteraction_indices'] = df['unselected plan (1) activity_type_or_mode'].apply(get_ptinteraction_index)\n",
    "df['unselected (2) ptinteraction_indices'] = df['unselected plan (2) activity_type_or_mode'].apply(get_ptinteraction_index)\n",
    "df['unselected (3) ptinteraction_indices'] = df['unselected plan (3) activity_type_or_mode'].apply(get_ptinteraction_index)\n",
    "df['unselected (4) ptinteraction_indices'] = df['unselected plan (4) activity_type_or_mode'].apply(get_ptinteraction_index)"
   ]
  },
  {
   "cell_type": "code",
   "execution_count": 32,
   "id": "7b3c8919",
   "metadata": {},
   "outputs": [],
   "source": [
    "#remove the pt interaction activities\n",
    "df['selected plan activity_type_or_mode'] = df.apply(lambda row: remove_ptinteraction(row['selected plan activity_type_or_mode'], row['selected ptinteraction_indices']), axis=1)\n",
    "df['unselected plan (1) activity_type_or_mode'] = df.apply(lambda row: remove_ptinteraction(row['unselected plan (1) activity_type_or_mode'], row['unselected (1) ptinteraction_indices']), axis=1)\n",
    "df['unselected plan (2) activity_type_or_mode'] = df.apply(lambda row: remove_ptinteraction(row['unselected plan (2) activity_type_or_mode'], row['unselected (2) ptinteraction_indices']), axis=1)\n",
    "df['unselected plan (3) activity_type_or_mode'] = df.apply(lambda row: remove_ptinteraction(row['unselected plan (3) activity_type_or_mode'], row['unselected (3) ptinteraction_indices']), axis=1)\n",
    "df['unselected plan (4) activity_type_or_mode'] = df.apply(lambda row: remove_ptinteraction(row['unselected plan (4) activity_type_or_mode'], row['unselected (4) ptinteraction_indices']), axis=1)"
   ]
  },
  {
   "cell_type": "code",
   "execution_count": 33,
   "id": "c7bde292",
   "metadata": {},
   "outputs": [],
   "source": [
    "#remove corresponding distances\n",
    "df['selected plan distance_travelled'] = df.apply(lambda row: remove_ptinteraction(row['selected plan distance_travelled'], row['selected ptinteraction_indices']), axis=1)\n",
    "df['unselected plan (1) distance_travelled'] = df.apply(lambda row: remove_ptinteraction(row['unselected plan (1) distance_travelled'], row['unselected (1) ptinteraction_indices']), axis=1)\n",
    "df['unselected plan (2) distance_travelled'] = df.apply(lambda row: remove_ptinteraction(row['unselected plan (2) distance_travelled'], row['unselected (2) ptinteraction_indices']), axis=1)\n",
    "df['unselected plan (3) distance_travelled'] = df.apply(lambda row: remove_ptinteraction(row['unselected plan (3) distance_travelled'], row['unselected (3) ptinteraction_indices']), axis=1)\n",
    "df['unselected plan (4) distance_travelled'] = df.apply(lambda row: remove_ptinteraction(row['unselected plan (4) distance_travelled'], row['unselected (4) ptinteraction_indices']), axis=1)"
   ]
  },
  {
   "cell_type": "code",
   "execution_count": 34,
   "id": "67e85fe3",
   "metadata": {},
   "outputs": [],
   "source": [
    "#remove corresponding durations\n",
    "df['selected plan duration'] = df.apply(lambda row: remove_ptinteraction(row['selected plan duration'], row['selected ptinteraction_indices']), axis=1)\n",
    "df['unselected plan (1) duration'] = df.apply(lambda row: remove_ptinteraction(row['unselected plan (1) duration'], row['unselected (1) ptinteraction_indices']), axis=1)\n",
    "df['unselected plan (2) duration'] = df.apply(lambda row: remove_ptinteraction(row['unselected plan (2) duration'], row['unselected (2) ptinteraction_indices']), axis=1)\n",
    "df['unselected plan (3) duration'] = df.apply(lambda row: remove_ptinteraction(row['unselected plan (3) duration'], row['unselected (3) ptinteraction_indices']), axis=1)\n",
    "df['unselected plan (4) duration'] = df.apply(lambda row: remove_ptinteraction(row['unselected plan (4) duration'], row['unselected (4) ptinteraction_indices']), axis=1)"
   ]
  },
  {
   "cell_type": "code",
   "execution_count": 35,
   "id": "c68b3cad",
   "metadata": {},
   "outputs": [],
   "source": [
    "#remove corresponding locations\n",
    "df['selected plan location'] = df.apply(lambda row: remove_ptinteraction(row['selected plan location'], row['selected ptinteraction_indices']), axis=1)\n",
    "df['unselected plan (1) location'] = df.apply(lambda row: remove_ptinteraction(row['unselected plan (1) location'], row['unselected (1) ptinteraction_indices']), axis=1)\n",
    "df['unselected plan (2) location'] = df.apply(lambda row: remove_ptinteraction(row['unselected plan (2) location'], row['unselected (2) ptinteraction_indices']), axis=1)\n",
    "df['unselected plan (3) location'] = df.apply(lambda row: remove_ptinteraction(row['unselected plan (3) location'], row['unselected (3) ptinteraction_indices']), axis=1)\n",
    "df['unselected plan (4) location'] = df.apply(lambda row: remove_ptinteraction(row['unselected plan (4) location'], row['unselected (4) ptinteraction_indices']), axis=1)"
   ]
  },
  {
   "cell_type": "code",
   "execution_count": 36,
   "id": "0dca97bb",
   "metadata": {},
   "outputs": [],
   "source": [
    "df = df.drop('selected ptinteraction_indices', axis=1)\n",
    "df = df.drop('unselected (1) ptinteraction_indices', axis=1)\n",
    "df = df.drop('unselected (2) ptinteraction_indices', axis=1)\n",
    "df = df.drop('unselected (3) ptinteraction_indices', axis=1)\n",
    "df = df.drop('unselected (4) ptinteraction_indices', axis=1)"
   ]
  },
  {
   "cell_type": "markdown",
   "id": "9109c475",
   "metadata": {},
   "source": [
    "temp: finding shortest activity plan to calculate manually"
   ]
  },
  {
   "cell_type": "code",
   "execution_count": 38,
   "id": "f62b7071",
   "metadata": {},
   "outputs": [],
   "source": [
    "df[\"len\"] = df[\"selected plan activity_type_or_mode\"].apply(lambda x: len(x))"
   ]
  },
  {
   "cell_type": "code",
   "execution_count": 50,
   "id": "b8155b74",
   "metadata": {},
   "outputs": [
    {
     "data": {
      "application/vnd.microsoft.datawrangler.viewer.v0+json": {
       "columns": [
        {
         "name": "index",
         "rawType": "int64",
         "type": "integer"
        },
        {
         "name": "id",
         "rawType": "int64",
         "type": "integer"
        }
       ],
       "ref": "faba562d-17bf-446c-a12c-546ec28837dc",
       "rows": [
        [
         "198",
         "100174"
        ],
        [
         "202",
         "100178"
        ],
        [
         "205",
         "100180"
        ],
        [
         "949",
         "100850"
        ],
        [
         "950",
         "100851"
        ],
        [
         "951",
         "100852"
        ],
        [
         "954",
         "100855"
        ],
        [
         "962",
         "100862"
        ],
        [
         "963",
         "100863"
        ],
        [
         "964",
         "100864"
        ],
        [
         "1057",
         "100948"
        ],
        [
         "1061",
         "100951"
        ],
        [
         "1064",
         "100954"
        ],
        [
         "1065",
         "100955"
        ],
        [
         "1069",
         "100959"
        ],
        [
         "1073",
         "100962"
        ],
        [
         "1076",
         "100965"
        ],
        [
         "1258",
         "101128"
        ],
        [
         "1259",
         "101129"
        ],
        [
         "1262",
         "101131"
        ],
        [
         "1309",
         "101174"
        ],
        [
         "1310",
         "101175"
        ],
        [
         "1311",
         "101176"
        ],
        [
         "1312",
         "101177"
        ],
        [
         "1313",
         "101178"
        ],
        [
         "1314",
         "101179"
        ],
        [
         "1316",
         "101180"
        ],
        [
         "1317",
         "101181"
        ],
        [
         "1375",
         "101233"
        ],
        [
         "1377",
         "101235"
        ],
        [
         "1379",
         "101237"
        ],
        [
         "1398",
         "101254"
        ],
        [
         "1399",
         "101255"
        ],
        [
         "1408",
         "101263"
        ],
        [
         "1464",
         "101313"
        ],
        [
         "1488",
         "101335"
        ],
        [
         "1489",
         "101336"
        ],
        [
         "1503",
         "101349"
        ],
        [
         "1507",
         "101352"
        ],
        [
         "1510",
         "101355"
        ],
        [
         "1513",
         "101358"
        ],
        [
         "1517",
         "101361"
        ],
        [
         "1520",
         "101364"
        ],
        [
         "1523",
         "101367"
        ],
        [
         "1546",
         "101388"
        ],
        [
         "1550",
         "101391"
        ],
        [
         "1553",
         "101394"
        ],
        [
         "1556",
         "101397"
        ],
        [
         "1561",
         "101400"
        ],
        [
         "1564",
         "101403"
        ]
       ],
       "shape": {
        "columns": 1,
        "rows": 18973
       }
      },
      "text/plain": [
       "198       100174\n",
       "202       100178\n",
       "205       100180\n",
       "949       100850\n",
       "950       100851\n",
       "           ...  \n",
       "488249      9983\n",
       "488260      9984\n",
       "488271      9985\n",
       "488282      9986\n",
       "488293      9987\n",
       "Name: id, Length: 18973, dtype: int64"
      ]
     },
     "execution_count": 50,
     "metadata": {},
     "output_type": "execute_result"
    }
   ],
   "source": [
    "# df.loc[df[\"len\"].idxmin(), \"id\"]\n",
    "df.loc[df[\"len\"] == df[\"len\"].min(), \"id\"]"
   ]
  },
  {
   "cell_type": "code",
   "execution_count": 52,
   "id": "cbbf227f",
   "metadata": {},
   "outputs": [],
   "source": [
    "df[\"wraparound\"] = df[\"selected plan activity_type_or_mode\"].apply(lambda x: 1 if x[0]==x[-1] else 0)"
   ]
  },
  {
   "cell_type": "code",
   "execution_count": 54,
   "id": "36e30539",
   "metadata": {},
   "outputs": [],
   "source": [
    "df[\"eod_time\"] = df[\"selected plan duration\"].apply(lambda x: x[-1])"
   ]
  },
  {
   "cell_type": "code",
   "execution_count": 57,
   "id": "dda6ca77",
   "metadata": {},
   "outputs": [
    {
     "data": {
      "text/plain": [
       "(array([107354.,  82670.,  76675.,  69286.,  54777.,  31478.,  14721.,\n",
       "          7578.,   3371.,   1499.]),\n",
       " array([   0. ,  935.7, 1871.4, 2807.1, 3742.8, 4678.5, 5614.2, 6549.9,\n",
       "        7485.6, 8421.3, 9357. ]),\n",
       " <BarContainer object of 10 artists>)"
      ]
     },
     "execution_count": 57,
     "metadata": {},
     "output_type": "execute_result"
    },
    {
     "data": {
      "image/png": "[encoded data removed]",
      "text/plain": [
       "<Figure size 640x480 with 1 Axes>"
      ]
     },
     "metadata": {},
     "output_type": "display_data"
    }
   ],
   "source": [
    "plt.hist(df[\"eod_time\"], bins=10)"
   ]
  },
  {
   "cell_type": "code",
   "execution_count": 56,
   "id": "7e183a0e",
   "metadata": {},
   "outputs": [
    {
     "name": "stdout",
     "output_type": "stream",
     "text": [
      "26:00:27\n",
      "21:55:05\n"
     ]
    }
   ],
   "source": [
    "print(max(df[\"eod_time\"]))\n",
    "print(min(df[\"eod_time\"]))"
   ]
  },
  {
   "cell_type": "code",
   "execution_count": 58,
   "id": "4275abb6",
   "metadata": {},
   "outputs": [],
   "source": [
    "#activities versus modes\n",
    "all_activities = {'business', 'delivery', 'depot', 'education', 'escort_business', 'escort_education', 'escort_home', 'escort_other', 'escort_shop', 'escort_work', 'home', 'medical', 'other', 'pt interaction', 'shop', 'visit', 'work'}\n",
    "all_modes = {'bike', 'bus', 'car', 'car_passenger', 'ferry', 'rail', 'subway', 'taxi', 'tram', 'walk'}"
   ]
  },
  {
   "cell_type": "code",
   "execution_count": 91,
   "id": "d81e3a37",
   "metadata": {},
   "outputs": [],
   "source": [
    "def get_trips_indices_only(trips_and_activities):\n",
    "    indices = []\n",
    "    for i in range(len(trips_and_activities)):\n",
    "        if trips_and_activities[i] in all_modes:\n",
    "            indices.append(i)\n",
    "    return indices"
   ]
  },
  {
   "cell_type": "code",
   "execution_count": 92,
   "id": "9e182a7d",
   "metadata": {},
   "outputs": [],
   "source": [
    "def get_activities_indices_only(trips_and_activities):\n",
    "    indices = []\n",
    "    for i in range(len(trips_and_activities)):\n",
    "        if trips_and_activities[i] in all_activities:\n",
    "            indices.append(i)\n",
    "    return indices"
   ]
  },
  {
   "cell_type": "code",
   "execution_count": 93,
   "id": "493113ff",
   "metadata": {},
   "outputs": [],
   "source": [
    "def get_trips_duration_or_mode(indices, durations_or_activities):\n",
    "    outputs = []\n",
    "    for i in indices:\n",
    "        outputs.append(durations_or_activities[i])\n",
    "    return outputs"
   ]
  },
  {
   "cell_type": "markdown",
   "id": "1ddbea4f",
   "metadata": {},
   "source": [
    "just do selected plan for now for POC"
   ]
  },
  {
   "cell_type": "code",
   "execution_count": 94,
   "id": "d57a5413",
   "metadata": {},
   "outputs": [],
   "source": [
    "df[\"trips_indices\"] = df[\"selected plan activity_type_or_mode\"].apply(get_trips_indices_only)\n",
    "df[\"activities_indices\"] = df[\"selected plan activity_type_or_mode\"].apply(get_activities_indices_only)\n",
    "df[\"trip_durations\"] = df.apply(lambda row: get_trips_duration_or_mode(row[\"trips_indices\"], row[\"selected plan duration\"]), axis=1)\n",
    "df[\"activity_durations\"] = df.apply(lambda row: get_trips_duration_or_mode(row[\"activities_indices\"], row[\"selected plan duration\"]), axis=1)"
   ]
  },
  {
   "cell_type": "code",
   "execution_count": 95,
   "id": "34b16169",
   "metadata": {},
   "outputs": [],
   "source": [
    "df[\"longest_leg\"] = df[\"trip_durations\"].apply(lambda x: max(x))"
   ]
  },
  {
   "cell_type": "code",
   "execution_count": 97,
   "id": "4cab000d",
   "metadata": {},
   "outputs": [
    {
     "data": {
      "text/plain": [
       "[<matplotlib.lines.Line2D at 0x20cce40a0c0>]"
      ]
     },
     "execution_count": 97,
     "metadata": {},
     "output_type": "execute_result"
    },
    {
     "data": {
      "image/png": "[encoded data removed]",
      "text/plain": [
       "<Figure size 640x480 with 1 Axes>"
      ]
     },
     "metadata": {},
     "output_type": "display_data"
    }
   ],
   "source": [
    "plt.plot(df[\"selected plan utility\"], df[\"longest_leg\"],\"x\")"
   ]
  },
  {
   "cell_type": "code",
   "execution_count": 106,
   "id": "d4aab714",
   "metadata": {},
   "outputs": [],
   "source": [
    "df3 = df[pd.to_timedelta(df[\"longest_leg\"]).dt.total_seconds() > 24 * 3600]\n",
    "df4 = df[pd.to_timedelta(df[\"longest_leg\"]).dt.total_seconds() > 12 * 3600]"
   ]
  },
  {
   "cell_type": "code",
   "execution_count": 113,
   "id": "81f51338",
   "metadata": {},
   "outputs": [],
   "source": [
    "df[\"abs_utlity\"] = df[\"selected plan utility\"].apply(lambda x: abs(x))"
   ]
  },
  {
   "cell_type": "code",
   "execution_count": 116,
   "id": "c7426c38",
   "metadata": {},
   "outputs": [],
   "source": [
    "highest_10 = df.nlargest(round(len(df)*0.05), \"selected plan utility\")\n",
    "lowest10 = df.nsmallest(round(len(df)*0.05), \"selected plan utility\")\n",
    "lowest_pos10 = df.nsmallest(round(len(df)*0.05), \"abs_utlity\")"
   ]
  },
  {
   "cell_type": "code",
   "execution_count": 121,
   "id": "099c9d20",
   "metadata": {},
   "outputs": [
    {
     "data": {
      "image/png": "[encoded data removed]",
      "text/plain": [
       "<Figure size 640x480 with 1 Axes>"
      ]
     },
     "metadata": {},
     "output_type": "display_data"
    }
   ],
   "source": [
    "import numpy\n",
    "from matplotlib import pyplot\n",
    "bins = numpy.linspace(0, 100, 10)\n",
    "\n",
    "pyplot.hist(highest_10[\"age\"], bins, alpha=0.5, label='x')\n",
    "pyplot.hist(lowest10[\"age\"], bins, alpha=0.5, label='y')\n",
    "pyplot.legend(loc='upper right')\n",
    "pyplot.show()"
   ]
  },
  {
   "cell_type": "code",
   "execution_count": 122,
   "id": "8a9429e9",
   "metadata": {},
   "outputs": [],
   "source": [
    "df_pos = df[df[\"neg_utility_somewhere\"]==0]"
   ]
  },
  {
   "cell_type": "markdown",
   "id": "8391b49c",
   "metadata": {},
   "source": [
    "Now to select the trip leg that has the longest distance between each activity"
   ]
  },
  {
   "cell_type": "code",
   "execution_count": 130,
   "id": "57ae06d7",
   "metadata": {},
   "outputs": [],
   "source": [
    "# keep only the indices in the activity/leg list which correspond to activities and the longest leg of each trip\n",
    "# activities can be identified by having N/A distance \n",
    "# the longest leg is the longest non-NA distance between each N/A\n",
    "def filter_max_between_nas_indices_only(lst):\n",
    "    if not isinstance(lst, list):\n",
    "        # print(lst)\n",
    "        # print(\"error1\")\n",
    "        return []\n",
    "        \n",
    "        # raise TypeError(f\"Expected a list, got {type(lst)}\")\n",
    "\n",
    "    kept_indices = []    # Indices of values to keep\n",
    "    buffer = []          # Temporarily holds float values between \"N/A\"s\n",
    "    buffer_indices = []  # Their original indices\n",
    "\n",
    "    for i, val in enumerate(lst):\n",
    "        if isinstance(val, list):\n",
    "            raise TypeError(f\"Unexpected nested list at index {i}: {val}\")\n",
    "\n",
    "        if val == \"N/A\":\n",
    "            # If there is a buffer of float values, keep the max one\n",
    "            if buffer:\n",
    "                max_val = max(buffer)\n",
    "                max_index = buffer_indices[buffer.index(max_val)]\n",
    "                kept_indices.append(max_index)\n",
    "                buffer = []\n",
    "                buffer_indices = []\n",
    "\n",
    "            # Always keep the index of \"N/A\"\n",
    "            kept_indices.append(i)\n",
    "\n",
    "        else:\n",
    "            try:\n",
    "                float_val = float(val)\n",
    "                buffer.append(float_val)\n",
    "                buffer_indices.append(i)\n",
    "            except ValueError:\n",
    "                raise ValueError(f\"Non-numeric value encountered (not 'N/A'): {val}\")\n",
    "\n",
    "    # Handle remaining buffer if list does not end in \"N/A\"\n",
    "    if buffer:\n",
    "        max_val = max(buffer)\n",
    "        max_index = buffer_indices[buffer.index(max_val)]\n",
    "        kept_indices.append(max_index)\n",
    "\n",
    "    return kept_indices"
   ]
  },
  {
   "cell_type": "code",
   "execution_count": 131,
   "id": "24793daa",
   "metadata": {},
   "outputs": [
    {
     "name": "stderr",
     "output_type": "stream",
     "text": [
      "C:\\Users\\maria\\AppData\\Local\\Temp\\ipykernel_38732\\2645369137.py:2: SettingWithCopyWarning: \n",
      "A value is trying to be set on a copy of a slice from a DataFrame.\n",
      "Try using .loc[row_indexer,col_indexer] = value instead\n",
      "\n",
      "See the caveats in the documentation: https://pandas.pydata.org/pandas-docs/stable/user_guide/indexing.html#returning-a-view-versus-a-copy\n",
      "  df_pos['selected keep_indices'] = df_pos['selected plan distance_travelled'].apply(filter_max_between_nas_indices_only)\n",
      "C:\\Users\\maria\\AppData\\Local\\Temp\\ipykernel_38732\\2645369137.py:3: SettingWithCopyWarning: \n",
      "A value is trying to be set on a copy of a slice from a DataFrame.\n",
      "Try using .loc[row_indexer,col_indexer] = value instead\n",
      "\n",
      "See the caveats in the documentation: https://pandas.pydata.org/pandas-docs/stable/user_guide/indexing.html#returning-a-view-versus-a-copy\n",
      "  df_pos['unselected (1) keep_indices'] = df_pos['unselected plan (1) distance_travelled'].apply(filter_max_between_nas_indices_only)\n",
      "C:\\Users\\maria\\AppData\\Local\\Temp\\ipykernel_38732\\2645369137.py:4: SettingWithCopyWarning: \n",
      "A value is trying to be set on a copy of a slice from a DataFrame.\n",
      "Try using .loc[row_indexer,col_indexer] = value instead\n",
      "\n",
      "See the caveats in the documentation: https://pandas.pydata.org/pandas-docs/stable/user_guide/indexing.html#returning-a-view-versus-a-copy\n",
      "  df_pos['unselected (2) keep_indices'] = df_pos['unselected plan (2) distance_travelled'].apply(filter_max_between_nas_indices_only)\n",
      "C:\\Users\\maria\\AppData\\Local\\Temp\\ipykernel_38732\\2645369137.py:5: SettingWithCopyWarning: \n",
      "A value is trying to be set on a copy of a slice from a DataFrame.\n",
      "Try using .loc[row_indexer,col_indexer] = value instead\n",
      "\n",
      "See the caveats in the documentation: https://pandas.pydata.org/pandas-docs/stable/user_guide/indexing.html#returning-a-view-versus-a-copy\n",
      "  df_pos['unselected (3) keep_indices'] = df_pos['unselected plan (3) distance_travelled'].apply(filter_max_between_nas_indices_only)\n",
      "C:\\Users\\maria\\AppData\\Local\\Temp\\ipykernel_38732\\2645369137.py:6: SettingWithCopyWarning: \n",
      "A value is trying to be set on a copy of a slice from a DataFrame.\n",
      "Try using .loc[row_indexer,col_indexer] = value instead\n",
      "\n",
      "See the caveats in the documentation: https://pandas.pydata.org/pandas-docs/stable/user_guide/indexing.html#returning-a-view-versus-a-copy\n",
      "  df_pos['unselected (4) keep_indices'] = df_pos['unselected plan (4) distance_travelled'].apply(filter_max_between_nas_indices_only)\n"
     ]
    }
   ],
   "source": [
    "#find indices of activities/modes to keep based on greatest inter-NA distances \n",
    "df_pos['selected keep_indices'] = df_pos['selected plan distance_travelled'].apply(filter_max_between_nas_indices_only)\n",
    "df_pos['unselected (1) keep_indices'] = df_pos['unselected plan (1) distance_travelled'].apply(filter_max_between_nas_indices_only)\n",
    "df_pos['unselected (2) keep_indices'] = df_pos['unselected plan (2) distance_travelled'].apply(filter_max_between_nas_indices_only)\n",
    "df_pos['unselected (3) keep_indices'] = df_pos['unselected plan (3) distance_travelled'].apply(filter_max_between_nas_indices_only)\n",
    "df_pos['unselected (4) keep_indices'] = df_pos['unselected plan (4) distance_travelled'].apply(filter_max_between_nas_indices_only)"
   ]
  },
  {
   "cell_type": "code",
   "execution_count": 132,
   "id": "f14cbffa",
   "metadata": {},
   "outputs": [
    {
     "name": "stderr",
     "output_type": "stream",
     "text": [
      "C:\\Users\\maria\\AppData\\Local\\Temp\\ipykernel_38732\\1220192076.py:3: SettingWithCopyWarning: \n",
      "A value is trying to be set on a copy of a slice from a DataFrame.\n",
      "Try using .loc[row_indexer,col_indexer] = value instead\n",
      "\n",
      "See the caveats in the documentation: https://pandas.pydata.org/pandas-docs/stable/user_guide/indexing.html#returning-a-view-versus-a-copy\n",
      "  df_pos['selected plan activity_type_or_mode'] = df_pos.apply(lambda row: [row['selected plan activity_type_or_mode'][i] for i in row['selected keep_indices']], axis=1)\n",
      "C:\\Users\\maria\\AppData\\Local\\Temp\\ipykernel_38732\\1220192076.py:4: SettingWithCopyWarning: \n",
      "A value is trying to be set on a copy of a slice from a DataFrame.\n",
      "Try using .loc[row_indexer,col_indexer] = value instead\n",
      "\n",
      "See the caveats in the documentation: https://pandas.pydata.org/pandas-docs/stable/user_guide/indexing.html#returning-a-view-versus-a-copy\n",
      "  df_pos['unselected plan (1) activity_type_or_mode'] = df_pos.apply(lambda row: [row['unselected plan (1) activity_type_or_mode'][i] for i in row['unselected (1) keep_indices']], axis=1)\n",
      "C:\\Users\\maria\\AppData\\Local\\Temp\\ipykernel_38732\\1220192076.py:5: SettingWithCopyWarning: \n",
      "A value is trying to be set on a copy of a slice from a DataFrame.\n",
      "Try using .loc[row_indexer,col_indexer] = value instead\n",
      "\n",
      "See the caveats in the documentation: https://pandas.pydata.org/pandas-docs/stable/user_guide/indexing.html#returning-a-view-versus-a-copy\n",
      "  df_pos['unselected plan (2) activity_type_or_mode'] = df_pos.apply(lambda row: [row['unselected plan (2) activity_type_or_mode'][i] for i in row['unselected (2) keep_indices']], axis=1)\n",
      "C:\\Users\\maria\\AppData\\Local\\Temp\\ipykernel_38732\\1220192076.py:6: SettingWithCopyWarning: \n",
      "A value is trying to be set on a copy of a slice from a DataFrame.\n",
      "Try using .loc[row_indexer,col_indexer] = value instead\n",
      "\n",
      "See the caveats in the documentation: https://pandas.pydata.org/pandas-docs/stable/user_guide/indexing.html#returning-a-view-versus-a-copy\n",
      "  df_pos['unselected plan (3) activity_type_or_mode'] = df_pos.apply(lambda row: [row['unselected plan (3) activity_type_or_mode'][i] for i in row['unselected (3) keep_indices']], axis=1)\n",
      "C:\\Users\\maria\\AppData\\Local\\Temp\\ipykernel_38732\\1220192076.py:7: SettingWithCopyWarning: \n",
      "A value is trying to be set on a copy of a slice from a DataFrame.\n",
      "Try using .loc[row_indexer,col_indexer] = value instead\n",
      "\n",
      "See the caveats in the documentation: https://pandas.pydata.org/pandas-docs/stable/user_guide/indexing.html#returning-a-view-versus-a-copy\n",
      "  df_pos['unselected plan (4) activity_type_or_mode'] = df_pos.apply(lambda row: [row['unselected plan (4) activity_type_or_mode'][i] for i in row['unselected (4) keep_indices']], axis=1)\n"
     ]
    }
   ],
   "source": [
    "#keep only the longest legs for each trip and the real activities\n",
    "#filter the activities/legs list\n",
    "df_pos['selected plan activity_type_or_mode'] = df_pos.apply(lambda row: [row['selected plan activity_type_or_mode'][i] for i in row['selected keep_indices']], axis=1)\n",
    "df_pos['unselected plan (1) activity_type_or_mode'] = df_pos.apply(lambda row: [row['unselected plan (1) activity_type_or_mode'][i] for i in row['unselected (1) keep_indices']], axis=1)\n",
    "df_pos['unselected plan (2) activity_type_or_mode'] = df_pos.apply(lambda row: [row['unselected plan (2) activity_type_or_mode'][i] for i in row['unselected (2) keep_indices']], axis=1)\n",
    "df_pos['unselected plan (3) activity_type_or_mode'] = df_pos.apply(lambda row: [row['unselected plan (3) activity_type_or_mode'][i] for i in row['unselected (3) keep_indices']], axis=1)\n",
    "df_pos['unselected plan (4) activity_type_or_mode'] = df_pos.apply(lambda row: [row['unselected plan (4) activity_type_or_mode'][i] for i in row['unselected (4) keep_indices']], axis=1)"
   ]
  },
  {
   "cell_type": "code",
   "execution_count": 133,
   "id": "a49d4aa4",
   "metadata": {},
   "outputs": [
    {
     "name": "stderr",
     "output_type": "stream",
     "text": [
      "C:\\Users\\maria\\AppData\\Local\\Temp\\ipykernel_38732\\3020660591.py:2: SettingWithCopyWarning: \n",
      "A value is trying to be set on a copy of a slice from a DataFrame.\n",
      "Try using .loc[row_indexer,col_indexer] = value instead\n",
      "\n",
      "See the caveats in the documentation: https://pandas.pydata.org/pandas-docs/stable/user_guide/indexing.html#returning-a-view-versus-a-copy\n",
      "  df_pos['selected plan distance_travelled'] = df_pos.apply(lambda row: [row['selected plan distance_travelled'][i] for i in row['selected keep_indices']], axis=1)\n",
      "C:\\Users\\maria\\AppData\\Local\\Temp\\ipykernel_38732\\3020660591.py:3: SettingWithCopyWarning: \n",
      "A value is trying to be set on a copy of a slice from a DataFrame.\n",
      "Try using .loc[row_indexer,col_indexer] = value instead\n",
      "\n",
      "See the caveats in the documentation: https://pandas.pydata.org/pandas-docs/stable/user_guide/indexing.html#returning-a-view-versus-a-copy\n",
      "  df_pos['unselected plan (1) distance_travelled'] = df_pos.apply(lambda row: [row['unselected plan (1) distance_travelled'][i] for i in row['unselected (1) keep_indices']], axis=1)\n",
      "C:\\Users\\maria\\AppData\\Local\\Temp\\ipykernel_38732\\3020660591.py:4: SettingWithCopyWarning: \n",
      "A value is trying to be set on a copy of a slice from a DataFrame.\n",
      "Try using .loc[row_indexer,col_indexer] = value instead\n",
      "\n",
      "See the caveats in the documentation: https://pandas.pydata.org/pandas-docs/stable/user_guide/indexing.html#returning-a-view-versus-a-copy\n",
      "  df_pos['unselected plan (2) distance_travelled'] = df_pos.apply(lambda row: [row['unselected plan (2) distance_travelled'][i] for i in row['unselected (2) keep_indices']], axis=1)\n",
      "C:\\Users\\maria\\AppData\\Local\\Temp\\ipykernel_38732\\3020660591.py:5: SettingWithCopyWarning: \n",
      "A value is trying to be set on a copy of a slice from a DataFrame.\n",
      "Try using .loc[row_indexer,col_indexer] = value instead\n",
      "\n",
      "See the caveats in the documentation: https://pandas.pydata.org/pandas-docs/stable/user_guide/indexing.html#returning-a-view-versus-a-copy\n",
      "  df_pos['unselected plan (3) distance_travelled'] = df_pos.apply(lambda row: [row['unselected plan (3) distance_travelled'][i] for i in row['unselected (3) keep_indices']], axis=1)\n",
      "C:\\Users\\maria\\AppData\\Local\\Temp\\ipykernel_38732\\3020660591.py:6: SettingWithCopyWarning: \n",
      "A value is trying to be set on a copy of a slice from a DataFrame.\n",
      "Try using .loc[row_indexer,col_indexer] = value instead\n",
      "\n",
      "See the caveats in the documentation: https://pandas.pydata.org/pandas-docs/stable/user_guide/indexing.html#returning-a-view-versus-a-copy\n",
      "  df_pos['unselected plan (4) distance_travelled'] = df_pos.apply(lambda row: [row['unselected plan (4) distance_travelled'][i] for i in row['unselected (4) keep_indices']], axis=1)\n"
     ]
    }
   ],
   "source": [
    "#filter out corresponding distances\n",
    "df_pos['selected plan distance_travelled'] = df_pos.apply(lambda row: [row['selected plan distance_travelled'][i] for i in row['selected keep_indices']], axis=1)\n",
    "df_pos['unselected plan (1) distance_travelled'] = df_pos.apply(lambda row: [row['unselected plan (1) distance_travelled'][i] for i in row['unselected (1) keep_indices']], axis=1)\n",
    "df_pos['unselected plan (2) distance_travelled'] = df_pos.apply(lambda row: [row['unselected plan (2) distance_travelled'][i] for i in row['unselected (2) keep_indices']], axis=1)\n",
    "df_pos['unselected plan (3) distance_travelled'] = df_pos.apply(lambda row: [row['unselected plan (3) distance_travelled'][i] for i in row['unselected (3) keep_indices']], axis=1)\n",
    "df_pos['unselected plan (4) distance_travelled'] = df_pos.apply(lambda row: [row['unselected plan (4) distance_travelled'][i] for i in row['unselected (4) keep_indices']], axis=1)"
   ]
  },
  {
   "cell_type": "code",
   "execution_count": 134,
   "id": "c6096a86",
   "metadata": {},
   "outputs": [
    {
     "name": "stderr",
     "output_type": "stream",
     "text": [
      "C:\\Users\\maria\\AppData\\Local\\Temp\\ipykernel_38732\\3062999413.py:2: SettingWithCopyWarning: \n",
      "A value is trying to be set on a copy of a slice from a DataFrame.\n",
      "Try using .loc[row_indexer,col_indexer] = value instead\n",
      "\n",
      "See the caveats in the documentation: https://pandas.pydata.org/pandas-docs/stable/user_guide/indexing.html#returning-a-view-versus-a-copy\n",
      "  df_pos['selected plan duration'] = df_pos.apply(lambda row: [row['selected plan duration'][i] for i in row['selected keep_indices']], axis=1)\n",
      "C:\\Users\\maria\\AppData\\Local\\Temp\\ipykernel_38732\\3062999413.py:3: SettingWithCopyWarning: \n",
      "A value is trying to be set on a copy of a slice from a DataFrame.\n",
      "Try using .loc[row_indexer,col_indexer] = value instead\n",
      "\n",
      "See the caveats in the documentation: https://pandas.pydata.org/pandas-docs/stable/user_guide/indexing.html#returning-a-view-versus-a-copy\n",
      "  df_pos['unselected plan (1) duration'] = df_pos.apply(lambda row: [row['unselected plan (1) duration'][i] for i in row['unselected (1) keep_indices']], axis=1)\n",
      "C:\\Users\\maria\\AppData\\Local\\Temp\\ipykernel_38732\\3062999413.py:4: SettingWithCopyWarning: \n",
      "A value is trying to be set on a copy of a slice from a DataFrame.\n",
      "Try using .loc[row_indexer,col_indexer] = value instead\n",
      "\n",
      "See the caveats in the documentation: https://pandas.pydata.org/pandas-docs/stable/user_guide/indexing.html#returning-a-view-versus-a-copy\n",
      "  df_pos['unselected plan (2) duration'] = df_pos.apply(lambda row: [row['unselected plan (2) duration'][i] for i in row['unselected (2) keep_indices']], axis=1)\n",
      "C:\\Users\\maria\\AppData\\Local\\Temp\\ipykernel_38732\\3062999413.py:5: SettingWithCopyWarning: \n",
      "A value is trying to be set on a copy of a slice from a DataFrame.\n",
      "Try using .loc[row_indexer,col_indexer] = value instead\n",
      "\n",
      "See the caveats in the documentation: https://pandas.pydata.org/pandas-docs/stable/user_guide/indexing.html#returning-a-view-versus-a-copy\n",
      "  df_pos['unselected plan (3) duration'] = df_pos.apply(lambda row: [row['unselected plan (3) duration'][i] for i in row['unselected (3) keep_indices']], axis=1)\n",
      "C:\\Users\\maria\\AppData\\Local\\Temp\\ipykernel_38732\\3062999413.py:6: SettingWithCopyWarning: \n",
      "A value is trying to be set on a copy of a slice from a DataFrame.\n",
      "Try using .loc[row_indexer,col_indexer] = value instead\n",
      "\n",
      "See the caveats in the documentation: https://pandas.pydata.org/pandas-docs/stable/user_guide/indexing.html#returning-a-view-versus-a-copy\n",
      "  df_pos['unselected plan (4) duration'] = df_pos.apply(lambda row: [row['unselected plan (4) duration'][i] for i in row['unselected (4) keep_indices']], axis=1)\n"
     ]
    }
   ],
   "source": [
    "#filter out corresponding durations\n",
    "df_pos['selected plan duration'] = df_pos.apply(lambda row: [row['selected plan duration'][i] for i in row['selected keep_indices']], axis=1)\n",
    "df_pos['unselected plan (1) duration'] = df_pos.apply(lambda row: [row['unselected plan (1) duration'][i] for i in row['unselected (1) keep_indices']], axis=1)\n",
    "df_pos['unselected plan (2) duration'] = df_pos.apply(lambda row: [row['unselected plan (2) duration'][i] for i in row['unselected (2) keep_indices']], axis=1)\n",
    "df_pos['unselected plan (3) duration'] = df_pos.apply(lambda row: [row['unselected plan (3) duration'][i] for i in row['unselected (3) keep_indices']], axis=1)\n",
    "df_pos['unselected plan (4) duration'] = df_pos.apply(lambda row: [row['unselected plan (4) duration'][i] for i in row['unselected (4) keep_indices']], axis=1)"
   ]
  },
  {
   "cell_type": "code",
   "execution_count": 135,
   "id": "7c6e2ad4",
   "metadata": {},
   "outputs": [
    {
     "name": "stderr",
     "output_type": "stream",
     "text": [
      "C:\\Users\\maria\\AppData\\Local\\Temp\\ipykernel_38732\\3658760790.py:2: SettingWithCopyWarning: \n",
      "A value is trying to be set on a copy of a slice from a DataFrame.\n",
      "Try using .loc[row_indexer,col_indexer] = value instead\n",
      "\n",
      "See the caveats in the documentation: https://pandas.pydata.org/pandas-docs/stable/user_guide/indexing.html#returning-a-view-versus-a-copy\n",
      "  df_pos['selected plan location'] = df_pos.apply(lambda row: [row['selected plan location'][i] for i in row['selected keep_indices']], axis=1)\n",
      "C:\\Users\\maria\\AppData\\Local\\Temp\\ipykernel_38732\\3658760790.py:3: SettingWithCopyWarning: \n",
      "A value is trying to be set on a copy of a slice from a DataFrame.\n",
      "Try using .loc[row_indexer,col_indexer] = value instead\n",
      "\n",
      "See the caveats in the documentation: https://pandas.pydata.org/pandas-docs/stable/user_guide/indexing.html#returning-a-view-versus-a-copy\n",
      "  df_pos['unselected plan (1) location'] = df_pos.apply(lambda row: [row['unselected plan (1) location'][i] for i in row['unselected (1) keep_indices']], axis=1)\n",
      "C:\\Users\\maria\\AppData\\Local\\Temp\\ipykernel_38732\\3658760790.py:4: SettingWithCopyWarning: \n",
      "A value is trying to be set on a copy of a slice from a DataFrame.\n",
      "Try using .loc[row_indexer,col_indexer] = value instead\n",
      "\n",
      "See the caveats in the documentation: https://pandas.pydata.org/pandas-docs/stable/user_guide/indexing.html#returning-a-view-versus-a-copy\n",
      "  df_pos['unselected plan (2) location'] = df_pos.apply(lambda row: [row['unselected plan (2) location'][i] for i in row['unselected (2) keep_indices']], axis=1)\n",
      "C:\\Users\\maria\\AppData\\Local\\Temp\\ipykernel_38732\\3658760790.py:5: SettingWithCopyWarning: \n",
      "A value is trying to be set on a copy of a slice from a DataFrame.\n",
      "Try using .loc[row_indexer,col_indexer] = value instead\n",
      "\n",
      "See the caveats in the documentation: https://pandas.pydata.org/pandas-docs/stable/user_guide/indexing.html#returning-a-view-versus-a-copy\n",
      "  df_pos['unselected plan (3) location'] = df_pos.apply(lambda row: [row['unselected plan (3) location'][i] for i in row['unselected (3) keep_indices']], axis=1)\n",
      "C:\\Users\\maria\\AppData\\Local\\Temp\\ipykernel_38732\\3658760790.py:6: SettingWithCopyWarning: \n",
      "A value is trying to be set on a copy of a slice from a DataFrame.\n",
      "Try using .loc[row_indexer,col_indexer] = value instead\n",
      "\n",
      "See the caveats in the documentation: https://pandas.pydata.org/pandas-docs/stable/user_guide/indexing.html#returning-a-view-versus-a-copy\n",
      "  df_pos['unselected plan (4) location'] = df_pos.apply(lambda row: [row['unselected plan (4) location'][i] for i in row['unselected (4) keep_indices']], axis=1)\n"
     ]
    }
   ],
   "source": [
    "#filter out corresponding locations\n",
    "df_pos['selected plan location'] = df_pos.apply(lambda row: [row['selected plan location'][i] for i in row['selected keep_indices']], axis=1)\n",
    "df_pos['unselected plan (1) location'] = df_pos.apply(lambda row: [row['unselected plan (1) location'][i] for i in row['unselected (1) keep_indices']], axis=1)\n",
    "df_pos['unselected plan (2) location'] = df_pos.apply(lambda row: [row['unselected plan (2) location'][i] for i in row['unselected (2) keep_indices']], axis=1)\n",
    "df_pos['unselected plan (3) location'] = df_pos.apply(lambda row: [row['unselected plan (3) location'][i] for i in row['unselected (3) keep_indices']], axis=1)\n",
    "df_pos['unselected plan (4) location'] = df_pos.apply(lambda row: [row['unselected plan (4) location'][i] for i in row['unselected (4) keep_indices']], axis=1)"
   ]
  },
  {
   "cell_type": "code",
   "execution_count": 136,
   "id": "657c0723",
   "metadata": {},
   "outputs": [],
   "source": [
    "df_pos = df_pos.drop('selected keep_indices', axis=1)\n",
    "df_pos = df_pos.drop('unselected (1) keep_indices', axis=1)\n",
    "df_pos = df_pos.drop('unselected (2) keep_indices', axis=1)\n",
    "df_pos = df_pos.drop('unselected (3) keep_indices', axis=1)\n",
    "df_pos = df_pos.drop('unselected (4) keep_indices', axis=1)"
   ]
  },
  {
   "cell_type": "code",
   "execution_count": 143,
   "id": "7c207e93",
   "metadata": {},
   "outputs": [],
   "source": [
    "#make a list with all the top 5 utilities\n",
    "df_pos['plan_utilities'] = df_pos[['selected plan utility', 'unselected plan (1) utility', 'unselected plan (2) utility', 'unselected plan (3) utility', 'unselected plan (4) utility']].apply(lambda row: list(row), axis=1)"
   ]
  },
  {
   "cell_type": "markdown",
   "id": "ca62823d",
   "metadata": {},
   "source": [
    "get the variation in mode choice"
   ]
  },
  {
   "cell_type": "code",
   "execution_count": 138,
   "id": "130e22ad",
   "metadata": {},
   "outputs": [],
   "source": [
    "#activities versus modes\n",
    "all_activities = {'business', 'delivery', 'depot', 'education', 'escort_business', 'escort_education', 'escort_home', 'escort_other', 'escort_shop', 'escort_work', 'home', 'medical', 'other', 'pt interaction', 'shop', 'visit', 'work'}\n",
    "all_modes = {'bike', 'bus', 'car', 'car_passenger', 'ferry', 'rail', 'subway', 'taxi', 'tram', 'walk'}"
   ]
  },
  {
   "cell_type": "code",
   "execution_count": 139,
   "id": "d8fe2786",
   "metadata": {},
   "outputs": [],
   "source": [
    "def get_unique_modes(lst):\n",
    "    if not isinstance(lst, list):\n",
    "        return []\n",
    "    lst_modes_unique = set()\n",
    "    for i in lst:\n",
    "        if i in all_modes:\n",
    "            lst_modes_unique.add(i)\n",
    "    return lst_modes_unique"
   ]
  },
  {
   "cell_type": "code",
   "execution_count": 140,
   "id": "0aa21ce0",
   "metadata": {},
   "outputs": [],
   "source": [
    "df_pos['selected plan unique_modes'] = df_pos['selected plan activity_type_or_mode'].apply(get_unique_modes)\n",
    "df_pos['selected plan no_unique_modes'] = df_pos['selected plan unique_modes'].apply(lambda x: len(x))\n",
    "\n",
    "df_pos['unselected plan (1) unique_modes'] = df_pos['unselected plan (1) activity_type_or_mode'].apply(get_unique_modes)\n",
    "df_pos['unselected plan (1) no_unique_modes'] = df_pos['unselected plan (1) unique_modes'].apply(lambda x: len(x))\n",
    "\n",
    "df_pos['unselected plan (2) unique_modes'] = df_pos['unselected plan (2) activity_type_or_mode'].apply(get_unique_modes)\n",
    "df_pos['unselected plan (2) no_unique_modes'] = df_pos['unselected plan (2) unique_modes'].apply(lambda x: len(x))\n",
    "\n",
    "df_pos['unselected plan (3) unique_modes'] = df_pos['unselected plan (3) activity_type_or_mode'].apply(get_unique_modes)\n",
    "df_pos['unselected plan (3) no_unique_modes'] = df_pos['unselected plan (3) unique_modes'].apply(lambda x: len(x))\n",
    "\n",
    "df_pos['unselected plan (4) unique_modes'] = df_pos['unselected plan (4) activity_type_or_mode'].apply(get_unique_modes)\n",
    "df_pos['unselected plan (4) no_unique_modes'] = df_pos['unselected plan (4) unique_modes'].apply(lambda x: len(x))"
   ]
  },
  {
   "cell_type": "code",
   "execution_count": 141,
   "id": "f37f224c",
   "metadata": {},
   "outputs": [],
   "source": [
    "df_pos['plan_no_modes'] = df_pos[['selected plan no_unique_modes', 'unselected plan (1) no_unique_modes', 'unselected plan (2) no_unique_modes', 'unselected plan (3) no_unique_modes', 'unselected plan (4) no_unique_modes']].apply(lambda row: list(row), axis=1)\n",
    "df_pos['plan_modes'] = df_pos[['selected plan unique_modes', 'unselected plan (1) unique_modes', 'unselected plan (2) unique_modes', 'unselected plan (3) unique_modes', 'unselected plan (4) unique_modes']].apply(lambda row: list(row), axis=1)"
   ]
  },
  {
   "cell_type": "code",
   "execution_count": 144,
   "id": "19191b41",
   "metadata": {},
   "outputs": [],
   "source": [
    "df_pos['utility_modes'] = df_pos.apply(lambda row: dict(zip(row['plan_utilities'], row['plan_modes'])), axis=1)\n",
    "df_pos['utility_no_modes'] = df_pos.apply(lambda row: dict(zip(row['plan_utilities'], row['plan_no_modes'])), axis=1)"
   ]
  },
  {
   "cell_type": "code",
   "execution_count": 145,
   "id": "8d1f420a",
   "metadata": {},
   "outputs": [],
   "source": [
    "car_modes = {\"car\", \"car_passenger\"}\n",
    "def get_car_only(modes):\n",
    "    mode_set = set.union(*modes)\n",
    "    if mode_set.issubset(car_modes):\n",
    "        return 1\n",
    "    else:\n",
    "        return 0"
   ]
  },
  {
   "cell_type": "code",
   "execution_count": 146,
   "id": "63a827cc",
   "metadata": {},
   "outputs": [],
   "source": [
    "df_pos['car_dependent'] = df_pos['plan_modes'].apply(lambda x: get_car_only(x))"
   ]
  },
  {
   "cell_type": "code",
   "execution_count": 147,
   "id": "af32b6d1",
   "metadata": {},
   "outputs": [
    {
     "data": {
      "text/plain": [
       "0.5728750428131065"
      ]
     },
     "execution_count": 147,
     "metadata": {},
     "output_type": "execute_result"
    }
   ],
   "source": [
    "len(df_pos[df_pos['car_dependent']==1])/len(df_pos)"
   ]
  },
  {
   "cell_type": "markdown",
   "id": "f934d354",
   "metadata": {},
   "source": [
    "## trying to calculate a flexibility metric"
   ]
  },
  {
   "cell_type": "code",
   "execution_count": 148,
   "id": "26dd5dab",
   "metadata": {},
   "outputs": [],
   "source": [
    "def get_delta_u_ij(utility_modes):\n",
    "    delta_u_ij = []\n",
    "    utility_modes = dict(sorted(utility_modes.items(), key=lambda item: item[0], reverse=True))  #is this sorting ok?\n",
    "    #print(utility_modes)\n",
    "    for i in range(len(utility_modes)-1):\n",
    "        if list(utility_modes.keys())[i] and list(utility_modes.keys())[i+1] == 0:\n",
    "            temp_u = 0\n",
    "        else:\n",
    "            temp_u = abs(list(utility_modes.keys())[i]-list(utility_modes.keys())[i+1])/max(abs(list(utility_modes.keys())[i]), abs(list(utility_modes.keys())[i+1]))\n",
    "        delta_u_ij.append(temp_u + 1)\n",
    "    return delta_u_ij"
   ]
  },
  {
   "cell_type": "code",
   "execution_count": 149,
   "id": "9322e64b",
   "metadata": {},
   "outputs": [],
   "source": [
    "#this function definitely needs more work to make it a more refined comparison between modes \n",
    "def get_delta_m_ij(utility_modes):\n",
    "    delta_m_ij = []\n",
    "    unique_m = []\n",
    "    utility_modes = dict(sorted(utility_modes.items(), key=lambda item: item[0], reverse=True))  #is this sorting ok?\n",
    "    append_unique = lambda lst, val: (lst.append(val) or lst) if val not in lst else lst\n",
    "    for i in range(len(utility_modes)-1):\n",
    "        if ((list(utility_modes.values())[i] != list(utility_modes.values())[i+1]) and (list(utility_modes.values())[i+1] not in unique_m)):\n",
    "            temp_m = 1 \n",
    "        else:\n",
    "            temp_m = 0\n",
    "        delta_m_ij.append(temp_m)\n",
    "        append_unique(unique_m, list(utility_modes.values())[i]) #add the modes just considered to the list to discount them in future\n",
    "        append_unique(unique_m, list(utility_modes.values())[i+1])\n",
    "    return delta_m_ij"
   ]
  },
  {
   "cell_type": "code",
   "execution_count": 150,
   "id": "c78a4f7c",
   "metadata": {},
   "outputs": [],
   "source": [
    "df_pos[\"delta_u_ij\"] = df_pos[\"utility_modes\"].apply(get_delta_u_ij)"
   ]
  },
  {
   "cell_type": "code",
   "execution_count": 151,
   "id": "63629724",
   "metadata": {},
   "outputs": [],
   "source": [
    "df_pos[\"delta_m_ij\"] = df_pos[\"utility_modes\"].apply(get_delta_m_ij)"
   ]
  },
  {
   "cell_type": "code",
   "execution_count": 152,
   "id": "ae197823",
   "metadata": {},
   "outputs": [],
   "source": [
    "def get_f_value(delta_u_ij, delta_m_ij):\n",
    "    f = 0\n",
    "    for i in range(len(delta_u_ij)):\n",
    "        f += delta_m_ij[i]/delta_u_ij[i]  #maybe add a weighitng here too such as 1/(i+1)\n",
    "    return f"
   ]
  },
  {
   "cell_type": "code",
   "execution_count": 154,
   "id": "783a0fb1",
   "metadata": {},
   "outputs": [],
   "source": [
    "# df[\"delta_u_ij\"] = df[\"utility_modes\"].apply(get_delta_u_ij)\n",
    "# df[\"delta_m_ij\"] = df[\"utility_modes\"].apply(get_delta_m_ij)\n",
    "df_pos[\"f\"] = df_pos.apply(lambda row: get_f_value(row['delta_u_ij'], row['delta_m_ij']), axis=1)"
   ]
  },
  {
   "cell_type": "code",
   "execution_count": 155,
   "id": "88247b0b",
   "metadata": {},
   "outputs": [
    {
     "data": {
      "text/plain": [
       "0.8779707538912357"
      ]
     },
     "execution_count": 155,
     "metadata": {},
     "output_type": "execute_result"
    }
   ],
   "source": [
    "len(df_pos[df_pos[\"f\"]==0])/len(df_pos) #so only 10% of people have any mode choice flexibility in this formulation\n",
    "#i think the issue lies in it being the whole day plan rather than a given trip \n",
    "#try trip-specific"
   ]
  },
  {
   "cell_type": "code",
   "execution_count": 156,
   "id": "7a48c358",
   "metadata": {},
   "outputs": [
    {
     "data": {
      "text/plain": [
       "0.0"
      ]
     },
     "execution_count": 156,
     "metadata": {},
     "output_type": "execute_result"
    }
   ],
   "source": [
    "min(df_pos[\"f\"])"
   ]
  },
  {
   "cell_type": "code",
   "execution_count": null,
   "id": "02604195",
   "metadata": {},
   "outputs": [
    {
     "data": {
      "application/vnd.microsoft.datawrangler.viewer.v0+json": {
       "columns": [
        {
         "name": "index",
         "rawType": "int64",
         "type": "integer"
        },
        {
         "name": "hcounty",
         "rawType": "object",
         "type": "string"
        },
        {
         "name": "f",
         "rawType": "float64",
         "type": "float"
        }
       ],
       "ref": "1b1a4bc6-76b3-4764-a15a-5311e63ef3c1",
       "rows": [
        [
         "0",
         "Barking and Dagenham",
         "0.15637496715430876"
        ],
        [
         "1",
         "Barnet",
         "0.09244875630637849"
        ],
        [
         "2",
         "Bedford",
         "0.05579532325280084"
        ],
        [
         "3",
         "Bexley",
         "0.1147099838091289"
        ],
        [
         "4",
         "Brent",
         "0.10448395021710805"
        ],
        [
         "5",
         "Bromley",
         "0.08789064693137277"
        ],
        [
         "6",
         "Cambridgeshire",
         "0.06277594050987796"
        ],
        [
         "7",
         "Camden",
         "0.21030766940337678"
        ],
        [
         "8",
         "Central Bedfordshire",
         "0.05220933830139637"
        ],
        [
         "9",
         "City of London",
         "0.20254756272818666"
        ],
        [
         "10",
         "Croydon",
         "0.11115458721482878"
        ],
        [
         "11",
         "Ealing",
         "0.17430550191600314"
        ],
        [
         "12",
         "Enfield",
         "0.17212088330004016"
        ],
        [
         "13",
         "Essex",
         "0.16404901245478287"
        ],
        [
         "14",
         "Greenwich",
         "0.11161094844141756"
        ],
        [
         "15",
         "Hackney",
         "0.1799070639197076"
        ],
        [
         "16",
         "Hammersmith and Fulham",
         "0.15860332483043962"
        ],
        [
         "17",
         "Haringey",
         "0.12842695228950085"
        ],
        [
         "18",
         "Harrow",
         "0.07159351364257369"
        ],
        [
         "19",
         "Havering",
         "0.22976656449997165"
        ],
        [
         "20",
         "Hertfordshire",
         "0.1505872827082115"
        ],
        [
         "21",
         "Hillingdon",
         "0.12498861755882205"
        ],
        [
         "22",
         "Hounslow",
         "0.11876761548869001"
        ],
        [
         "23",
         "Islington",
         "0.1947179721127357"
        ],
        [
         "24",
         "Kensington and Chelsea",
         "0.15683077501886464"
        ],
        [
         "25",
         "Kingston upon Thames",
         "0.07183503704374863"
        ],
        [
         "26",
         "Lambeth",
         "0.19751394942952355"
        ],
        [
         "27",
         "Lewisham",
         "0.08669911909125744"
        ],
        [
         "28",
         "Luton",
         "0.0717382285896468"
        ],
        [
         "29",
         "Merton",
         "0.059016586829987235"
        ],
        [
         "30",
         "Newham",
         "0.16789756180450252"
        ],
        [
         "31",
         "Norfolk",
         "0.09614954114980874"
        ],
        [
         "32",
         "Peterborough",
         "0.03464978041235227"
        ],
        [
         "33",
         "Redbridge",
         "0.2017549724329052"
        ],
        [
         "34",
         "Richmond upon Thames",
         "0.11002349174589209"
        ],
        [
         "35",
         "Southend-on-Sea",
         "0.22648823597669812"
        ],
        [
         "36",
         "Southwark",
         "0.15454014935512103"
        ],
        [
         "37",
         "Suffolk",
         "0.08519185266638894"
        ],
        [
         "38",
         "Sutton",
         "0.0716935027976379"
        ],
        [
         "39",
         "Thurrock",
         "0.1941284719814488"
        ],
        [
         "40",
         "Tower Hamlets",
         "0.16038434272118585"
        ],
        [
         "41",
         "Waltham Forest",
         "0.25754432295260793"
        ],
        [
         "42",
         "Wandsworth",
         "0.11683835540898632"
        ],
        [
         "43",
         "Westminster",
         "0.17893618810710055"
        ]
       ],
       "shape": {
        "columns": 2,
        "rows": 44
       }
      },
      "text/html": [
       "<div>\n",
       "<style scoped>\n",
       "    .dataframe tbody tr th:only-of-type {\n",
       "        vertical-align: middle;\n",
       "    }\n",
       "\n",
       "    .dataframe tbody tr th {\n",
       "        vertical-align: top;\n",
       "    }\n",
       "\n",
       "    .dataframe thead th {\n",
       "        text-align: right;\n",
       "    }\n",
       "</style>\n",
       "<table border=\"1\" class=\"dataframe\">\n",
       "  <thead>\n",
       "    <tr style=\"text-align: right;\">\n",
       "      <th></th>\n",
       "      <th>hcounty</th>\n",
       "      <th>f</th>\n",
       "    </tr>\n",
       "  </thead>\n",
       "  <tbody>\n",
       "    <tr>\n",
       "      <th>0</th>\n",
       "      <td>Barking and Dagenham</td>\n",
       "      <td>0.156375</td>\n",
       "    </tr>\n",
       "    <tr>\n",
       "      <th>1</th>\n",
       "      <td>Barnet</td>\n",
       "      <td>0.092449</td>\n",
       "    </tr>\n",
       "    <tr>\n",
       "      <th>2</th>\n",
       "      <td>Bedford</td>\n",
       "      <td>0.055795</td>\n",
       "    </tr>\n",
       "    <tr>\n",
       "      <th>3</th>\n",
       "      <td>Bexley</td>\n",
       "      <td>0.114710</td>\n",
       "    </tr>\n",
       "    <tr>\n",
       "      <th>4</th>\n",
       "      <td>Brent</td>\n",
       "      <td>0.104484</td>\n",
       "    </tr>\n",
       "    <tr>\n",
       "      <th>5</th>\n",
       "      <td>Bromley</td>\n",
       "      <td>0.087891</td>\n",
       "    </tr>\n",
       "    <tr>\n",
       "      <th>6</th>\n",
       "      <td>Cambridgeshire</td>\n",
       "      <td>0.062776</td>\n",
       "    </tr>\n",
       "    <tr>\n",
       "      <th>7</th>\n",
       "      <td>Camden</td>\n",
       "      <td>0.210308</td>\n",
       "    </tr>\n",
       "    <tr>\n",
       "      <th>8</th>\n",
       "      <td>Central Bedfordshire</td>\n",
       "      <td>0.052209</td>\n",
       "    </tr>\n",
       "    <tr>\n",
       "      <th>9</th>\n",
       "      <td>City of London</td>\n",
       "      <td>0.202548</td>\n",
       "    </tr>\n",
       "    <tr>\n",
       "      <th>10</th>\n",
       "      <td>Croydon</td>\n",
       "      <td>0.111155</td>\n",
       "    </tr>\n",
       "    <tr>\n",
       "      <th>11</th>\n",
       "      <td>Ealing</td>\n",
       "      <td>0.174306</td>\n",
       "    </tr>\n",
       "    <tr>\n",
       "      <th>12</th>\n",
       "      <td>Enfield</td>\n",
       "      <td>0.172121</td>\n",
       "    </tr>\n",
       "    <tr>\n",
       "      <th>13</th>\n",
       "      <td>Essex</td>\n",
       "      <td>0.164049</td>\n",
       "    </tr>\n",
       "    <tr>\n",
       "      <th>14</th>\n",
       "      <td>Greenwich</td>\n",
       "      <td>0.111611</td>\n",
       "    </tr>\n",
       "    <tr>\n",
       "      <th>15</th>\n",
       "      <td>Hackney</td>\n",
       "      <td>0.179907</td>\n",
       "    </tr>\n",
       "    <tr>\n",
       "      <th>16</th>\n",
       "      <td>Hammersmith and Fulham</td>\n",
       "      <td>0.158603</td>\n",
       "    </tr>\n",
       "    <tr>\n",
       "      <th>17</th>\n",
       "      <td>Haringey</td>\n",
       "      <td>0.128427</td>\n",
       "    </tr>\n",
       "    <tr>\n",
       "      <th>18</th>\n",
       "      <td>Harrow</td>\n",
       "      <td>0.071594</td>\n",
       "    </tr>\n",
       "    <tr>\n",
       "      <th>19</th>\n",
       "      <td>Havering</td>\n",
       "      <td>0.229767</td>\n",
       "    </tr>\n",
       "    <tr>\n",
       "      <th>20</th>\n",
       "      <td>Hertfordshire</td>\n",
       "      <td>0.150587</td>\n",
       "    </tr>\n",
       "    <tr>\n",
       "      <th>21</th>\n",
       "      <td>Hillingdon</td>\n",
       "      <td>0.124989</td>\n",
       "    </tr>\n",
       "    <tr>\n",
       "      <th>22</th>\n",
       "      <td>Hounslow</td>\n",
       "      <td>0.118768</td>\n",
       "    </tr>\n",
       "    <tr>\n",
       "      <th>23</th>\n",
       "      <td>Islington</td>\n",
       "      <td>0.194718</td>\n",
       "    </tr>\n",
       "    <tr>\n",
       "      <th>24</th>\n",
       "      <td>Kensington and Chelsea</td>\n",
       "      <td>0.156831</td>\n",
       "    </tr>\n",
       "    <tr>\n",
       "      <th>25</th>\n",
       "      <td>Kingston upon Thames</td>\n",
       "      <td>0.071835</td>\n",
       "    </tr>\n",
       "    <tr>\n",
       "      <th>26</th>\n",
       "      <td>Lambeth</td>\n",
       "      <td>0.197514</td>\n",
       "    </tr>\n",
       "    <tr>\n",
       "      <th>27</th>\n",
       "      <td>Lewisham</td>\n",
       "      <td>0.086699</td>\n",
       "    </tr>\n",
       "    <tr>\n",
       "      <th>28</th>\n",
       "      <td>Luton</td>\n",
       "      <td>0.071738</td>\n",
       "    </tr>\n",
       "    <tr>\n",
       "      <th>29</th>\n",
       "      <td>Merton</td>\n",
       "      <td>0.059017</td>\n",
       "    </tr>\n",
       "    <tr>\n",
       "      <th>30</th>\n",
       "      <td>Newham</td>\n",
       "      <td>0.167898</td>\n",
       "    </tr>\n",
       "    <tr>\n",
       "      <th>31</th>\n",
       "      <td>Norfolk</td>\n",
       "      <td>0.096150</td>\n",
       "    </tr>\n",
       "    <tr>\n",
       "      <th>32</th>\n",
       "      <td>Peterborough</td>\n",
       "      <td>0.034650</td>\n",
       "    </tr>\n",
       "    <tr>\n",
       "      <th>33</th>\n",
       "      <td>Redbridge</td>\n",
       "      <td>0.201755</td>\n",
       "    </tr>\n",
       "    <tr>\n",
       "      <th>34</th>\n",
       "      <td>Richmond upon Thames</td>\n",
       "      <td>0.110023</td>\n",
       "    </tr>\n",
       "    <tr>\n",
       "      <th>35</th>\n",
       "      <td>Southend-on-Sea</td>\n",
       "      <td>0.226488</td>\n",
       "    </tr>\n",
       "    <tr>\n",
       "      <th>36</th>\n",
       "      <td>Southwark</td>\n",
       "      <td>0.154540</td>\n",
       "    </tr>\n",
       "    <tr>\n",
       "      <th>37</th>\n",
       "      <td>Suffolk</td>\n",
       "      <td>0.085192</td>\n",
       "    </tr>\n",
       "    <tr>\n",
       "      <th>38</th>\n",
       "      <td>Sutton</td>\n",
       "      <td>0.071694</td>\n",
       "    </tr>\n",
       "    <tr>\n",
       "      <th>39</th>\n",
       "      <td>Thurrock</td>\n",
       "      <td>0.194128</td>\n",
       "    </tr>\n",
       "    <tr>\n",
       "      <th>40</th>\n",
       "      <td>Tower Hamlets</td>\n",
       "      <td>0.160384</td>\n",
       "    </tr>\n",
       "    <tr>\n",
       "      <th>41</th>\n",
       "      <td>Waltham Forest</td>\n",
       "      <td>0.257544</td>\n",
       "    </tr>\n",
       "    <tr>\n",
       "      <th>42</th>\n",
       "      <td>Wandsworth</td>\n",
       "      <td>0.116838</td>\n",
       "    </tr>\n",
       "    <tr>\n",
       "      <th>43</th>\n",
       "      <td>Westminster</td>\n",
       "      <td>0.178936</td>\n",
       "    </tr>\n",
       "  </tbody>\n",
       "</table>\n",
       "</div>"
      ],
      "text/plain": [
       "                   hcounty         f\n",
       "0     Barking and Dagenham  0.156375\n",
       "1                   Barnet  0.092449\n",
       "2                  Bedford  0.055795\n",
       "3                   Bexley  0.114710\n",
       "4                    Brent  0.104484\n",
       "5                  Bromley  0.087891\n",
       "6           Cambridgeshire  0.062776\n",
       "7                   Camden  0.210308\n",
       "8     Central Bedfordshire  0.052209\n",
       "9           City of London  0.202548\n",
       "10                 Croydon  0.111155\n",
       "11                  Ealing  0.174306\n",
       "12                 Enfield  0.172121\n",
       "13                   Essex  0.164049\n",
       "14               Greenwich  0.111611\n",
       "15                 Hackney  0.179907\n",
       "16  Hammersmith and Fulham  0.158603\n",
       "17                Haringey  0.128427\n",
       "18                  Harrow  0.071594\n",
       "19                Havering  0.229767\n",
       "20           Hertfordshire  0.150587\n",
       "21              Hillingdon  0.124989\n",
       "22                Hounslow  0.118768\n",
       "23               Islington  0.194718\n",
       "24  Kensington and Chelsea  0.156831\n",
       "25    Kingston upon Thames  0.071835\n",
       "26                 Lambeth  0.197514\n",
       "27                Lewisham  0.086699\n",
       "28                   Luton  0.071738\n",
       "29                  Merton  0.059017\n",
       "30                  Newham  0.167898\n",
       "31                 Norfolk  0.096150\n",
       "32            Peterborough  0.034650\n",
       "33               Redbridge  0.201755\n",
       "34    Richmond upon Thames  0.110023\n",
       "35         Southend-on-Sea  0.226488\n",
       "36               Southwark  0.154540\n",
       "37                 Suffolk  0.085192\n",
       "38                  Sutton  0.071694\n",
       "39                Thurrock  0.194128\n",
       "40           Tower Hamlets  0.160384\n",
       "41          Waltham Forest  0.257544\n",
       "42              Wandsworth  0.116838\n",
       "43             Westminster  0.178936"
      ]
     },
     "execution_count": 157,
     "metadata": {},
     "output_type": "execute_result"
    }
   ],
   "source": [
    "df_pos2 = df_pos[[\"hcounty\", \"f\"]]\n",
    "# plt.plot(df2[\"age\"], df2[\"f\"],\"x\")\n",
    "df_pos2.groupby('hcounty', as_index=False).mean()"
   ]
  },
  {
   "cell_type": "code",
   "execution_count": 168,
   "id": "19774fd0",
   "metadata": {},
   "outputs": [],
   "source": [
    "def group_legs_into_trips(activity_mode_list, activity_indices):\n",
    "    modes = []\n",
    "    for i in range(len(activity_indices)):\n",
    "        if i>0:\n",
    "            modes_temp = activity_mode_list[activity_indices[i-1]+1:activity_indices[i]]\n",
    "            modes.append(list(modes_temp))\n",
    "    return modes"
   ]
  },
  {
   "cell_type": "code",
   "execution_count": 169,
   "id": "594bfe89",
   "metadata": {},
   "outputs": [],
   "source": [
    "df_pos[\"legs_to_trips\"] = df_pos.apply(lambda row: group_legs_into_trips(row[\"selected plan activity_type_or_mode\"], row[\"activities_indices\"]), axis=1)"
   ]
  },
  {
   "cell_type": "code",
   "execution_count": 171,
   "id": "2916c689",
   "metadata": {},
   "outputs": [
    {
     "name": "stdout",
     "output_type": "stream",
     "text": [
      "['home', 'walk', 'home', 'rail', 'work']\n",
      "[0, 2, 4]\n"
     ]
    }
   ],
   "source": [
    "test = df_pos[\"selected plan activity_type_or_mode\"][1]\n",
    "print(test)\n",
    "test_indices = get_activities_indices_only(test)\n",
    "print(test_indices)"
   ]
  },
  {
   "cell_type": "code",
   "execution_count": null,
   "id": "94467281",
   "metadata": {},
   "outputs": [],
   "source": []
  },
  {
   "cell_type": "code",
   "execution_count": null,
   "metadata": {},
   "outputs": [],
   "source": []
  },
  {
   "cell_type": "code",
   "execution_count": null,
   "id": "a6ffaeed",
   "metadata": {},
   "outputs": [],
   "source": []
  },
  {
   "cell_type": "code",
   "execution_count": null,
   "id": "ac27208b",
   "metadata": {},
   "outputs": [],
   "source": []
  },
  {
   "cell_type": "code",
   "execution_count": null,
   "id": "14a49744",
   "metadata": {},
   "outputs": [],
   "source": []
  },
  {
   "cell_type": "code",
   "execution_count": null,
   "id": "f1ddaa0f",
   "metadata": {},
   "outputs": [],
   "source": []
  },
  {
   "cell_type": "markdown",
   "id": "a7a4d0c0",
   "metadata": {},
   "source": [
    "# try using duration as proxy of trip-specific utility. for first trip of day"
   ]
  },
  {
   "cell_type": "code",
   "execution_count": 51,
   "id": "c8f39876",
   "metadata": {},
   "outputs": [],
   "source": [
    "# flex = sum[mode change / duration increase] across all plans"
   ]
  },
  {
   "cell_type": "code",
   "execution_count": null,
   "id": "bcf670e6",
   "metadata": {},
   "outputs": [],
   "source": [
    "def get_modes_only_indices(activities_modes):\n",
    "    indices = []\n",
    "    for i in range(len(activities_modes)):\n",
    "        if activities_modes[i] in all_modes:\n",
    "            indices.append(i)\n",
    "    return indices"
   ]
  },
  {
   "cell_type": "code",
   "execution_count": 55,
   "id": "90cef39f",
   "metadata": {},
   "outputs": [],
   "source": [
    "df[\"selected plan first_trip_index\"] = df[\"selected plan activity_type_or_mode\"].apply(get_modes_only_indices)"
   ]
  },
  {
   "cell_type": "code",
   "execution_count": 61,
   "id": "c2c8eec9",
   "metadata": {},
   "outputs": [],
   "source": [
    "def get_first_trip(activities_modes, indices):\n",
    "    if len(indices) > 0:\n",
    "        temp_index = indices[0]\n",
    "        return activities_modes[temp_index]\n",
    "    else:\n",
    "        return np.nan"
   ]
  },
  {
   "cell_type": "code",
   "execution_count": 137,
   "id": "a6efe2a1",
   "metadata": {},
   "outputs": [],
   "source": [
    "a = [\"2\", \"3\", \"N/A\"]"
   ]
  },
  {
   "cell_type": "code",
   "execution_count": 148,
   "id": "37aabcbe",
   "metadata": {},
   "outputs": [],
   "source": [
    "a2 = [float(x) if x != \"N/A\" else 0 for x in a]"
   ]
  },
  {
   "cell_type": "code",
   "execution_count": 149,
   "id": "7261eb6a",
   "metadata": {},
   "outputs": [
    {
     "data": {
      "text/plain": [
       "[2.0, 3.0, 0]"
      ]
     },
     "execution_count": 149,
     "metadata": {},
     "output_type": "execute_result"
    }
   ],
   "source": [
    "a2"
   ]
  },
  {
   "cell_type": "code",
   "execution_count": 150,
   "id": "31605804",
   "metadata": {},
   "outputs": [],
   "source": [
    "def get_longest_trip(activities_modes, distances):\n",
    "    if len(distances) > 0:\n",
    "        distances = [float(x) if x != \"N/A\" else 0 for x in distances]\n",
    "        temp_max = np.nanmax(distances)\n",
    "        temp_index = distances.index(temp_max)\n",
    "        return activities_modes[temp_index]\n",
    "    else:\n",
    "        return np.nan"
   ]
  },
  {
   "cell_type": "code",
   "execution_count": 151,
   "id": "51facc58",
   "metadata": {},
   "outputs": [],
   "source": [
    "df[\"selected plan longest_trip\"] = df.apply(lambda row: get_longest_trip(row['selected plan activity_type_or_mode'], row['selected plan distance_travelled']), axis=1) #assuming all the activity plans are the same\n",
    "df[\"unselected plan (1) longest_trip\"] = df.apply(lambda row: get_longest_trip(row['unselected plan (1) activity_type_or_mode'], row['selected plan distance_travelled']), axis=1)\n",
    "df[\"unselected plan (2) longest_trip\"] = df.apply(lambda row: get_longest_trip(row['unselected plan (2) activity_type_or_mode'], row['selected plan distance_travelled']), axis=1)\n",
    "df[\"unselected plan (3) longest_trip\"] = df.apply(lambda row: get_longest_trip(row['unselected plan (3) activity_type_or_mode'], row['selected plan distance_travelled']), axis=1)\n",
    "df[\"unselected plan (4) longest_trip\"] = df.apply(lambda row: get_longest_trip(row['unselected plan (4) activity_type_or_mode'], row['selected plan distance_travelled']), axis=1)\n",
    "\n",
    "df['longest_trip_modes'] = df[['selected plan longest_trip', 'unselected plan (1) longest_trip', 'unselected plan (2) longest_trip', 'unselected plan (3) longest_trip', 'unselected plan (4) longest_trip']].apply(lambda row: list(row), axis=1)"
   ]
  },
  {
   "cell_type": "code",
   "execution_count": null,
   "id": "efd94127",
   "metadata": {},
   "outputs": [],
   "source": [
    "# df[\"selected plan first_trip\"] = df.apply(lambda row: get_first_trip(row['selected plan activity_type_or_mode'], row['selected plan first_trip_index']), axis=1) #assuming all the activity plans are the same\n",
    "# df[\"unselected plan (1) first_trip\"] = df.apply(lambda row: get_first_trip(row['unselected plan (1) activity_type_or_mode'], row['selected plan first_trip_index']), axis=1)\n",
    "# df[\"unselected plan (2) first_trip\"] = df.apply(lambda row: get_first_trip(row['unselected plan (2) activity_type_or_mode'], row['selected plan first_trip_index']), axis=1)\n",
    "# df[\"unselected plan (3) first_trip\"] = df.apply(lambda row: get_first_trip(row['unselected plan (3) activity_type_or_mode'], row['selected plan first_trip_index']), axis=1)\n",
    "# df[\"unselected plan (4) first_trip\"] = df.apply(lambda row: get_first_trip(row['unselected plan (4) activity_type_or_mode'], row['selected plan first_trip_index']), axis=1)\n",
    "\n",
    "# df['first_trip_modes'] = df[['selected plan first_trip', 'unselected plan (1) first_trip', 'unselected plan (2) first_trip', 'unselected plan (3) first_trip', 'unselected plan (4) first_trip']].apply(lambda row: list(row), axis=1)"
   ]
  },
  {
   "cell_type": "code",
   "execution_count": 152,
   "id": "753bc00a",
   "metadata": {},
   "outputs": [],
   "source": [
    "df[\"selected plan longest_trip_duration\"] = df.apply(lambda row: get_longest_trip(row['selected plan duration'], row['selected plan distance_travelled']), axis=1) #assuming all the activity plans are the same\n",
    "df[\"unselected plan (1) longest_trip_duration\"] = df.apply(lambda row: get_longest_trip(row['unselected plan (1) duration'], row['selected plan distance_travelled']), axis=1)\n",
    "df[\"unselected plan (2) longest_trip_duration\"] = df.apply(lambda row: get_longest_trip(row['unselected plan (2) duration'], row['selected plan distance_travelled']), axis=1)\n",
    "df[\"unselected plan (3) longest_trip_duration\"] = df.apply(lambda row: get_longest_trip(row['unselected plan (3) duration'], row['selected plan distance_travelled']), axis=1)\n",
    "df[\"unselected plan (4) longest_trip_duration\"] = df.apply(lambda row: get_longest_trip(row['unselected plan (4) duration'], row['selected plan distance_travelled']), axis=1)\n",
    "\n",
    "df['longest_trip_durations'] = df[['selected plan longest_trip_duration', 'unselected plan (1) longest_trip_duration', 'unselected plan (2) longest_trip_duration', 'unselected plan (3) longest_trip_duration', 'unselected plan (4) longest_trip_duration']].apply(lambda row: list(row), axis=1)"
   ]
  },
  {
   "cell_type": "code",
   "execution_count": 153,
   "id": "1a9032e5",
   "metadata": {},
   "outputs": [],
   "source": [
    "# df[\"selected plan first_trip_duration\"] = df.apply(lambda row: get_first_trip(row['selected plan duration'], row['selected plan first_trip_index']), axis=1)  #assuming all the activity plans are the same\n",
    "# df[\"unselected plan (1) first_trip_duration\"] = df.apply(lambda row: get_first_trip(row['unselected plan (1) duration'], row['selected plan first_trip_index']), axis=1)\n",
    "# df[\"unselected plan (2) first_trip_duration\"] = df.apply(lambda row: get_first_trip(row['unselected plan (2) duration'], row['selected plan first_trip_index']), axis=1)\n",
    "# df[\"unselected plan (3) first_trip_duration\"] = df.apply(lambda row: get_first_trip(row['unselected plan (3) duration'], row['selected plan first_trip_index']), axis=1)\n",
    "# df[\"unselected plan (4) first_trip_duration\"] = df.apply(lambda row: get_first_trip(row['unselected plan (4) duration'], row['selected plan first_trip_index']), axis=1)\n",
    "\n",
    "# df['first_trip_durations'] = df[['selected plan first_trip_duration', 'unselected plan (1) first_trip_duration', 'unselected plan (2) first_trip_duration', 'unselected plan (3) first_trip_duration', 'unselected plan (4) first_trip_duration']].apply(lambda row: list(row), axis=1)"
   ]
  },
  {
   "cell_type": "code",
   "execution_count": 154,
   "id": "b67f598e",
   "metadata": {},
   "outputs": [],
   "source": [
    "# df['utility_modes_first_trip'] = df.apply(lambda row: dict(zip(row['first_trip_durations'], row['first_trip_modes'])), axis=1)\n",
    "df['utility_modes_longest_trip'] = df.apply(lambda row: dict(zip(row['longest_trip_durations'], row['longest_trip_modes'])), axis=1)"
   ]
  },
  {
   "cell_type": "code",
   "execution_count": 72,
   "id": "06481ebd",
   "metadata": {},
   "outputs": [
    {
     "data": {
      "text/plain": [
       "-3523"
      ]
     },
     "execution_count": 72,
     "metadata": {},
     "output_type": "execute_result"
    }
   ],
   "source": [
    "import datetime as datetime\n",
    "pd.to_timedelta(df[\"selected_plan first_trip_duration\"][1]).seconds-pd.to_timedelta(df[\"selected_plan first_trip_duration\"][0]).seconds"
   ]
  },
  {
   "cell_type": "code",
   "execution_count": 163,
   "id": "be41e6c8",
   "metadata": {},
   "outputs": [],
   "source": [
    "def get_delta_u_ij_trip(utility_modes): #use duration for now, but swap in utility when possible\n",
    "    delta_u_ij = []\n",
    "    utility_modes = dict(sorted(utility_modes.items(), key=lambda item: item[0], reverse=False))  #sort ascending order\n",
    "    #print(utility_modes)\n",
    "    for i in range(len(utility_modes)-1):\n",
    "        temp_u = abs(pd.to_timedelta(list(utility_modes.keys())[i+1]).seconds/pd.to_timedelta(list(utility_modes.keys())[0]).seconds) #do a divid so that we are getting the proportion of how much longer it was\n",
    "        delta_u_ij.append(temp_u)\n",
    "    return delta_u_ij"
   ]
  },
  {
   "cell_type": "code",
   "execution_count": 164,
   "id": "4bc72847",
   "metadata": {},
   "outputs": [],
   "source": [
    "def get_delta_m_ij_trip(utility_modes):\n",
    "    delta_m_ij = []\n",
    "    unique_m = []\n",
    "    utility_modes = dict(sorted(utility_modes.items(), key=lambda item: item[0], reverse=False))  #is this sorting ok?\n",
    "    append_unique = lambda lst, val: (lst.append(val) or lst) if val not in lst else lst\n",
    "    append_unique(unique_m, list(utility_modes.values())[0])\n",
    "    for i in range(len(utility_modes)-1):\n",
    "        if ((list(utility_modes.values())[0] != list(utility_modes.values())[i+1]) and (list(utility_modes.values())[i+1] not in unique_m)):\n",
    "            temp_m = 1 \n",
    "        else:\n",
    "            temp_m = 0\n",
    "        delta_m_ij.append(temp_m)\n",
    "        append_unique(unique_m, list(utility_modes.values())[i+1]) #add the modes just considered to the list to discount them in future\n",
    "    return delta_m_ij"
   ]
  },
  {
   "cell_type": "code",
   "execution_count": 165,
   "id": "5797af09",
   "metadata": {},
   "outputs": [],
   "source": [
    "def get_f_value_firsttrip(delta_u_ij, delta_m_ij):\n",
    "    f = 0\n",
    "    for i in range(len(delta_u_ij)):\n",
    "        f += delta_m_ij[i]/delta_u_ij[i]  #maybe add a weighitng here too such as 1/(i+1)\n",
    "    return f"
   ]
  },
  {
   "cell_type": "code",
   "execution_count": 166,
   "id": "4d4096a4",
   "metadata": {},
   "outputs": [],
   "source": [
    "df[\"delta_u_ij_trip\"] = df[\"utility_modes_longest_trip\"].apply(get_delta_u_ij_trip)\n",
    "df[\"delta_m_ij_trip\"] = df[\"utility_modes_longest_trip\"].apply(get_delta_m_ij_trip)\n",
    "df[\"f_first_trip\"] = df.apply(lambda row: get_f_value(row['delta_u_ij_trip'], row['delta_m_ij_trip']), axis=1)"
   ]
  },
  {
   "cell_type": "code",
   "execution_count": 167,
   "id": "afc6ad80",
   "metadata": {},
   "outputs": [],
   "source": [
    "df=df[~df[\"subpopulation\"].isin([\"lgv\", \"hgv\", \"airport\"])]"
   ]
  },
  {
   "cell_type": "code",
   "execution_count": 168,
   "id": "22d154d7",
   "metadata": {},
   "outputs": [
    {
     "data": {
      "text/plain": [
       "0.9400263934302213"
      ]
     },
     "execution_count": 168,
     "metadata": {},
     "output_type": "execute_result"
    }
   ],
   "source": [
    "len(df[df[\"f_first_trip\"]==0])/len(df)"
   ]
  },
  {
   "cell_type": "code",
   "execution_count": 169,
   "id": "6694ab09",
   "metadata": {},
   "outputs": [
    {
     "data": {
      "text/plain": [
       "(array([3.49581e+05, 7.04800e+03, 2.50000e+02, 2.60000e+01, 0.00000e+00,\n",
       "        1.00000e+00, 0.00000e+00, 0.00000e+00, 0.00000e+00, 1.00000e+00]),\n",
       " array([0.        , 0.58702909, 1.17405818, 1.76108727, 2.34811636,\n",
       "        2.93514545, 3.52217454, 4.10920362, 4.69623271, 5.2832618 ,\n",
       "        5.87029089]),\n",
       " <BarContainer object of 10 artists>)"
      ]
     },
     "execution_count": 169,
     "metadata": {},
     "output_type": "execute_result"
    },
    {
     "data": {
      "image/png": "[encoded data removed]",
      "text/plain": [
       "<Figure size 640x480 with 1 Axes>"
      ]
     },
     "metadata": {},
     "output_type": "display_data"
    }
   ],
   "source": [
    "plt.hist(df[\"f_first_trip\"])"
   ]
  },
  {
   "cell_type": "code",
   "execution_count": 170,
   "id": "481161a5",
   "metadata": {},
   "outputs": [
    {
     "name": "stdout",
     "output_type": "stream",
     "text": [
      "5.870290891750119\n",
      "0.0\n"
     ]
    }
   ],
   "source": [
    "print(max(df[\"f_first_trip\"]))\n",
    "print(min(df[\"f_first_trip\"]))"
   ]
  },
  {
   "cell_type": "code",
   "execution_count": 171,
   "id": "86515406",
   "metadata": {},
   "outputs": [
    {
     "data": {
      "application/vnd.microsoft.datawrangler.viewer.v0+json": {
       "columns": [
        {
         "name": "index",
         "rawType": "int64",
         "type": "integer"
        },
        {
         "name": "subpopulation",
         "rawType": "object",
         "type": "string"
        },
        {
         "name": "f_first_trip",
         "rawType": "float64",
         "type": "float"
        }
       ],
       "ref": "a2dcce5d-7d5e-4bdc-b9bc-da1f5dbc90ae",
       "rows": [
        [
         "0",
         "ev_high",
         "0.022523528682210667"
        ],
        [
         "1",
         "ev_low",
         "0.01882441046388695"
        ],
        [
         "2",
         "ev_medium",
         "0.012673235539112527"
        ],
        [
         "3",
         "high",
         "0.0268699089786327"
        ],
        [
         "4",
         "low",
         "0.037641772647084265"
        ],
        [
         "5",
         "medium",
         "0.025912838934020476"
        ]
       ],
       "shape": {
        "columns": 2,
        "rows": 6
       }
      },
      "text/html": [
       "<div>\n",
       "<style scoped>\n",
       "    .dataframe tbody tr th:only-of-type {\n",
       "        vertical-align: middle;\n",
       "    }\n",
       "\n",
       "    .dataframe tbody tr th {\n",
       "        vertical-align: top;\n",
       "    }\n",
       "\n",
       "    .dataframe thead th {\n",
       "        text-align: right;\n",
       "    }\n",
       "</style>\n",
       "<table border=\"1\" class=\"dataframe\">\n",
       "  <thead>\n",
       "    <tr style=\"text-align: right;\">\n",
       "      <th></th>\n",
       "      <th>subpopulation</th>\n",
       "      <th>f_first_trip</th>\n",
       "    </tr>\n",
       "  </thead>\n",
       "  <tbody>\n",
       "    <tr>\n",
       "      <th>0</th>\n",
       "      <td>ev_high</td>\n",
       "      <td>0.022524</td>\n",
       "    </tr>\n",
       "    <tr>\n",
       "      <th>1</th>\n",
       "      <td>ev_low</td>\n",
       "      <td>0.018824</td>\n",
       "    </tr>\n",
       "    <tr>\n",
       "      <th>2</th>\n",
       "      <td>ev_medium</td>\n",
       "      <td>0.012673</td>\n",
       "    </tr>\n",
       "    <tr>\n",
       "      <th>3</th>\n",
       "      <td>high</td>\n",
       "      <td>0.026870</td>\n",
       "    </tr>\n",
       "    <tr>\n",
       "      <th>4</th>\n",
       "      <td>low</td>\n",
       "      <td>0.037642</td>\n",
       "    </tr>\n",
       "    <tr>\n",
       "      <th>5</th>\n",
       "      <td>medium</td>\n",
       "      <td>0.025913</td>\n",
       "    </tr>\n",
       "  </tbody>\n",
       "</table>\n",
       "</div>"
      ],
      "text/plain": [
       "  subpopulation  f_first_trip\n",
       "0       ev_high      0.022524\n",
       "1        ev_low      0.018824\n",
       "2     ev_medium      0.012673\n",
       "3          high      0.026870\n",
       "4           low      0.037642\n",
       "5        medium      0.025913"
      ]
     },
     "execution_count": 171,
     "metadata": {},
     "output_type": "execute_result"
    }
   ],
   "source": [
    "df_2 = df[[\"subpopulation\", \"f_first_trip\"]]\n",
    "df_2.groupby('subpopulation', as_index=False).mean()"
   ]
  },
  {
   "cell_type": "markdown",
   "id": "6bbb70c9",
   "metadata": {},
   "source": [
    "## extract specific trip purposes"
   ]
  },
  {
   "cell_type": "code",
   "execution_count": null,
   "id": "3e4091a1",
   "metadata": {},
   "outputs": [],
   "source": [
    "# get the list of purposes\n",
    "# find the first instance of X purpose and save the index\n",
    "# get the corresponding index of mode and departure time as well as utility\n",
    "# repeat for all 4 other plans"
   ]
  },
  {
   "cell_type": "code",
   "execution_count": 19,
   "id": "50fbd787",
   "metadata": {},
   "outputs": [],
   "source": [
    "a = df.head(5)"
   ]
  },
  {
   "cell_type": "code",
   "execution_count": null,
   "id": "2c800d3c",
   "metadata": {},
   "outputs": [
    {
     "name": "stdout",
     "output_type": "stream",
     "text": [
      "2\n"
     ]
    },
    {
     "ename": "",
     "evalue": "",
     "output_type": "error",
     "traceback": [
      "\u001b[1;31mThe Kernel crashed while executing code in the current cell or a previous cell. \n",
      "\u001b[1;31mPlease review the code in the cell(s) to identify a possible cause of the failure. \n",
      "\u001b[1;31mClick <a href='https://aka.ms/vscodeJupyterKernelCrash'>here</a> for more info. \n",
      "\u001b[1;31mView Jupyter <a href='command:jupyter.viewOutput'>log</a> for further details."
     ]
    }
   ],
   "source": [
    "print([i for i, val in enumerate(a[\"selected plan activity_type_or_mode\"][1]) if val == \"visit\"][0])\n"
   ]
  },
  {
   "cell_type": "code",
   "execution_count": null,
   "id": "222bdbd1",
   "metadata": {},
   "outputs": [],
   "source": [
    "def get_delta_t_ij(durations):\n",
    "    "
   ]
  },
  {
   "cell_type": "code",
   "execution_count": null,
   "id": "a87e8e79",
   "metadata": {},
   "outputs": [],
   "source": [
    "def get_purpose_trip(activities, modes, duration, utilities, purpose=\"work\"):\n",
    "    purp_index = [i for i, val in enumerate(activities) if val == purpose][0] #activities is \"selected plan activity_type_or_mode\"\n",
    "    purp_index = purp_index - 1 #get the travel that happens just before work\n",
    "    "
   ]
  },
  {
   "cell_type": "markdown",
   "id": "f8c21af8",
   "metadata": {},
   "source": [
    "get the columns named \"unselected plan (4) activity_type_or_mode\" and separate out modes and activities using the all_modes and all_activities lists. then add up durations to get start times. extract corresponding times/distances/locations. "
   ]
  },
  {
   "cell_type": "markdown",
   "id": "e6c09c4e",
   "metadata": {},
   "source": [
    "consider how to account for multiple trips in one plan - compare each corresponding leg one by one and sum for a given plan's F?"
   ]
  },
  {
   "cell_type": "code",
   "execution_count": 23,
   "id": "d3c79509",
   "metadata": {},
   "outputs": [],
   "source": [
    "def get_modes_only_indices(activities_modes):\n",
    "    indices = []\n",
    "    for i in range(len(activities_modes)):\n",
    "        if activities_modes[i] in all_modes:\n",
    "            indices.append(i)\n",
    "    return indices"
   ]
  },
  {
   "cell_type": "code",
   "execution_count": 24,
   "id": "01b174fe",
   "metadata": {},
   "outputs": [],
   "source": [
    "def get_modes_info_only(plan_data, mode_indices):\n",
    "    modes = []\n",
    "    # activities = []\n",
    "    for i in range(len(plan_data)):\n",
    "        if i in mode_indices:\n",
    "            modes.append(plan_data[i])\n",
    "    return modes"
   ]
  },
  {
   "cell_type": "code",
   "execution_count": 28,
   "id": "4b3cba3b",
   "metadata": {},
   "outputs": [],
   "source": [
    "df[\"modes_indices\"] = df[\"selected plan activity_type_or_mode\"].apply(get_modes_only_indices)"
   ]
  },
  {
   "cell_type": "code",
   "execution_count": 29,
   "id": "08445f30",
   "metadata": {},
   "outputs": [],
   "source": [
    "df[\"selected modes_list\"] = df.apply(lambda row: get_modes_info_only(row['selected plan activity_type_or_mode'], row['modes_indices']),axis=1)\n",
    "df[\"unselected 1 modes_list\"] = df.apply(lambda row: get_modes_info_only(row['unselected plan (1) activity_type_or_mode'], row['modes_indices']),axis=1)\n",
    "df[\"unselected 2 modes_list\"] = df.apply(lambda row: get_modes_info_only(row['unselected plan (2) activity_type_or_mode'], row['modes_indices']),axis=1)\n",
    "df[\"unselected 3 modes_list\"] = df.apply(lambda row: get_modes_info_only(row['unselected plan (3) activity_type_or_mode'], row['modes_indices']),axis=1)\n",
    "df[\"unselected 4 modes_list\"] = df.apply(lambda row: get_modes_info_only(row['unselected plan (4) activity_type_or_mode'], row['modes_indices']),axis=1)"
   ]
  },
  {
   "cell_type": "code",
   "execution_count": 30,
   "id": "99f0e314",
   "metadata": {},
   "outputs": [],
   "source": [
    "df['plan_all_modes'] = df[['selected modes_list', 'unselected 1 modes_list', 'unselected 2 modes_list', 'unselected 3 modes_list', 'unselected 4 modes_list']].apply(lambda row: list(row), axis=1)\n",
    "df['plan_utilities'] = df[['selected plan utility', 'unselected plan (1) utility', 'unselected plan (2) utility', 'unselected plan (3) utility', 'unselected plan (4) utility']].apply(lambda row: list(row), axis=1)\n",
    "df['utility_modes'] = df.apply(lambda row: dict(zip(row['plan_utilities'], row['plan_all_modes'])), axis=1)"
   ]
  },
  {
   "cell_type": "markdown",
   "id": "68e50c00",
   "metadata": {},
   "source": [
    "Comparing whole plan as one thing"
   ]
  },
  {
   "cell_type": "code",
   "execution_count": 31,
   "id": "4c017f05",
   "metadata": {},
   "outputs": [],
   "source": [
    "df[\"delta_u_ij\"] = df[\"utility_modes\"].apply(get_delta_u_ij)\n",
    "df[\"delta_m_ij\"] = df[\"utility_modes\"].apply(get_delta_m_ij)\n",
    "df[\"f\"] = df.apply(lambda row: get_f_value(row['delta_u_ij'], row['delta_m_ij']), axis=1)"
   ]
  },
  {
   "cell_type": "code",
   "execution_count": 32,
   "id": "ac5ebf2e",
   "metadata": {},
   "outputs": [
    {
     "data": {
      "text/plain": [
       "0.10517741466415136"
      ]
     },
     "execution_count": 32,
     "metadata": {},
     "output_type": "execute_result"
    }
   ],
   "source": [
    "len(df[df[\"f\"]!=0])/len(df) "
   ]
  },
  {
   "cell_type": "markdown",
   "id": "4686719f",
   "metadata": {},
   "source": [
    "comparing plan legs  "
   ]
  },
  {
   "cell_type": "code",
   "execution_count": 34,
   "id": "b95be4ab",
   "metadata": {},
   "outputs": [
    {
     "data": {
      "text/plain": [
       "5"
      ]
     },
     "execution_count": 34,
     "metadata": {},
     "output_type": "execute_result"
    }
   ],
   "source": [
    "len(a[\"utility_modes\"][0])"
   ]
  },
  {
   "cell_type": "code",
   "execution_count": null,
   "id": "69613a97",
   "metadata": {},
   "outputs": [],
   "source": [
    "#this function definitely needs more work to make it a more refined comparison between modes \n",
    "def get_delta_m_ij_legs(utility_modes):\n",
    "    leg_delta_m_ij = []\n",
    "    unique_m = []\n",
    "    utility_modes = dict(sorted(utility_modes.items(), key=lambda item: item[0], reverse=True))  #is this sorting ok?\n",
    "    append_unique = lambda lst, val: (lst.append(val) or lst) if val not in lst else lst\n",
    "    for i in range(len(utility_modes[0])): #for each leg (number of legs constant)\n",
    "        \n",
    "\n",
    "\n",
    "\n",
    "\n",
    "        if ((list(utility_modes.values())[i] != list(utility_modes.values())[i+1]) and (list(utility_modes.values())[i+1] not in unique_m)):\n",
    "            temp_m = 1 \n",
    "        else:\n",
    "            temp_m = 0\n",
    "        delta_m_ij.append(temp_m)\n",
    "        append_unique(unique_m, list(utility_modes.values())[i]) #add the modes just considered to the list to discount them in future\n",
    "        append_unique(unique_m, list(utility_modes.values())[i+1])\n",
    "    return delta_m_ij"
   ]
  }
 ],
 "metadata": {
  "kernelspec": {
   "display_name": "synth",
   "language": "python",
   "name": "python3"
  },
  "language_info": {
   "codemirror_mode": {
    "name": "ipython",
    "version": 3
   },
   "file_extension": ".py",
   "mimetype": "text/x-python",
   "name": "python",
   "nbconvert_exporter": "python",
   "pygments_lexer": "ipython3",
   "version": "3.12.0"
  }
 },
 "nbformat": 4,
 "nbformat_minor": 5
}
